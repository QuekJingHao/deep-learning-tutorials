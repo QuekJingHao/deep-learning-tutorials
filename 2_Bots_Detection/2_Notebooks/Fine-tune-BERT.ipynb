{
 "cells": [
  {
   "cell_type": "markdown",
   "id": "ce280679-aee9-4c41-97c0-f6e8a354f401",
   "metadata": {},
   "source": [
    "# PyTorch for Natural Language Processing\n",
    "\n",
    "## Bot Detection using BERTModel\n",
    "\n",
    "---\n",
    "\n",
    "**<u>_Objective:_</u>** In this short project, we fine-tune a BERT pretrained model to classify tweets made by a bot, or by a human.\n",
    "\n",
    "This tutorial is inspired by the following walkthrough:\n",
    "\n",
    "https://saturncloud.io/blog/pytorch-for-natural-language-processing-building-a-fake-news-classification-model/"
   ]
  },
  {
   "cell_type": "code",
   "execution_count": null,
   "id": "1a7ab01a-65ee-42dd-a9e6-9dc3fd4fd3e1",
   "metadata": {},
   "outputs": [],
   "source": []
  },
  {
   "cell_type": "code",
   "execution_count": null,
   "id": "4deb68be-df1f-454c-b327-0690038843a8",
   "metadata": {},
   "outputs": [],
   "source": []
  },
  {
   "cell_type": "code",
   "execution_count": 1,
   "id": "c873fb4d-c6d1-4b41-8897-8bc16a9fb269",
   "metadata": {},
   "outputs": [],
   "source": [
    "# import dependencies and libraries\n",
    "import pandas as pd\n",
    "import numpy as np\n",
    "import glob\n",
    "import re\n",
    "import math\n",
    "import seaborn as sns\n",
    "import warnings\n",
    "import matplotlib.pyplot as plt\n",
    "\n",
    "sns.set_style('whitegrid')\n",
    "sns.set_theme(style = 'whitegrid', \n",
    "              rc    = {'figure.dpi'    : 400, \n",
    "                       'figure.figsize': (20, 12)}, \n",
    "              font_scale = 0.60)\n",
    "\n",
    "from matplotlib import rcParams\n",
    "rcParams.update({'figure.autolayout': True})\n",
    "\n",
    "pd.set_option('display.max_columns', None)\n",
    "pd.set_option('display.max_rows', 200)\n",
    "warnings.filterwarnings('ignore', category = UserWarning, module = 'openpyxl')"
   ]
  },
  {
   "cell_type": "code",
   "execution_count": null,
   "id": "700a7bca-33ed-44ec-829a-f7d18e808f80",
   "metadata": {},
   "outputs": [],
   "source": []
  },
  {
   "cell_type": "markdown",
   "id": "b491c0bf-d7e6-4345-9632-e9a7e83258f9",
   "metadata": {},
   "source": [
    "## Set up Environment for Google Colab"
   ]
  },
  {
   "cell_type": "code",
   "execution_count": null,
   "id": "06c0f14b-019f-48ef-b154-a22e78af6ac4",
   "metadata": {},
   "outputs": [],
   "source": [
    "from google.colab import drive\n",
    "drive.mount('/content/drive')"
   ]
  },
  {
   "cell_type": "code",
   "execution_count": 15,
   "id": "384eae10-c2fb-4b02-b893-564e6e9bee58",
   "metadata": {},
   "outputs": [
    {
     "name": "stdout",
     "output_type": "stream",
     "text": [
      "Current directory: I:\\My Drive\\Data Science and Analytics Portfolio\\3 Tutorials\\2_Bots_Detection\\2_Notebooks\n",
      "Root directory : I:\\My Drive\\Data Science and Analytics Portfolio\\3 Tutorials\\2_Bots_Detection\\\n",
      "Data directory : I:\\My Drive\\Data Science and Analytics Portfolio\\3 Tutorials\\2_Bots_Detection\\1_Data\\\n"
     ]
    }
   ],
   "source": [
    "import os\n",
    "\n",
    "# Get current and root directory\n",
    "cur_dir = os.getcwd()\n",
    "root_dir = cur_dir[:-11]\n",
    "data_dir = root_dir + \"1_Data\\\\\"\n",
    "\n",
    "print(f\"Current directory: {cur_dir}\\nRoot directory : {root_dir}\\nData directory : {data_dir}\")"
   ]
  },
  {
   "cell_type": "code",
   "execution_count": null,
   "id": "db240a6b-d127-4470-adce-43afec715e9a",
   "metadata": {},
   "outputs": [],
   "source": []
  },
  {
   "cell_type": "markdown",
   "id": "619a21bc-d1f2-4841-a5d4-aedfec4b93b6",
   "metadata": {},
   "source": [
    "## Read Datasets"
   ]
  },
  {
   "cell_type": "code",
   "execution_count": 18,
   "id": "11db2ba2-e587-4bbd-aa62-be93987a5633",
   "metadata": {},
   "outputs": [
    {
     "name": "stdout",
     "output_type": "stream",
     "text": [
      "Wall time: 2.31 s\n"
     ]
    }
   ],
   "source": [
    "%%time\n",
    "df_human = pd.read_csv(f\"{data_dir}/cresci-2015/TFP_tweets.csv\", encoding = 'latin-1')\n",
    "df_bot =pd.read_csv(f\"{data_dir}/cresci-2015/TWT_tweets.csv\", encoding = 'latin-1')"
   ]
  },
  {
   "cell_type": "code",
   "execution_count": 22,
   "id": "d6797d47-94ab-445c-bd52-f086c215ef91",
   "metadata": {},
   "outputs": [
    {
     "name": "stdout",
     "output_type": "stream",
     "text": [
      "Length of human dataframe : 563693\n",
      "Legnth of bots dataframe : 114192\n"
     ]
    }
   ],
   "source": [
    "print(f\"Length of human dataframe : {len(df_human)}\\nLegnth of bots dataframe : {len(df_bot)}\")"
   ]
  },
  {
   "cell_type": "code",
   "execution_count": null,
   "id": "a10a3b87-f05b-419a-b39c-cb9c243b64e3",
   "metadata": {},
   "outputs": [],
   "source": []
  },
  {
   "cell_type": "code",
   "execution_count": null,
   "id": "5b319882-7ee5-470a-b507-12ee01f449c9",
   "metadata": {},
   "outputs": [],
   "source": []
  },
  {
   "cell_type": "code",
   "execution_count": null,
   "id": "6b91de1c-faf9-4ae3-b0ff-150aa411b4d9",
   "metadata": {},
   "outputs": [],
   "source": []
  },
  {
   "cell_type": "code",
   "execution_count": null,
   "id": "56cf76c8-0d87-499d-ab60-5792363f0c31",
   "metadata": {},
   "outputs": [],
   "source": []
  },
  {
   "cell_type": "markdown",
   "id": "8b4034ea-af94-4328-b429-b8aff358fd78",
   "metadata": {},
   "source": [
    "Usually, we want to perform some rudimentary data cleaning steps on the dataset before we use it for training. Typically, this involves:\n",
    "- Removing special characters"
   ]
  },
  {
   "cell_type": "code",
   "execution_count": null,
   "id": "0a46898c-b1db-4200-9c48-c15401eb7503",
   "metadata": {},
   "outputs": [],
   "source": []
  },
  {
   "cell_type": "code",
   "execution_count": 20,
   "id": "4f66d0ae-3e6c-4de2-b11a-b3081b26a855",
   "metadata": {},
   "outputs": [
    {
     "data": {
      "text/html": [
       "<div>\n",
       "<style scoped>\n",
       "    .dataframe tbody tr th:only-of-type {\n",
       "        vertical-align: middle;\n",
       "    }\n",
       "\n",
       "    .dataframe tbody tr th {\n",
       "        vertical-align: top;\n",
       "    }\n",
       "\n",
       "    .dataframe thead th {\n",
       "        text-align: right;\n",
       "    }\n",
       "</style>\n",
       "<table border=\"1\" class=\"dataframe\">\n",
       "  <thead>\n",
       "    <tr style=\"text-align: right;\">\n",
       "      <th></th>\n",
       "      <th>id</th>\n",
       "      <th>text</th>\n",
       "    </tr>\n",
       "  </thead>\n",
       "  <tbody>\n",
       "    <tr>\n",
       "      <th>0</th>\n",
       "      <td>282123910303080448</td>\n",
       "      <td>@TheFakeProject cerca followers reali!!! #ImNo...</td>\n",
       "    </tr>\n",
       "    <tr>\n",
       "      <th>1</th>\n",
       "      <td>276204184393641984</td>\n",
       "      <td>RT @laperniconi: Cosa ci metteremo quest'anno ...</td>\n",
       "    </tr>\n",
       "    <tr>\n",
       "      <th>2</th>\n",
       "      <td>276203000333217792</td>\n",
       "      <td>RT @wontcallyouback: #faiunadomandaalpapa ha m...</td>\n",
       "    </tr>\n",
       "    <tr>\n",
       "      <th>3</th>\n",
       "      <td>248805120802959362</td>\n",
       "      <td>RT @nausea_17: I tifosi del Napoli si picchian...</td>\n",
       "    </tr>\n",
       "    <tr>\n",
       "      <th>4</th>\n",
       "      <td>244442004661096448</td>\n",
       "      <td>@ioeilmiopc buonanotte a te che mi apri un mon...</td>\n",
       "    </tr>\n",
       "    <tr>\n",
       "      <th>...</th>\n",
       "      <td>...</td>\n",
       "      <td>...</td>\n",
       "    </tr>\n",
       "    <tr>\n",
       "      <th>563688</th>\n",
       "      <td>301650553560236032</td>\n",
       "      <td>Grandi cambiamenti in @WindowsItalia: R.I.P. @...</td>\n",
       "    </tr>\n",
       "    <tr>\n",
       "      <th>563689</th>\n",
       "      <td>301649859755253760</td>\n",
       "      <td>R.I.P.  @Windows Live Mesh! http://t.co/mQWd472z</td>\n",
       "    </tr>\n",
       "    <tr>\n",
       "      <th>563690</th>\n",
       "      <td>301336196020305920</td>\n",
       "      <td>RT @MSFTnews: New @Xbox numbers: 76M @Xbox con...</td>\n",
       "    </tr>\n",
       "    <tr>\n",
       "      <th>563691</th>\n",
       "      <td>300873489357885440</td>\n",
       "      <td>RT @Microsoft: All of our meetings at work loo...</td>\n",
       "    </tr>\n",
       "    <tr>\n",
       "      <th>563692</th>\n",
       "      <td>299968502452867073</td>\n",
       "      <td>Mi piace Dropbox perchÃÂ© PerchÃÂ© ÃÂ¨ util...</td>\n",
       "    </tr>\n",
       "  </tbody>\n",
       "</table>\n",
       "<p>563693 rows × 2 columns</p>\n",
       "</div>"
      ],
      "text/plain": [
       "                        id                                               text\n",
       "0       282123910303080448  @TheFakeProject cerca followers reali!!! #ImNo...\n",
       "1       276204184393641984  RT @laperniconi: Cosa ci metteremo quest'anno ...\n",
       "2       276203000333217792  RT @wontcallyouback: #faiunadomandaalpapa ha m...\n",
       "3       248805120802959362  RT @nausea_17: I tifosi del Napoli si picchian...\n",
       "4       244442004661096448  @ioeilmiopc buonanotte a te che mi apri un mon...\n",
       "...                    ...                                                ...\n",
       "563688  301650553560236032  Grandi cambiamenti in @WindowsItalia: R.I.P. @...\n",
       "563689  301649859755253760   R.I.P.  @Windows Live Mesh! http://t.co/mQWd472z\n",
       "563690  301336196020305920  RT @MSFTnews: New @Xbox numbers: 76M @Xbox con...\n",
       "563691  300873489357885440  RT @Microsoft: All of our meetings at work loo...\n",
       "563692  299968502452867073  Mi piace Dropbox perchÃÂ© PerchÃÂ© ÃÂ¨ util...\n",
       "\n",
       "[563693 rows x 2 columns]"
      ]
     },
     "execution_count": 20,
     "metadata": {},
     "output_type": "execute_result"
    }
   ],
   "source": [
    "# Access only the subdataframes\n",
    "df_human_select = df_human[['id', 'text']].copy()\n",
    "\n",
    "\n",
    "df_human_select"
   ]
  },
  {
   "cell_type": "code",
   "execution_count": null,
   "id": "55208934-b2a4-44a9-9fe1-6c70d016d06a",
   "metadata": {},
   "outputs": [],
   "source": []
  },
  {
   "cell_type": "markdown",
   "id": "97eb1f57-1391-437f-9730-ce24761bdeb0",
   "metadata": {},
   "source": [
    "## Parameters Declarations"
   ]
  },
  {
   "cell_type": "code",
   "execution_count": null,
   "id": "de642731-e7b7-4bba-bb2b-1925e8490067",
   "metadata": {},
   "outputs": [],
   "source": []
  },
  {
   "cell_type": "code",
   "execution_count": null,
   "id": "2c62fbeb-9807-4720-83a1-ea5d40670252",
   "metadata": {},
   "outputs": [],
   "source": []
  },
  {
   "cell_type": "code",
   "execution_count": null,
   "id": "a430f71f-aac2-4546-844f-90f2c22251e9",
   "metadata": {},
   "outputs": [],
   "source": []
  },
  {
   "cell_type": "markdown",
   "id": "ef599042-26e1-460f-be8f-36d7cdda2e94",
   "metadata": {},
   "source": [
    "## Load BERT Model"
   ]
  },
  {
   "cell_type": "code",
   "execution_count": null,
   "id": "465d636e-9afa-4cd3-ae85-c449eceb53b3",
   "metadata": {},
   "outputs": [],
   "source": []
  },
  {
   "cell_type": "code",
   "execution_count": null,
   "id": "f6004953-20ee-470c-9d57-bb10c9e09066",
   "metadata": {},
   "outputs": [],
   "source": []
  },
  {
   "cell_type": "markdown",
   "id": "d30a03e1-05a3-4687-a21e-87ff1dfe9ac5",
   "metadata": {},
   "source": [
    "## Train BERT Model"
   ]
  },
  {
   "cell_type": "code",
   "execution_count": null,
   "id": "51924f2a-ce13-4200-8cce-b58e72174725",
   "metadata": {},
   "outputs": [],
   "source": []
  },
  {
   "cell_type": "code",
   "execution_count": null,
   "id": "1948abb5-9fb7-45a1-b8ff-7bbc7173e560",
   "metadata": {},
   "outputs": [],
   "source": []
  },
  {
   "cell_type": "markdown",
   "id": "55895f85-be0d-4b55-ac4c-b99fd6101f79",
   "metadata": {},
   "source": [
    "## Model Prediction"
   ]
  },
  {
   "cell_type": "code",
   "execution_count": null,
   "id": "3684c763-37b9-4c45-bcda-21f3e19911fd",
   "metadata": {},
   "outputs": [],
   "source": []
  },
  {
   "cell_type": "code",
   "execution_count": null,
   "id": "a86bf29b-870d-499b-a565-6f77c5202f18",
   "metadata": {},
   "outputs": [],
   "source": []
  },
  {
   "cell_type": "code",
   "execution_count": null,
   "id": "bbafb898-f469-4045-b1b9-12639144015e",
   "metadata": {},
   "outputs": [],
   "source": []
  }
 ],
 "metadata": {
  "kernelspec": {
   "display_name": "Python 3 (ipykernel)",
   "language": "python",
   "name": "python3"
  },
  "language_info": {
   "codemirror_mode": {
    "name": "ipython",
    "version": 3
   },
   "file_extension": ".py",
   "mimetype": "text/x-python",
   "name": "python",
   "nbconvert_exporter": "python",
   "pygments_lexer": "ipython3",
   "version": "3.9.13"
  }
 },
 "nbformat": 4,
 "nbformat_minor": 5
}
