{
 "cells": [
  {
   "cell_type": "markdown",
   "id": "1b8af6f8-b559-4bff-89bc-fc370e6133f3",
   "metadata": {
    "id": "1b8af6f8-b559-4bff-89bc-fc370e6133f3"
   },
   "source": [
    "# BERT Tutorial: Using BERTModel\n",
    "\n",
    "#### **<ins>Version:</ins>**\n",
    "@March 2023 / Quek Jing Hao\n",
    "\n",
    "\n",
    "#### _<ins>**Objective</ins>:**_ \n",
    "\n",
    "Learn to extract sentence vectors from BERTModel, and be comfortable in using BERTModel in the transformers package.\n",
    "\n",
    "\n",
    "#### **<ins>Introduction:</ins>**\n",
    "\n",
    "Just to recap, in NLP, we use a model to transform text into a vector of floats. This technique is called sentence embedding. In this walkthrough, we shall use the BERTModel to access the sentence embeddings. After some manipulations on the sentence vectors to a dataframe of feature vectors, we will send that dataframe into a few different machine learning classifiers.\n",
    "\n",
    "Because BERTModel is a deep learning model, it is extremely computationally intensive. Hence, we require GPU for this tutorial, we'll just use Google Colab's free GPU instance. As this notebook is self-contained, and you do not need to download the dataset together with this notebook. We will download the dataset by cloning the sample datasets repository hosted on my Github.\n",
    "\n",
    "In this tutorial, we do a simple walkthrough by using BERTModel for sentiment analysis. We will use a BERTModel to predict if a sentiment is positive or negative. \n",
    "\n",
    "### Environment Configuration\n",
    "\n",
    "First, we need to set up the environment in Google Colab - we need to download some packages not available in Google Colab. We can use the magic function to surppress the output."
   ]
  },
  {
   "cell_type": "code",
   "execution_count": 10,
   "id": "WFqm2uhzsFym",
   "metadata": {
    "executionInfo": {
     "elapsed": 19482,
     "status": "ok",
     "timestamp": 1685954164147,
     "user": {
      "displayName": "Radium-224",
      "userId": "15343147490351956333"
     },
     "user_tz": -480
    },
    "id": "WFqm2uhzsFym"
   },
   "outputs": [],
   "source": [
    "%%capture\n",
    "!pip install datasets\n",
    "!pip install evaluate\n",
    "!pip install fastBPE sacremoses subword_nmt sentencepiece\n",
    "!pip install transformers"
   ]
  },
  {
   "cell_type": "code",
   "execution_count": 11,
   "id": "5dff4e96-18e7-4f9e-9725-dcd5c3bf1e18",
   "metadata": {
    "executionInfo": {
     "elapsed": 15,
     "status": "ok",
     "timestamp": 1685954164148,
     "user": {
      "displayName": "Radium-224",
      "userId": "15343147490351956333"
     },
     "user_tz": -480
    },
    "id": "5dff4e96-18e7-4f9e-9725-dcd5c3bf1e18"
   },
   "outputs": [],
   "source": [
    "# import modules and dependencies\n",
    "import numpy as np\n",
    "import pandas as pd\n",
    "import re\n",
    "import torch\n",
    "\n",
    "from datasets.dataset_dict import DatasetDict, Dataset\n",
    "\n",
    "from sklearn.svm import SVC\n",
    "from sklearn.naive_bayes import GaussianNB\n",
    "from sklearn.neighbors import KNeighborsClassifier\n",
    "from sklearn.ensemble import RandomForestClassifier\n",
    "from sklearn.ensemble import GradientBoostingClassifier\n",
    "from sklearn.neighbors import KNeighborsClassifier\n",
    "from sklearn.linear_model import LogisticRegression\n",
    "from sklearn.model_selection import GridSearchCV\n",
    "from sklearn.model_selection import train_test_split\n",
    "from sklearn.feature_extraction.text import CountVectorizer\n",
    "from sklearn.feature_extraction.text import TfidfVectorizer\n",
    "\n",
    "from sklearn.metrics import roc_auc_score\n",
    "from sklearn.metrics import recall_score\n",
    "from sklearn.metrics import precision_score\n",
    "from sklearn.metrics import f1_score\n",
    "from sklearn.metrics import confusion_matrix\n",
    "\n",
    "from sklearn.model_selection import train_test_split\n",
    "from transformers import AutoTokenizer, DataCollatorWithPadding\n",
    "from transformers import get_scheduler\n",
    "from transformers import BertModel, BertTokenizer\n",
    "from transformers import EarlyStoppingCallback\n",
    "from transformers import TrainingArguments, Trainer\n",
    "from transformers import AutoModelForSequenceClassification\n",
    "\n",
    "pd.set_option('display.max_colwidth', 1000)"
   ]
  },
  {
   "cell_type": "markdown",
   "id": "0a0f531b-8f89-4acc-9f1b-11a0a78dc2a7",
   "metadata": {
    "id": "0a0f531b-8f89-4acc-9f1b-11a0a78dc2a7"
   },
   "source": [
    "Next, we determine if GPU is available. If you are using Google Colab's GPU, yopu'll see the name of the GPU instance"
   ]
  },
  {
   "cell_type": "code",
   "execution_count": 12,
   "id": "1a2f0563-d58f-43f4-9757-b4e0d684d89c",
   "metadata": {
    "colab": {
     "base_uri": "https://localhost:8080/"
    },
    "executionInfo": {
     "elapsed": 15,
     "status": "ok",
     "timestamp": 1685954164149,
     "user": {
      "displayName": "Radium-224",
      "userId": "15343147490351956333"
     },
     "user_tz": -480
    },
    "id": "1a2f0563-d58f-43f4-9757-b4e0d684d89c",
    "outputId": "de56be83-6061-4883-cdfb-7a4305ef20e6"
   },
   "outputs": [
    {
     "name": "stdout",
     "output_type": "stream",
     "text": [
      "Detected device: Tesla T4\n"
     ]
    }
   ],
   "source": [
    "detected_device = torch.device('cuda' if torch.cuda.is_available() else 'cpu')\n",
    "try:\n",
    "    device_name = torch.cuda.get_device_name()\n",
    "except:\n",
    "    device_name = 'CPU'\n",
    "print(f'Detected device: {device_name}')"
   ]
  },
  {
   "cell_type": "markdown",
   "id": "913c2d6b-0d1f-42ce-a818-991c78ad7f65",
   "metadata": {
    "id": "913c2d6b-0d1f-42ce-a818-991c78ad7f65"
   },
   "source": [
    "### Read Dataset\n",
    "\n",
    "In this tutorial, we will use the IMDB movies dataset. The dataset consist of 50K movie reviews, each review has a sentiment - tagged positive or negative. \n",
    "\n",
    "Learn more about the dataset here https://www.kaggle.com/datasets/lakshmi25npathi/imdb-dataset-of-50k-movie-reviews\n",
    "\n",
    "The dataset will be downloaded from my Github's Sample Datasets repository."
   ]
  },
  {
   "cell_type": "code",
   "execution_count": 13,
   "id": "AxRTfrcbdGQb",
   "metadata": {
    "colab": {
     "base_uri": "https://localhost:8080/"
    },
    "executionInfo": {
     "elapsed": 564,
     "status": "ok",
     "timestamp": 1685954164702,
     "user": {
      "displayName": "Radium-224",
      "userId": "15343147490351956333"
     },
     "user_tz": -480
    },
    "id": "AxRTfrcbdGQb",
    "outputId": "c69cb245-ec3d-4816-a6c5-ac0dcadca632"
   },
   "outputs": [
    {
     "name": "stdout",
     "output_type": "stream",
     "text": [
      "fatal: destination path 'imdb-sample-dataset' already exists and is not an empty directory.\n"
     ]
    }
   ],
   "source": [
    "!git clone https://github.com/QuekJingHao/imdb-sample-dataset.git"
   ]
  },
  {
   "cell_type": "code",
   "execution_count": 14,
   "id": "kYnjLMxwqYPj",
   "metadata": {
    "colab": {
     "base_uri": "https://localhost:8080/",
     "height": 277
    },
    "executionInfo": {
     "elapsed": 48,
     "status": "ok",
     "timestamp": 1685954164703,
     "user": {
      "displayName": "Radium-224",
      "userId": "15343147490351956333"
     },
     "user_tz": -480
    },
    "id": "kYnjLMxwqYPj",
    "outputId": "2c4a60aa-1fea-4721-aa44-5e496f0ae030"
   },
   "outputs": [
    {
     "data": {
      "text/html": [
       "\n",
       "  <div id=\"df-f29787f6-63fd-4133-8529-c25da180b9e6\">\n",
       "    <div class=\"colab-df-container\">\n",
       "      <div>\n",
       "<style scoped>\n",
       "    .dataframe tbody tr th:only-of-type {\n",
       "        vertical-align: middle;\n",
       "    }\n",
       "\n",
       "    .dataframe tbody tr th {\n",
       "        vertical-align: top;\n",
       "    }\n",
       "\n",
       "    .dataframe thead th {\n",
       "        text-align: right;\n",
       "    }\n",
       "</style>\n",
       "<table border=\"1\" class=\"dataframe\">\n",
       "  <thead>\n",
       "    <tr style=\"text-align: right;\">\n",
       "      <th></th>\n",
       "      <th>Unnamed: 0</th>\n",
       "      <th>review</th>\n",
       "      <th>sentiment</th>\n",
       "    </tr>\n",
       "  </thead>\n",
       "  <tbody>\n",
       "    <tr>\n",
       "      <th>0</th>\n",
       "      <td>29430</td>\n",
       "      <td>I love most movies and I'm a big fan of Sean Bean so I thought that I would at least LIKE this movie. Also, I'm Canadian and this is a mostly-Canadian movie so I was prepared to cut it some serious slack. Nothing could have prepared me for the garbage that is \"Airborne\". Steve Guttenberg as an action hero? Give me a break. The acting throughout the movie was so bad I am going to have trouble sleeping tonight. I now have only two wishes in my life.&lt;br /&gt;&lt;br /&gt;1. I hope that you never have to sit through this movie. 2. I wish I could get those 6 hours back. Oh wait, the movie's under 2 hours - it only seemed like 6 hours...&lt;br /&gt;&lt;br /&gt;Don't watch this. Seriously.</td>\n",
       "      <td>negative</td>\n",
       "    </tr>\n",
       "    <tr>\n",
       "      <th>1</th>\n",
       "      <td>27750</td>\n",
       "      <td>A film that tends to get buried under prejudice and preconception - It's a remake! Doris Day is in it! She sings! - Hitchcock's second crack at 'The Man Who Knew Too Much' is his most under-rated film, and arguably a fully fledged masterpiece in its own right.&lt;br /&gt;&lt;br /&gt;This is, in more ways than one, Doris Day's film. Not only does she give the finest performance of her career, more than holding her own against James Stewart, but the whole film is subtly structured around her character rather than his. This is, after all, a film in which music is both motif and plot device. What better casting than the most popular singer of her generation? Consider: Day's Jo McKenna has given up her career on the stage in order to settle down with her husband and raise their son. This seems to be a mutual decision, and she doesn't appear to be unhappy. But look at the way Stewart teases her in the horse-drawn carriage over her concerns about Louis Bernard, implying that she is jealous that Berna...</td>\n",
       "      <td>positive</td>\n",
       "    </tr>\n",
       "  </tbody>\n",
       "</table>\n",
       "</div>\n",
       "      <button class=\"colab-df-convert\" onclick=\"convertToInteractive('df-f29787f6-63fd-4133-8529-c25da180b9e6')\"\n",
       "              title=\"Convert this dataframe to an interactive table.\"\n",
       "              style=\"display:none;\">\n",
       "        \n",
       "  <svg xmlns=\"http://www.w3.org/2000/svg\" height=\"24px\"viewBox=\"0 0 24 24\"\n",
       "       width=\"24px\">\n",
       "    <path d=\"M0 0h24v24H0V0z\" fill=\"none\"/>\n",
       "    <path d=\"M18.56 5.44l.94 2.06.94-2.06 2.06-.94-2.06-.94-.94-2.06-.94 2.06-2.06.94zm-11 1L8.5 8.5l.94-2.06 2.06-.94-2.06-.94L8.5 2.5l-.94 2.06-2.06.94zm10 10l.94 2.06.94-2.06 2.06-.94-2.06-.94-.94-2.06-.94 2.06-2.06.94z\"/><path d=\"M17.41 7.96l-1.37-1.37c-.4-.4-.92-.59-1.43-.59-.52 0-1.04.2-1.43.59L10.3 9.45l-7.72 7.72c-.78.78-.78 2.05 0 2.83L4 21.41c.39.39.9.59 1.41.59.51 0 1.02-.2 1.41-.59l7.78-7.78 2.81-2.81c.8-.78.8-2.07 0-2.86zM5.41 20L4 18.59l7.72-7.72 1.47 1.35L5.41 20z\"/>\n",
       "  </svg>\n",
       "      </button>\n",
       "      \n",
       "  <style>\n",
       "    .colab-df-container {\n",
       "      display:flex;\n",
       "      flex-wrap:wrap;\n",
       "      gap: 12px;\n",
       "    }\n",
       "\n",
       "    .colab-df-convert {\n",
       "      background-color: #E8F0FE;\n",
       "      border: none;\n",
       "      border-radius: 50%;\n",
       "      cursor: pointer;\n",
       "      display: none;\n",
       "      fill: #1967D2;\n",
       "      height: 32px;\n",
       "      padding: 0 0 0 0;\n",
       "      width: 32px;\n",
       "    }\n",
       "\n",
       "    .colab-df-convert:hover {\n",
       "      background-color: #E2EBFA;\n",
       "      box-shadow: 0px 1px 2px rgba(60, 64, 67, 0.3), 0px 1px 3px 1px rgba(60, 64, 67, 0.15);\n",
       "      fill: #174EA6;\n",
       "    }\n",
       "\n",
       "    [theme=dark] .colab-df-convert {\n",
       "      background-color: #3B4455;\n",
       "      fill: #D2E3FC;\n",
       "    }\n",
       "\n",
       "    [theme=dark] .colab-df-convert:hover {\n",
       "      background-color: #434B5C;\n",
       "      box-shadow: 0px 1px 3px 1px rgba(0, 0, 0, 0.15);\n",
       "      filter: drop-shadow(0px 1px 2px rgba(0, 0, 0, 0.3));\n",
       "      fill: #FFFFFF;\n",
       "    }\n",
       "  </style>\n",
       "\n",
       "      <script>\n",
       "        const buttonEl =\n",
       "          document.querySelector('#df-f29787f6-63fd-4133-8529-c25da180b9e6 button.colab-df-convert');\n",
       "        buttonEl.style.display =\n",
       "          google.colab.kernel.accessAllowed ? 'block' : 'none';\n",
       "\n",
       "        async function convertToInteractive(key) {\n",
       "          const element = document.querySelector('#df-f29787f6-63fd-4133-8529-c25da180b9e6');\n",
       "          const dataTable =\n",
       "            await google.colab.kernel.invokeFunction('convertToInteractive',\n",
       "                                                     [key], {});\n",
       "          if (!dataTable) return;\n",
       "\n",
       "          const docLinkHtml = 'Like what you see? Visit the ' +\n",
       "            '<a target=\"_blank\" href=https://colab.research.google.com/notebooks/data_table.ipynb>data table notebook</a>'\n",
       "            + ' to learn more about interactive tables.';\n",
       "          element.innerHTML = '';\n",
       "          dataTable['output_type'] = 'display_data';\n",
       "          await google.colab.output.renderOutput(dataTable, element);\n",
       "          const docLink = document.createElement('div');\n",
       "          docLink.innerHTML = docLinkHtml;\n",
       "          element.appendChild(docLink);\n",
       "        }\n",
       "      </script>\n",
       "    </div>\n",
       "  </div>\n",
       "  "
      ],
      "text/plain": [
       "   Unnamed: 0  \\\n",
       "0       29430   \n",
       "1       27750   \n",
       "\n",
       "                                                                                                                                                                                                                                                                                                                                                                                                                                                                                                                                                                                                                                                                                                                                                                                                                                                                                                                                                                                                                                    review  \\\n",
       "0                                                                                                                                                                                                                                                                                                                                            I love most movies and I'm a big fan of Sean Bean so I thought that I would at least LIKE this movie. Also, I'm Canadian and this is a mostly-Canadian movie so I was prepared to cut it some serious slack. Nothing could have prepared me for the garbage that is \"Airborne\". Steve Guttenberg as an action hero? Give me a break. The acting throughout the movie was so bad I am going to have trouble sleeping tonight. I now have only two wishes in my life.<br /><br />1. I hope that you never have to sit through this movie. 2. I wish I could get those 6 hours back. Oh wait, the movie's under 2 hours - it only seemed like 6 hours...<br /><br />Don't watch this. Seriously.   \n",
       "1  A film that tends to get buried under prejudice and preconception - It's a remake! Doris Day is in it! She sings! - Hitchcock's second crack at 'The Man Who Knew Too Much' is his most under-rated film, and arguably a fully fledged masterpiece in its own right.<br /><br />This is, in more ways than one, Doris Day's film. Not only does she give the finest performance of her career, more than holding her own against James Stewart, but the whole film is subtly structured around her character rather than his. This is, after all, a film in which music is both motif and plot device. What better casting than the most popular singer of her generation? Consider: Day's Jo McKenna has given up her career on the stage in order to settle down with her husband and raise their son. This seems to be a mutual decision, and she doesn't appear to be unhappy. But look at the way Stewart teases her in the horse-drawn carriage over her concerns about Louis Bernard, implying that she is jealous that Berna...   \n",
       "\n",
       "  sentiment  \n",
       "0  negative  \n",
       "1  positive  "
      ]
     },
     "execution_count": 14,
     "metadata": {},
     "output_type": "execute_result"
    }
   ],
   "source": [
    "df = pd.read_csv('/content/imdb-sample-dataset/imdb_sample.csv')\n",
    "df.head(2)"
   ]
  },
  {
   "cell_type": "markdown",
   "id": "cdeff197-3ebe-4907-96e4-96c4fd586932",
   "metadata": {
    "id": "cdeff197-3ebe-4907-96e4-96c4fd586932",
    "tags": []
   },
   "source": [
    "### Data Cleaning and Sampling\n",
    "\n",
    "Usually text data is never clean. This is especially so for comments, tweets, reviews. Unless the text you are dealing with is from an authoritative source, text data typically contains lexical, grammatical and spelling erros. So, depending on the situation or the use case, the user has to perform several data cleaning steps to remove say special characters etc. Just as an example, we will defne a text processing function to perform the following actions:\n",
    "\n",
    "1. Remove special characters (e.g. line breaks)\n",
    "2. Lowercase all words in the reviews and remove all starting and sending white spaces"
   ]
  },
  {
   "cell_type": "code",
   "execution_count": 15,
   "id": "98aa0064-4407-4906-b99e-efa7b799d5c1",
   "metadata": {
    "executionInfo": {
     "elapsed": 46,
     "status": "ok",
     "timestamp": 1685954164704,
     "user": {
      "displayName": "Radium-224",
      "userId": "15343147490351956333"
     },
     "user_tz": -480
    },
    "id": "98aa0064-4407-4906-b99e-efa7b799d5c1"
   },
   "outputs": [],
   "source": [
    "def text_processing(text):\n",
    "    \n",
    "    remove_breaks = r\"<br />\"\n",
    "\n",
    "    text_rtn = re.sub(remove_breaks, ' ', text)\n",
    "\n",
    "    return text_rtn.lower().strip()"
   ]
  },
  {
   "cell_type": "code",
   "execution_count": 16,
   "id": "accb0dd6-8fbb-4b46-9048-df0098427405",
   "metadata": {
    "colab": {
     "base_uri": "https://localhost:8080/",
     "height": 399
    },
    "executionInfo": {
     "elapsed": 46,
     "status": "ok",
     "timestamp": 1685954164705,
     "user": {
      "displayName": "Radium-224",
      "userId": "15343147490351956333"
     },
     "user_tz": -480
    },
    "id": "accb0dd6-8fbb-4b46-9048-df0098427405",
    "outputId": "951c7955-b61e-4602-cf91-a86fc9eaeee4"
   },
   "outputs": [
    {
     "data": {
      "text/html": [
       "\n",
       "  <div id=\"df-d8d5eedd-1c8b-4a22-81fb-52fd47eb700f\">\n",
       "    <div class=\"colab-df-container\">\n",
       "      <div>\n",
       "<style scoped>\n",
       "    .dataframe tbody tr th:only-of-type {\n",
       "        vertical-align: middle;\n",
       "    }\n",
       "\n",
       "    .dataframe tbody tr th {\n",
       "        vertical-align: top;\n",
       "    }\n",
       "\n",
       "    .dataframe thead th {\n",
       "        text-align: right;\n",
       "    }\n",
       "</style>\n",
       "<table border=\"1\" class=\"dataframe\">\n",
       "  <thead>\n",
       "    <tr style=\"text-align: right;\">\n",
       "      <th></th>\n",
       "      <th>Unnamed: 0</th>\n",
       "      <th>review</th>\n",
       "      <th>sentiment</th>\n",
       "      <th>clean review</th>\n",
       "    </tr>\n",
       "  </thead>\n",
       "  <tbody>\n",
       "    <tr>\n",
       "      <th>0</th>\n",
       "      <td>29430</td>\n",
       "      <td>I love most movies and I'm a big fan of Sean Bean so I thought that I would at least LIKE this movie. Also, I'm Canadian and this is a mostly-Canadian movie so I was prepared to cut it some serious slack. Nothing could have prepared me for the garbage that is \"Airborne\". Steve Guttenberg as an action hero? Give me a break. The acting throughout the movie was so bad I am going to have trouble sleeping tonight. I now have only two wishes in my life.&lt;br /&gt;&lt;br /&gt;1. I hope that you never have to sit through this movie. 2. I wish I could get those 6 hours back. Oh wait, the movie's under 2 hours - it only seemed like 6 hours...&lt;br /&gt;&lt;br /&gt;Don't watch this. Seriously.</td>\n",
       "      <td>negative</td>\n",
       "      <td>i love most movies and i'm a big fan of sean bean so i thought that i would at least like this movie. also, i'm canadian and this is a mostly-canadian movie so i was prepared to cut it some serious slack. nothing could have prepared me for the garbage that is \"airborne\". steve guttenberg as an action hero? give me a break. the acting throughout the movie was so bad i am going to have trouble sleeping tonight. i now have only two wishes in my life.  1. i hope that you never have to sit through this movie. 2. i wish i could get those 6 hours back. oh wait, the movie's under 2 hours - it only seemed like 6 hours...  don't watch this. seriously.</td>\n",
       "    </tr>\n",
       "    <tr>\n",
       "      <th>1</th>\n",
       "      <td>27750</td>\n",
       "      <td>A film that tends to get buried under prejudice and preconception - It's a remake! Doris Day is in it! She sings! - Hitchcock's second crack at 'The Man Who Knew Too Much' is his most under-rated film, and arguably a fully fledged masterpiece in its own right.&lt;br /&gt;&lt;br /&gt;This is, in more ways than one, Doris Day's film. Not only does she give the finest performance of her career, more than holding her own against James Stewart, but the whole film is subtly structured around her character rather than his. This is, after all, a film in which music is both motif and plot device. What better casting than the most popular singer of her generation? Consider: Day's Jo McKenna has given up her career on the stage in order to settle down with her husband and raise their son. This seems to be a mutual decision, and she doesn't appear to be unhappy. But look at the way Stewart teases her in the horse-drawn carriage over her concerns about Louis Bernard, implying that she is jealous that Berna...</td>\n",
       "      <td>positive</td>\n",
       "      <td>a film that tends to get buried under prejudice and preconception - it's a remake! doris day is in it! she sings! - hitchcock's second crack at 'the man who knew too much' is his most under-rated film, and arguably a fully fledged masterpiece in its own right.  this is, in more ways than one, doris day's film. not only does she give the finest performance of her career, more than holding her own against james stewart, but the whole film is subtly structured around her character rather than his. this is, after all, a film in which music is both motif and plot device. what better casting than the most popular singer of her generation? consider: day's jo mckenna has given up her career on the stage in order to settle down with her husband and raise their son. this seems to be a mutual decision, and she doesn't appear to be unhappy. but look at the way stewart teases her in the horse-drawn carriage over her concerns about louis bernard, implying that she is jealous that bernard wasn't ...</td>\n",
       "    </tr>\n",
       "  </tbody>\n",
       "</table>\n",
       "</div>\n",
       "      <button class=\"colab-df-convert\" onclick=\"convertToInteractive('df-d8d5eedd-1c8b-4a22-81fb-52fd47eb700f')\"\n",
       "              title=\"Convert this dataframe to an interactive table.\"\n",
       "              style=\"display:none;\">\n",
       "        \n",
       "  <svg xmlns=\"http://www.w3.org/2000/svg\" height=\"24px\"viewBox=\"0 0 24 24\"\n",
       "       width=\"24px\">\n",
       "    <path d=\"M0 0h24v24H0V0z\" fill=\"none\"/>\n",
       "    <path d=\"M18.56 5.44l.94 2.06.94-2.06 2.06-.94-2.06-.94-.94-2.06-.94 2.06-2.06.94zm-11 1L8.5 8.5l.94-2.06 2.06-.94-2.06-.94L8.5 2.5l-.94 2.06-2.06.94zm10 10l.94 2.06.94-2.06 2.06-.94-2.06-.94-.94-2.06-.94 2.06-2.06.94z\"/><path d=\"M17.41 7.96l-1.37-1.37c-.4-.4-.92-.59-1.43-.59-.52 0-1.04.2-1.43.59L10.3 9.45l-7.72 7.72c-.78.78-.78 2.05 0 2.83L4 21.41c.39.39.9.59 1.41.59.51 0 1.02-.2 1.41-.59l7.78-7.78 2.81-2.81c.8-.78.8-2.07 0-2.86zM5.41 20L4 18.59l7.72-7.72 1.47 1.35L5.41 20z\"/>\n",
       "  </svg>\n",
       "      </button>\n",
       "      \n",
       "  <style>\n",
       "    .colab-df-container {\n",
       "      display:flex;\n",
       "      flex-wrap:wrap;\n",
       "      gap: 12px;\n",
       "    }\n",
       "\n",
       "    .colab-df-convert {\n",
       "      background-color: #E8F0FE;\n",
       "      border: none;\n",
       "      border-radius: 50%;\n",
       "      cursor: pointer;\n",
       "      display: none;\n",
       "      fill: #1967D2;\n",
       "      height: 32px;\n",
       "      padding: 0 0 0 0;\n",
       "      width: 32px;\n",
       "    }\n",
       "\n",
       "    .colab-df-convert:hover {\n",
       "      background-color: #E2EBFA;\n",
       "      box-shadow: 0px 1px 2px rgba(60, 64, 67, 0.3), 0px 1px 3px 1px rgba(60, 64, 67, 0.15);\n",
       "      fill: #174EA6;\n",
       "    }\n",
       "\n",
       "    [theme=dark] .colab-df-convert {\n",
       "      background-color: #3B4455;\n",
       "      fill: #D2E3FC;\n",
       "    }\n",
       "\n",
       "    [theme=dark] .colab-df-convert:hover {\n",
       "      background-color: #434B5C;\n",
       "      box-shadow: 0px 1px 3px 1px rgba(0, 0, 0, 0.15);\n",
       "      filter: drop-shadow(0px 1px 2px rgba(0, 0, 0, 0.3));\n",
       "      fill: #FFFFFF;\n",
       "    }\n",
       "  </style>\n",
       "\n",
       "      <script>\n",
       "        const buttonEl =\n",
       "          document.querySelector('#df-d8d5eedd-1c8b-4a22-81fb-52fd47eb700f button.colab-df-convert');\n",
       "        buttonEl.style.display =\n",
       "          google.colab.kernel.accessAllowed ? 'block' : 'none';\n",
       "\n",
       "        async function convertToInteractive(key) {\n",
       "          const element = document.querySelector('#df-d8d5eedd-1c8b-4a22-81fb-52fd47eb700f');\n",
       "          const dataTable =\n",
       "            await google.colab.kernel.invokeFunction('convertToInteractive',\n",
       "                                                     [key], {});\n",
       "          if (!dataTable) return;\n",
       "\n",
       "          const docLinkHtml = 'Like what you see? Visit the ' +\n",
       "            '<a target=\"_blank\" href=https://colab.research.google.com/notebooks/data_table.ipynb>data table notebook</a>'\n",
       "            + ' to learn more about interactive tables.';\n",
       "          element.innerHTML = '';\n",
       "          dataTable['output_type'] = 'display_data';\n",
       "          await google.colab.output.renderOutput(dataTable, element);\n",
       "          const docLink = document.createElement('div');\n",
       "          docLink.innerHTML = docLinkHtml;\n",
       "          element.appendChild(docLink);\n",
       "        }\n",
       "      </script>\n",
       "    </div>\n",
       "  </div>\n",
       "  "
      ],
      "text/plain": [
       "   Unnamed: 0  \\\n",
       "0       29430   \n",
       "1       27750   \n",
       "\n",
       "                                                                                                                                                                                                                                                                                                                                                                                                                                                                                                                                                                                                                                                                                                                                                                                                                                                                                                                                                                                                                                    review  \\\n",
       "0                                                                                                                                                                                                                                                                                                                                            I love most movies and I'm a big fan of Sean Bean so I thought that I would at least LIKE this movie. Also, I'm Canadian and this is a mostly-Canadian movie so I was prepared to cut it some serious slack. Nothing could have prepared me for the garbage that is \"Airborne\". Steve Guttenberg as an action hero? Give me a break. The acting throughout the movie was so bad I am going to have trouble sleeping tonight. I now have only two wishes in my life.<br /><br />1. I hope that you never have to sit through this movie. 2. I wish I could get those 6 hours back. Oh wait, the movie's under 2 hours - it only seemed like 6 hours...<br /><br />Don't watch this. Seriously.   \n",
       "1  A film that tends to get buried under prejudice and preconception - It's a remake! Doris Day is in it! She sings! - Hitchcock's second crack at 'The Man Who Knew Too Much' is his most under-rated film, and arguably a fully fledged masterpiece in its own right.<br /><br />This is, in more ways than one, Doris Day's film. Not only does she give the finest performance of her career, more than holding her own against James Stewart, but the whole film is subtly structured around her character rather than his. This is, after all, a film in which music is both motif and plot device. What better casting than the most popular singer of her generation? Consider: Day's Jo McKenna has given up her career on the stage in order to settle down with her husband and raise their son. This seems to be a mutual decision, and she doesn't appear to be unhappy. But look at the way Stewart teases her in the horse-drawn carriage over her concerns about Louis Bernard, implying that she is jealous that Berna...   \n",
       "\n",
       "  sentiment  \\\n",
       "0  negative   \n",
       "1  positive   \n",
       "\n",
       "                                                                                                                                                                                                                                                                                                                                                                                                                                                                                                                                                                                                                                                                                                                                                                                                                                                                                                                                                                                                                              clean review  \n",
       "0                                                                                                                                                                                                                                                                                                                                                                i love most movies and i'm a big fan of sean bean so i thought that i would at least like this movie. also, i'm canadian and this is a mostly-canadian movie so i was prepared to cut it some serious slack. nothing could have prepared me for the garbage that is \"airborne\". steve guttenberg as an action hero? give me a break. the acting throughout the movie was so bad i am going to have trouble sleeping tonight. i now have only two wishes in my life.  1. i hope that you never have to sit through this movie. 2. i wish i could get those 6 hours back. oh wait, the movie's under 2 hours - it only seemed like 6 hours...  don't watch this. seriously.  \n",
       "1  a film that tends to get buried under prejudice and preconception - it's a remake! doris day is in it! she sings! - hitchcock's second crack at 'the man who knew too much' is his most under-rated film, and arguably a fully fledged masterpiece in its own right.  this is, in more ways than one, doris day's film. not only does she give the finest performance of her career, more than holding her own against james stewart, but the whole film is subtly structured around her character rather than his. this is, after all, a film in which music is both motif and plot device. what better casting than the most popular singer of her generation? consider: day's jo mckenna has given up her career on the stage in order to settle down with her husband and raise their son. this seems to be a mutual decision, and she doesn't appear to be unhappy. but look at the way stewart teases her in the horse-drawn carriage over her concerns about louis bernard, implying that she is jealous that bernard wasn't ...  "
      ]
     },
     "execution_count": 16,
     "metadata": {},
     "output_type": "execute_result"
    }
   ],
   "source": [
    "df['clean review'] = df['review'].apply(text_processing)\n",
    "\n",
    "df.head(2)"
   ]
  },
  {
   "cell_type": "markdown",
   "id": "043a6a2c-c343-4238-8d1f-ceee46007863",
   "metadata": {
    "id": "043a6a2c-c343-4238-8d1f-ceee46007863"
   },
   "source": [
    "Furthermore, we change the mapping of the sentiments by encoding from text to integers as follwows:\n",
    "- positive : 1\n",
    "- negative : 0\n",
    "\n",
    "To save computational time, we will only pick a sample of 10000 reviews out of the 50K movie reviews, so 1/5 of the entire dataset"
   ]
  },
  {
   "cell_type": "code",
   "execution_count": 17,
   "id": "6e8ce4af-cefa-4755-ad72-a90fd6a3842c",
   "metadata": {
    "colab": {
     "base_uri": "https://localhost:8080/",
     "height": 399
    },
    "executionInfo": {
     "elapsed": 43,
     "status": "ok",
     "timestamp": 1685954164705,
     "user": {
      "displayName": "Radium-224",
      "userId": "15343147490351956333"
     },
     "user_tz": -480
    },
    "id": "6e8ce4af-cefa-4755-ad72-a90fd6a3842c",
    "outputId": "c5f8663c-ef7c-4f45-f541-a284cb75c191"
   },
   "outputs": [
    {
     "data": {
      "text/html": [
       "\n",
       "  <div id=\"df-50e0a76d-a997-4d33-9f50-91b429b7f983\">\n",
       "    <div class=\"colab-df-container\">\n",
       "      <div>\n",
       "<style scoped>\n",
       "    .dataframe tbody tr th:only-of-type {\n",
       "        vertical-align: middle;\n",
       "    }\n",
       "\n",
       "    .dataframe tbody tr th {\n",
       "        vertical-align: top;\n",
       "    }\n",
       "\n",
       "    .dataframe thead th {\n",
       "        text-align: right;\n",
       "    }\n",
       "</style>\n",
       "<table border=\"1\" class=\"dataframe\">\n",
       "  <thead>\n",
       "    <tr style=\"text-align: right;\">\n",
       "      <th></th>\n",
       "      <th>Unnamed: 0</th>\n",
       "      <th>review</th>\n",
       "      <th>sentiment</th>\n",
       "      <th>clean review</th>\n",
       "    </tr>\n",
       "  </thead>\n",
       "  <tbody>\n",
       "    <tr>\n",
       "      <th>0</th>\n",
       "      <td>28344</td>\n",
       "      <td>This movie was not that good at all. Here is the first clue and that it is not gonna be a strong movie, Harrison Ford's name not only appears first but it is also bigger than the title. The music was nominated for an Oscar, What the heck was that? That music was probably the most annoying thing in the movie. The acting was sub par at best, except the Amish boy he did a decent job for being so young. Then you have the story which was weak and a little over the place, and it won for adapted! The music was horrid, I know I already said something but it was really bad. The premises was real good and it should be remade. Well that's all I really have on that.&lt;br /&gt;&lt;br /&gt;Your Average Movie Guy,&lt;br /&gt;&lt;br /&gt;-Trever</td>\n",
       "      <td>0</td>\n",
       "      <td>this movie was not that good at all. here is the first clue and that it is not gonna be a strong movie, harrison ford's name not only appears first but it is also bigger than the title. the music was nominated for an oscar, what the heck was that? that music was probably the most annoying thing in the movie. the acting was sub par at best, except the amish boy he did a decent job for being so young. then you have the story which was weak and a little over the place, and it won for adapted! the music was horrid, i know i already said something but it was really bad. the premises was real good and it should be remade. well that's all i really have on that.  your average movie guy,  -trever</td>\n",
       "    </tr>\n",
       "    <tr>\n",
       "      <th>1</th>\n",
       "      <td>36062</td>\n",
       "      <td>Kojak meets the mafia. Telly Savales is one of those guys from the past that seems pretty forgettable. I never thought that his show was all that great. This is his one dimensional characterization of a crime boss, with very predictable results. If you take the car chases and the general rambling out, there isn't much plot development or action. I find mafia movies to be dull because I have no respect or interest in common criminals and their actions. Hollywood, and in this case, the Italian cinema, treat these guys as heroes. I saw the film and in a few days I won't remember much about it. Lots of shooting, innocent bystanders dying, betrayal, and that sick loyalty. The film is photographed pretty well and the acting is decent. But the dubbing is so bad (due to voices that just couldn't come out of those bodies), that I almost started looking for Godzilla approaching the bay.</td>\n",
       "      <td>0</td>\n",
       "      <td>kojak meets the mafia. telly savales is one of those guys from the past that seems pretty forgettable. i never thought that his show was all that great. this is his one dimensional characterization of a crime boss, with very predictable results. if you take the car chases and the general rambling out, there isn't much plot development or action. i find mafia movies to be dull because i have no respect or interest in common criminals and their actions. hollywood, and in this case, the italian cinema, treat these guys as heroes. i saw the film and in a few days i won't remember much about it. lots of shooting, innocent bystanders dying, betrayal, and that sick loyalty. the film is photographed pretty well and the acting is decent. but the dubbing is so bad (due to voices that just couldn't come out of those bodies), that i almost started looking for godzilla approaching the bay.</td>\n",
       "    </tr>\n",
       "  </tbody>\n",
       "</table>\n",
       "</div>\n",
       "      <button class=\"colab-df-convert\" onclick=\"convertToInteractive('df-50e0a76d-a997-4d33-9f50-91b429b7f983')\"\n",
       "              title=\"Convert this dataframe to an interactive table.\"\n",
       "              style=\"display:none;\">\n",
       "        \n",
       "  <svg xmlns=\"http://www.w3.org/2000/svg\" height=\"24px\"viewBox=\"0 0 24 24\"\n",
       "       width=\"24px\">\n",
       "    <path d=\"M0 0h24v24H0V0z\" fill=\"none\"/>\n",
       "    <path d=\"M18.56 5.44l.94 2.06.94-2.06 2.06-.94-2.06-.94-.94-2.06-.94 2.06-2.06.94zm-11 1L8.5 8.5l.94-2.06 2.06-.94-2.06-.94L8.5 2.5l-.94 2.06-2.06.94zm10 10l.94 2.06.94-2.06 2.06-.94-2.06-.94-.94-2.06-.94 2.06-2.06.94z\"/><path d=\"M17.41 7.96l-1.37-1.37c-.4-.4-.92-.59-1.43-.59-.52 0-1.04.2-1.43.59L10.3 9.45l-7.72 7.72c-.78.78-.78 2.05 0 2.83L4 21.41c.39.39.9.59 1.41.59.51 0 1.02-.2 1.41-.59l7.78-7.78 2.81-2.81c.8-.78.8-2.07 0-2.86zM5.41 20L4 18.59l7.72-7.72 1.47 1.35L5.41 20z\"/>\n",
       "  </svg>\n",
       "      </button>\n",
       "      \n",
       "  <style>\n",
       "    .colab-df-container {\n",
       "      display:flex;\n",
       "      flex-wrap:wrap;\n",
       "      gap: 12px;\n",
       "    }\n",
       "\n",
       "    .colab-df-convert {\n",
       "      background-color: #E8F0FE;\n",
       "      border: none;\n",
       "      border-radius: 50%;\n",
       "      cursor: pointer;\n",
       "      display: none;\n",
       "      fill: #1967D2;\n",
       "      height: 32px;\n",
       "      padding: 0 0 0 0;\n",
       "      width: 32px;\n",
       "    }\n",
       "\n",
       "    .colab-df-convert:hover {\n",
       "      background-color: #E2EBFA;\n",
       "      box-shadow: 0px 1px 2px rgba(60, 64, 67, 0.3), 0px 1px 3px 1px rgba(60, 64, 67, 0.15);\n",
       "      fill: #174EA6;\n",
       "    }\n",
       "\n",
       "    [theme=dark] .colab-df-convert {\n",
       "      background-color: #3B4455;\n",
       "      fill: #D2E3FC;\n",
       "    }\n",
       "\n",
       "    [theme=dark] .colab-df-convert:hover {\n",
       "      background-color: #434B5C;\n",
       "      box-shadow: 0px 1px 3px 1px rgba(0, 0, 0, 0.15);\n",
       "      filter: drop-shadow(0px 1px 2px rgba(0, 0, 0, 0.3));\n",
       "      fill: #FFFFFF;\n",
       "    }\n",
       "  </style>\n",
       "\n",
       "      <script>\n",
       "        const buttonEl =\n",
       "          document.querySelector('#df-50e0a76d-a997-4d33-9f50-91b429b7f983 button.colab-df-convert');\n",
       "        buttonEl.style.display =\n",
       "          google.colab.kernel.accessAllowed ? 'block' : 'none';\n",
       "\n",
       "        async function convertToInteractive(key) {\n",
       "          const element = document.querySelector('#df-50e0a76d-a997-4d33-9f50-91b429b7f983');\n",
       "          const dataTable =\n",
       "            await google.colab.kernel.invokeFunction('convertToInteractive',\n",
       "                                                     [key], {});\n",
       "          if (!dataTable) return;\n",
       "\n",
       "          const docLinkHtml = 'Like what you see? Visit the ' +\n",
       "            '<a target=\"_blank\" href=https://colab.research.google.com/notebooks/data_table.ipynb>data table notebook</a>'\n",
       "            + ' to learn more about interactive tables.';\n",
       "          element.innerHTML = '';\n",
       "          dataTable['output_type'] = 'display_data';\n",
       "          await google.colab.output.renderOutput(dataTable, element);\n",
       "          const docLink = document.createElement('div');\n",
       "          docLink.innerHTML = docLinkHtml;\n",
       "          element.appendChild(docLink);\n",
       "        }\n",
       "      </script>\n",
       "    </div>\n",
       "  </div>\n",
       "  "
      ],
      "text/plain": [
       "   Unnamed: 0  \\\n",
       "0       28344   \n",
       "1       36062   \n",
       "\n",
       "                                                                                                                                                                                                                                                                                                                                                                                                                                                                                                                                                                                                                                                                                                                                                                                                                                                                                                                      review  \\\n",
       "0                                                                                                                                                                               This movie was not that good at all. Here is the first clue and that it is not gonna be a strong movie, Harrison Ford's name not only appears first but it is also bigger than the title. The music was nominated for an Oscar, What the heck was that? That music was probably the most annoying thing in the movie. The acting was sub par at best, except the Amish boy he did a decent job for being so young. Then you have the story which was weak and a little over the place, and it won for adapted! The music was horrid, I know I already said something but it was really bad. The premises was real good and it should be remade. Well that's all I really have on that.<br /><br />Your Average Movie Guy,<br /><br />-Trever   \n",
       "1  Kojak meets the mafia. Telly Savales is one of those guys from the past that seems pretty forgettable. I never thought that his show was all that great. This is his one dimensional characterization of a crime boss, with very predictable results. If you take the car chases and the general rambling out, there isn't much plot development or action. I find mafia movies to be dull because I have no respect or interest in common criminals and their actions. Hollywood, and in this case, the Italian cinema, treat these guys as heroes. I saw the film and in a few days I won't remember much about it. Lots of shooting, innocent bystanders dying, betrayal, and that sick loyalty. The film is photographed pretty well and the acting is decent. But the dubbing is so bad (due to voices that just couldn't come out of those bodies), that I almost started looking for Godzilla approaching the bay.   \n",
       "\n",
       "   sentiment  \\\n",
       "0          0   \n",
       "1          0   \n",
       "\n",
       "                                                                                                                                                                                                                                                                                                                                                                                                                                                                                                                                                                                                                                                                                                                                                                                                                                                                                                                clean review  \n",
       "0                                                                                                                                                                                                   this movie was not that good at all. here is the first clue and that it is not gonna be a strong movie, harrison ford's name not only appears first but it is also bigger than the title. the music was nominated for an oscar, what the heck was that? that music was probably the most annoying thing in the movie. the acting was sub par at best, except the amish boy he did a decent job for being so young. then you have the story which was weak and a little over the place, and it won for adapted! the music was horrid, i know i already said something but it was really bad. the premises was real good and it should be remade. well that's all i really have on that.  your average movie guy,  -trever  \n",
       "1  kojak meets the mafia. telly savales is one of those guys from the past that seems pretty forgettable. i never thought that his show was all that great. this is his one dimensional characterization of a crime boss, with very predictable results. if you take the car chases and the general rambling out, there isn't much plot development or action. i find mafia movies to be dull because i have no respect or interest in common criminals and their actions. hollywood, and in this case, the italian cinema, treat these guys as heroes. i saw the film and in a few days i won't remember much about it. lots of shooting, innocent bystanders dying, betrayal, and that sick loyalty. the film is photographed pretty well and the acting is decent. but the dubbing is so bad (due to voices that just couldn't come out of those bodies), that i almost started looking for godzilla approaching the bay.  "
      ]
     },
     "execution_count": 17,
     "metadata": {},
     "output_type": "execute_result"
    }
   ],
   "source": [
    "df['sentiment'] = df['sentiment'].replace({'positive' : 1, \n",
    "                                           'negative' : 0})\n",
    "\n",
    "df_sample = df.copy().sample(n = 10000, random_state = 32)\n",
    "df_sample = df_sample.reset_index(drop = True)\n",
    "\n",
    "df_sample.head(2)"
   ]
  },
  {
   "cell_type": "code",
   "execution_count": 18,
   "id": "1dc8d57c-2cae-43c7-9368-697054b956df",
   "metadata": {
    "colab": {
     "base_uri": "https://localhost:8080/"
    },
    "executionInfo": {
     "elapsed": 42,
     "status": "ok",
     "timestamp": 1685954164706,
     "user": {
      "displayName": "Radium-224",
      "userId": "15343147490351956333"
     },
     "user_tz": -480
    },
    "id": "1dc8d57c-2cae-43c7-9368-697054b956df",
    "outputId": "0209c3bd-c4a0-4609-e587-0632f18f8002"
   },
   "outputs": [
    {
     "data": {
      "text/plain": [
       "0    5012\n",
       "1    4988\n",
       "Name: sentiment, dtype: int64"
      ]
     },
     "execution_count": 18,
     "metadata": {},
     "output_type": "execute_result"
    }
   ],
   "source": [
    "df_sample['sentiment'].value_counts()"
   ]
  },
  {
   "cell_type": "markdown",
   "id": "d805fdfd-925d-42b8-87ae-ec7c66e67469",
   "metadata": {
    "id": "d805fdfd-925d-42b8-87ae-ec7c66e67469"
   },
   "source": [
    "### Data Processing for BERT \n",
    "\n",
    "After we have cleaned the reviews text, we have to perform some processing to so that BERTModel recognizes the input data structure. In particular, BERTModel recognizes PyTorch's tensor data structure. This integration means that if you are comfortable with PyTorch, the leaning curve will be less steep for BERTModel. The computation can be accelerated by GPU by using the \".to\" method in PyTorch to push the BERTModel to GPU. \n",
    "\n",
    "#### Load BERTModel and BERT Tokenizer\n",
    "\n",
    "Before we process the data, we load the BERTModel and the above mentioned tokenizer. "
   ]
  },
  {
   "cell_type": "code",
   "execution_count": 19,
   "id": "9ddd309e-c021-4b75-8015-f686aee72dc8",
   "metadata": {
    "colab": {
     "base_uri": "https://localhost:8080/",
     "height": 92
    },
    "executionInfo": {
     "elapsed": 15491,
     "status": "ok",
     "timestamp": 1685954180160,
     "user": {
      "displayName": "Radium-224",
      "userId": "15343147490351956333"
     },
     "user_tz": -480
    },
    "id": "9ddd309e-c021-4b75-8015-f686aee72dc8",
    "outputId": "4164a9ee-be33-475f-9a13-1dc70d1281c5"
   },
   "outputs": [
    {
     "name": "stderr",
     "output_type": "stream",
     "text": [
      "Some weights of the model checkpoint at bert-base-uncased were not used when initializing BertModel: ['cls.predictions.bias', 'cls.predictions.transform.dense.weight', 'cls.predictions.transform.dense.bias', 'cls.predictions.decoder.weight', 'cls.predictions.transform.LayerNorm.weight', 'cls.seq_relationship.bias', 'cls.predictions.transform.LayerNorm.bias', 'cls.seq_relationship.weight']\n",
      "- This IS expected if you are initializing BertModel from the checkpoint of a model trained on another task or with another architecture (e.g. initializing a BertForSequenceClassification model from a BertForPreTraining model).\n",
      "- This IS NOT expected if you are initializing BertModel from the checkpoint of a model that you expect to be exactly identical (initializing a BertForSequenceClassification model from a BertForSequenceClassification model).\n"
     ]
    }
   ],
   "source": [
    "%%capture\n",
    "# you can uncomment the magic function above to see the output when loading BERTModel. The output shows the BERTModel architecture\n",
    "\n",
    "model_name = 'bert-base-uncased'\n",
    "tokenizer = BertTokenizer.from_pretrained(model_name)\n",
    "\n",
    "bert_model = BertModel.from_pretrained(model_name)\n",
    "\n",
    "bert_model.to(detected_device)"
   ]
  },
  {
   "cell_type": "markdown",
   "id": "d1ba1f0d-f8d6-4981-8bd6-600abc0d6755",
   "metadata": {
    "id": "d1ba1f0d-f8d6-4981-8bd6-600abc0d6755"
   },
   "source": [
    "#### BERT Tokenizer\n",
    "\n",
    "This data processing step involves tokenizing the text data - that is, spliting the sentences into words i.e. 'tokens'. We can use BERT's tokenizer for this purpose. We restrict the review text to be 250 words, and truncate the remaining text.\n",
    "\n",
    "We can see an example of this. Let us just use Bert tokenizer on two sentences. We'll print out the output and see what it is."
   ]
  },
  {
   "cell_type": "code",
   "execution_count": 20,
   "id": "83a9e86b-33a4-45ee-8d2f-5d0dc65855f8",
   "metadata": {
    "colab": {
     "base_uri": "https://localhost:8080/"
    },
    "executionInfo": {
     "elapsed": 17,
     "status": "ok",
     "timestamp": 1685954180161,
     "user": {
      "displayName": "Radium-224",
      "userId": "15343147490351956333"
     },
     "user_tz": -480
    },
    "id": "83a9e86b-33a4-45ee-8d2f-5d0dc65855f8",
    "outputId": "8fd9512d-821f-46f7-e441-954e650124ea"
   },
   "outputs": [
    {
     "data": {
      "text/plain": [
       "{'input_ids': [[101, 2436, 1997, 2951, 1998, 4454, 2003, 1996, 2087, 6178, 19736, 2571, 2533, 1999, 1996, 2972, 2118, 1012, 102], [101, 2023, 14924, 4818, 3632, 2058, 14324, 2944, 999, 102, 0, 0, 0, 0, 0, 0, 0, 0, 0]], 'token_type_ids': [[0, 0, 0, 0, 0, 0, 0, 0, 0, 0, 0, 0, 0, 0, 0, 0, 0, 0, 0], [0, 0, 0, 0, 0, 0, 0, 0, 0, 0, 0, 0, 0, 0, 0, 0, 0, 0, 0]], 'attention_mask': [[1, 1, 1, 1, 1, 1, 1, 1, 1, 1, 1, 1, 1, 1, 1, 1, 1, 1, 1], [1, 1, 1, 1, 1, 1, 1, 1, 1, 1, 0, 0, 0, 0, 0, 0, 0, 0, 0]]}"
      ]
     },
     "execution_count": 20,
     "metadata": {},
     "output_type": "execute_result"
    }
   ],
   "source": [
    "example_sent = ['Office of Data and Intelligence is the most capabale department in the entire University.', \n",
    "                'This tutorial goes over BERT Model!']\n",
    "\n",
    "sent_tokenized = tokenizer(example_sent, padding = True)\n",
    "sent_tokenized"
   ]
  },
  {
   "cell_type": "markdown",
   "id": "3b6add56-5942-48a3-81ae-1163b462fbcf",
   "metadata": {
    "id": "3b6add56-5942-48a3-81ae-1163b462fbcf"
   },
   "source": [
    "The tokenizer function returns us a dictionary with the following keys:"
   ]
  },
  {
   "cell_type": "code",
   "execution_count": 21,
   "id": "14df4631-9fca-4615-9676-1f415e58f7cd",
   "metadata": {
    "colab": {
     "base_uri": "https://localhost:8080/"
    },
    "executionInfo": {
     "elapsed": 13,
     "status": "ok",
     "timestamp": 1685954180162,
     "user": {
      "displayName": "Radium-224",
      "userId": "15343147490351956333"
     },
     "user_tz": -480
    },
    "id": "14df4631-9fca-4615-9676-1f415e58f7cd",
    "outputId": "bf7ff64f-0509-432d-a48e-6c90b82b8e00"
   },
   "outputs": [
    {
     "data": {
      "text/plain": [
       "dict_keys(['input_ids', 'token_type_ids', 'attention_mask'])"
      ]
     },
     "execution_count": 21,
     "metadata": {},
     "output_type": "execute_result"
    }
   ],
   "source": [
    "sent_tokenized.keys()"
   ]
  },
  {
   "cell_type": "markdown",
   "id": "2494b4c0-5484-45ce-89c0-3ec7159c788d",
   "metadata": {
    "id": "2494b4c0-5484-45ce-89c0-3ec7159c788d"
   },
   "source": [
    "For each of the sentences, the tokenizer produces three arrays. Of these keys, the most important is the input_ids. Later, this will be converted to tensor that will be pushed into BERTModel. The tokenizer replaced each of the tokens with an integer in the input_ids, which maintains the length of original sentences. Say for the first sentence, the tokenizer has produced the following input_ids that represents the sentence. "
   ]
  },
  {
   "cell_type": "code",
   "execution_count": 22,
   "id": "f906a9fa-1df4-4d7d-9062-34c55b1cdacc",
   "metadata": {
    "colab": {
     "base_uri": "https://localhost:8080/"
    },
    "executionInfo": {
     "elapsed": 10,
     "status": "ok",
     "timestamp": 1685954180162,
     "user": {
      "displayName": "Radium-224",
      "userId": "15343147490351956333"
     },
     "user_tz": -480
    },
    "id": "f906a9fa-1df4-4d7d-9062-34c55b1cdacc",
    "outputId": "7a6d26dd-9387-4955-cb19-adcb798d2e18"
   },
   "outputs": [
    {
     "data": {
      "text/plain": [
       "array([  101,  2436,  1997,  2951,  1998,  4454,  2003,  1996,  2087,\n",
       "        6178, 19736,  2571,  2533,  1999,  1996,  2972,  2118,  1012,\n",
       "         102])"
      ]
     },
     "execution_count": 22,
     "metadata": {},
     "output_type": "execute_result"
    }
   ],
   "source": [
    "np.array(sent_tokenized['input_ids'][0])"
   ]
  },
  {
   "cell_type": "markdown",
   "id": "84e44b9b-bdb4-4c2e-afd6-387a4e27cf2f",
   "metadata": {
    "id": "84e44b9b-bdb4-4c2e-afd6-387a4e27cf2f"
   },
   "source": [
    "Now, we will tokenize the entire clean review Series. Similarly, we convert the series into a list and throw inside the BERT Tokenizer. We specify a a maximum length of the tokens, and also truncate the remaining off"
   ]
  },
  {
   "cell_type": "code",
   "execution_count": 23,
   "id": "231d24fe-c377-4bfd-9b37-55140c8ff298",
   "metadata": {
    "colab": {
     "base_uri": "https://localhost:8080/"
    },
    "executionInfo": {
     "elapsed": 61690,
     "status": "ok",
     "timestamp": 1685954241844,
     "user": {
      "displayName": "Radium-224",
      "userId": "15343147490351956333"
     },
     "user_tz": -480
    },
    "id": "231d24fe-c377-4bfd-9b37-55140c8ff298",
    "outputId": "3584f05b-7aa4-410b-a445-6e14a41ec25c",
    "tags": []
   },
   "outputs": [
    {
     "name": "stdout",
     "output_type": "stream",
     "text": [
      "CPU times: user 50.9 s, sys: 166 ms, total: 51.1 s\n",
      "Wall time: 1min 1s\n"
     ]
    }
   ],
   "source": [
    "%%time\n",
    "clean_review = list(df_sample['clean review'])\n",
    "clean_tokens = tokenizer(clean_review, padding = True, truncation = True, max_length = 250)\n",
    "\n",
    "# access the input Ids\n",
    "input_ids = clean_tokens['input_ids']\n",
    "\n",
    "# convert the list into a numpy array and then a PyTorch tensor. Copy the tensor to GPU\n",
    "input_ids_tensor = torch.tensor(np.array(input_ids)).to(detected_device)"
   ]
  },
  {
   "cell_type": "markdown",
   "id": "f36d474e-3b0c-41d8-acd8-95325e761e37",
   "metadata": {
    "id": "f36d474e-3b0c-41d8-acd8-95325e761e37"
   },
   "source": [
    "We also can assign the column to the sample dataframe. This shows how the input_ids of each sentence generated by BERT"
   ]
  },
  {
   "cell_type": "code",
   "execution_count": 24,
   "id": "4e97e3dc-af68-4859-9bb0-7e40099166a8",
   "metadata": {
    "colab": {
     "base_uri": "https://localhost:8080/",
     "height": 555
    },
    "executionInfo": {
     "elapsed": 26,
     "status": "ok",
     "timestamp": 1685954241845,
     "user": {
      "displayName": "Radium-224",
      "userId": "15343147490351956333"
     },
     "user_tz": -480
    },
    "id": "4e97e3dc-af68-4859-9bb0-7e40099166a8",
    "outputId": "4db3679c-6deb-42af-add7-0ccadcd4c639"
   },
   "outputs": [
    {
     "data": {
      "text/html": [
       "\n",
       "  <div id=\"df-e7fb9bc0-d251-4107-96bb-7736aa69c6ac\">\n",
       "    <div class=\"colab-df-container\">\n",
       "      <div>\n",
       "<style scoped>\n",
       "    .dataframe tbody tr th:only-of-type {\n",
       "        vertical-align: middle;\n",
       "    }\n",
       "\n",
       "    .dataframe tbody tr th {\n",
       "        vertical-align: top;\n",
       "    }\n",
       "\n",
       "    .dataframe thead th {\n",
       "        text-align: right;\n",
       "    }\n",
       "</style>\n",
       "<table border=\"1\" class=\"dataframe\">\n",
       "  <thead>\n",
       "    <tr style=\"text-align: right;\">\n",
       "      <th></th>\n",
       "      <th>Unnamed: 0</th>\n",
       "      <th>review</th>\n",
       "      <th>sentiment</th>\n",
       "      <th>clean review</th>\n",
       "      <th>input_ids</th>\n",
       "    </tr>\n",
       "  </thead>\n",
       "  <tbody>\n",
       "    <tr>\n",
       "      <th>0</th>\n",
       "      <td>28344</td>\n",
       "      <td>This movie was not that good at all. Here is the first clue and that it is not gonna be a strong movie, Harrison Ford's name not only appears first but it is also bigger than the title. The music was nominated for an Oscar, What the heck was that? That music was probably the most annoying thing in the movie. The acting was sub par at best, except the Amish boy he did a decent job for being so young. Then you have the story which was weak and a little over the place, and it won for adapted! The music was horrid, I know I already said something but it was really bad. The premises was real good and it should be remade. Well that's all I really have on that.&lt;br /&gt;&lt;br /&gt;Your Average Movie Guy,&lt;br /&gt;&lt;br /&gt;-Trever</td>\n",
       "      <td>0</td>\n",
       "      <td>this movie was not that good at all. here is the first clue and that it is not gonna be a strong movie, harrison ford's name not only appears first but it is also bigger than the title. the music was nominated for an oscar, what the heck was that? that music was probably the most annoying thing in the movie. the acting was sub par at best, except the amish boy he did a decent job for being so young. then you have the story which was weak and a little over the place, and it won for adapted! the music was horrid, i know i already said something but it was really bad. the premises was real good and it should be remade. well that's all i really have on that.  your average movie guy,  -trever</td>\n",
       "      <td>[101, 2023, 3185, 2001, 2025, 2008, 2204, 2012, 2035, 1012, 2182, 2003, 1996, 2034, 9789, 1998, 2008, 2009, 2003, 2025, 6069, 2022, 1037, 2844, 3185, 1010, 6676, 4811, 1005, 1055, 2171, 2025, 2069, 3544, 2034, 2021, 2009, 2003, 2036, 7046, 2084, 1996, 2516, 1012, 1996, 2189, 2001, 4222, 2005, 2019, 7436, 1010, 2054, 1996, 17752, 2001, 2008, 1029, 2008, 2189, 2001, 2763, 1996, 2087, 15703, 2518, 1999, 1996, 3185, 1012, 1996, 3772, 2001, 4942, 11968, 2012, 2190, 1010, 3272, 1996, 26445, 4095, 2879, 2002, 2106, 1037, 11519, 3105, 2005, 2108, 2061, 2402, 1012, 2059, 2017, 2031, 1996, 2466, 2029, 2001, ...]</td>\n",
       "    </tr>\n",
       "    <tr>\n",
       "      <th>1</th>\n",
       "      <td>36062</td>\n",
       "      <td>Kojak meets the mafia. Telly Savales is one of those guys from the past that seems pretty forgettable. I never thought that his show was all that great. This is his one dimensional characterization of a crime boss, with very predictable results. If you take the car chases and the general rambling out, there isn't much plot development or action. I find mafia movies to be dull because I have no respect or interest in common criminals and their actions. Hollywood, and in this case, the Italian cinema, treat these guys as heroes. I saw the film and in a few days I won't remember much about it. Lots of shooting, innocent bystanders dying, betrayal, and that sick loyalty. The film is photographed pretty well and the acting is decent. But the dubbing is so bad (due to voices that just couldn't come out of those bodies), that I almost started looking for Godzilla approaching the bay.</td>\n",
       "      <td>0</td>\n",
       "      <td>kojak meets the mafia. telly savales is one of those guys from the past that seems pretty forgettable. i never thought that his show was all that great. this is his one dimensional characterization of a crime boss, with very predictable results. if you take the car chases and the general rambling out, there isn't much plot development or action. i find mafia movies to be dull because i have no respect or interest in common criminals and their actions. hollywood, and in this case, the italian cinema, treat these guys as heroes. i saw the film and in a few days i won't remember much about it. lots of shooting, innocent bystanders dying, betrayal, and that sick loyalty. the film is photographed pretty well and the acting is decent. but the dubbing is so bad (due to voices that just couldn't come out of those bodies), that i almost started looking for godzilla approaching the bay.</td>\n",
       "      <td>[101, 12849, 18317, 6010, 1996, 13897, 1012, 2425, 2100, 28350, 4244, 2003, 2028, 1997, 2216, 4364, 2013, 1996, 2627, 2008, 3849, 3492, 5293, 10880, 1012, 1045, 2196, 2245, 2008, 2010, 2265, 2001, 2035, 2008, 2307, 1012, 2023, 2003, 2010, 2028, 8789, 23191, 1997, 1037, 4126, 5795, 1010, 2007, 2200, 21425, 3463, 1012, 2065, 2017, 2202, 1996, 2482, 29515, 1998, 1996, 2236, 8223, 9709, 2041, 1010, 2045, 3475, 1005, 1056, 2172, 5436, 2458, 2030, 2895, 1012, 1045, 2424, 13897, 5691, 2000, 2022, 10634, 2138, 1045, 2031, 2053, 4847, 2030, 3037, 1999, 2691, 12290, 1998, 2037, 4506, 1012, 5365, 1010, 1998, 1999, ...]</td>\n",
       "    </tr>\n",
       "  </tbody>\n",
       "</table>\n",
       "</div>\n",
       "      <button class=\"colab-df-convert\" onclick=\"convertToInteractive('df-e7fb9bc0-d251-4107-96bb-7736aa69c6ac')\"\n",
       "              title=\"Convert this dataframe to an interactive table.\"\n",
       "              style=\"display:none;\">\n",
       "        \n",
       "  <svg xmlns=\"http://www.w3.org/2000/svg\" height=\"24px\"viewBox=\"0 0 24 24\"\n",
       "       width=\"24px\">\n",
       "    <path d=\"M0 0h24v24H0V0z\" fill=\"none\"/>\n",
       "    <path d=\"M18.56 5.44l.94 2.06.94-2.06 2.06-.94-2.06-.94-.94-2.06-.94 2.06-2.06.94zm-11 1L8.5 8.5l.94-2.06 2.06-.94-2.06-.94L8.5 2.5l-.94 2.06-2.06.94zm10 10l.94 2.06.94-2.06 2.06-.94-2.06-.94-.94-2.06-.94 2.06-2.06.94z\"/><path d=\"M17.41 7.96l-1.37-1.37c-.4-.4-.92-.59-1.43-.59-.52 0-1.04.2-1.43.59L10.3 9.45l-7.72 7.72c-.78.78-.78 2.05 0 2.83L4 21.41c.39.39.9.59 1.41.59.51 0 1.02-.2 1.41-.59l7.78-7.78 2.81-2.81c.8-.78.8-2.07 0-2.86zM5.41 20L4 18.59l7.72-7.72 1.47 1.35L5.41 20z\"/>\n",
       "  </svg>\n",
       "      </button>\n",
       "      \n",
       "  <style>\n",
       "    .colab-df-container {\n",
       "      display:flex;\n",
       "      flex-wrap:wrap;\n",
       "      gap: 12px;\n",
       "    }\n",
       "\n",
       "    .colab-df-convert {\n",
       "      background-color: #E8F0FE;\n",
       "      border: none;\n",
       "      border-radius: 50%;\n",
       "      cursor: pointer;\n",
       "      display: none;\n",
       "      fill: #1967D2;\n",
       "      height: 32px;\n",
       "      padding: 0 0 0 0;\n",
       "      width: 32px;\n",
       "    }\n",
       "\n",
       "    .colab-df-convert:hover {\n",
       "      background-color: #E2EBFA;\n",
       "      box-shadow: 0px 1px 2px rgba(60, 64, 67, 0.3), 0px 1px 3px 1px rgba(60, 64, 67, 0.15);\n",
       "      fill: #174EA6;\n",
       "    }\n",
       "\n",
       "    [theme=dark] .colab-df-convert {\n",
       "      background-color: #3B4455;\n",
       "      fill: #D2E3FC;\n",
       "    }\n",
       "\n",
       "    [theme=dark] .colab-df-convert:hover {\n",
       "      background-color: #434B5C;\n",
       "      box-shadow: 0px 1px 3px 1px rgba(0, 0, 0, 0.15);\n",
       "      filter: drop-shadow(0px 1px 2px rgba(0, 0, 0, 0.3));\n",
       "      fill: #FFFFFF;\n",
       "    }\n",
       "  </style>\n",
       "\n",
       "      <script>\n",
       "        const buttonEl =\n",
       "          document.querySelector('#df-e7fb9bc0-d251-4107-96bb-7736aa69c6ac button.colab-df-convert');\n",
       "        buttonEl.style.display =\n",
       "          google.colab.kernel.accessAllowed ? 'block' : 'none';\n",
       "\n",
       "        async function convertToInteractive(key) {\n",
       "          const element = document.querySelector('#df-e7fb9bc0-d251-4107-96bb-7736aa69c6ac');\n",
       "          const dataTable =\n",
       "            await google.colab.kernel.invokeFunction('convertToInteractive',\n",
       "                                                     [key], {});\n",
       "          if (!dataTable) return;\n",
       "\n",
       "          const docLinkHtml = 'Like what you see? Visit the ' +\n",
       "            '<a target=\"_blank\" href=https://colab.research.google.com/notebooks/data_table.ipynb>data table notebook</a>'\n",
       "            + ' to learn more about interactive tables.';\n",
       "          element.innerHTML = '';\n",
       "          dataTable['output_type'] = 'display_data';\n",
       "          await google.colab.output.renderOutput(dataTable, element);\n",
       "          const docLink = document.createElement('div');\n",
       "          docLink.innerHTML = docLinkHtml;\n",
       "          element.appendChild(docLink);\n",
       "        }\n",
       "      </script>\n",
       "    </div>\n",
       "  </div>\n",
       "  "
      ],
      "text/plain": [
       "   Unnamed: 0  \\\n",
       "0       28344   \n",
       "1       36062   \n",
       "\n",
       "                                                                                                                                                                                                                                                                                                                                                                                                                                                                                                                                                                                                                                                                                                                                                                                                                                                                                                                      review  \\\n",
       "0                                                                                                                                                                               This movie was not that good at all. Here is the first clue and that it is not gonna be a strong movie, Harrison Ford's name not only appears first but it is also bigger than the title. The music was nominated for an Oscar, What the heck was that? That music was probably the most annoying thing in the movie. The acting was sub par at best, except the Amish boy he did a decent job for being so young. Then you have the story which was weak and a little over the place, and it won for adapted! The music was horrid, I know I already said something but it was really bad. The premises was real good and it should be remade. Well that's all I really have on that.<br /><br />Your Average Movie Guy,<br /><br />-Trever   \n",
       "1  Kojak meets the mafia. Telly Savales is one of those guys from the past that seems pretty forgettable. I never thought that his show was all that great. This is his one dimensional characterization of a crime boss, with very predictable results. If you take the car chases and the general rambling out, there isn't much plot development or action. I find mafia movies to be dull because I have no respect or interest in common criminals and their actions. Hollywood, and in this case, the Italian cinema, treat these guys as heroes. I saw the film and in a few days I won't remember much about it. Lots of shooting, innocent bystanders dying, betrayal, and that sick loyalty. The film is photographed pretty well and the acting is decent. But the dubbing is so bad (due to voices that just couldn't come out of those bodies), that I almost started looking for Godzilla approaching the bay.   \n",
       "\n",
       "   sentiment  \\\n",
       "0          0   \n",
       "1          0   \n",
       "\n",
       "                                                                                                                                                                                                                                                                                                                                                                                                                                                                                                                                                                                                                                                                                                                                                                                                                                                                                                                clean review  \\\n",
       "0                                                                                                                                                                                                   this movie was not that good at all. here is the first clue and that it is not gonna be a strong movie, harrison ford's name not only appears first but it is also bigger than the title. the music was nominated for an oscar, what the heck was that? that music was probably the most annoying thing in the movie. the acting was sub par at best, except the amish boy he did a decent job for being so young. then you have the story which was weak and a little over the place, and it won for adapted! the music was horrid, i know i already said something but it was really bad. the premises was real good and it should be remade. well that's all i really have on that.  your average movie guy,  -trever   \n",
       "1  kojak meets the mafia. telly savales is one of those guys from the past that seems pretty forgettable. i never thought that his show was all that great. this is his one dimensional characterization of a crime boss, with very predictable results. if you take the car chases and the general rambling out, there isn't much plot development or action. i find mafia movies to be dull because i have no respect or interest in common criminals and their actions. hollywood, and in this case, the italian cinema, treat these guys as heroes. i saw the film and in a few days i won't remember much about it. lots of shooting, innocent bystanders dying, betrayal, and that sick loyalty. the film is photographed pretty well and the acting is decent. but the dubbing is so bad (due to voices that just couldn't come out of those bodies), that i almost started looking for godzilla approaching the bay.   \n",
       "\n",
       "                                                                                                                                                                                                                                                                                                                                                                                                                                                                                                                                                                                                                                 input_ids  \n",
       "0        [101, 2023, 3185, 2001, 2025, 2008, 2204, 2012, 2035, 1012, 2182, 2003, 1996, 2034, 9789, 1998, 2008, 2009, 2003, 2025, 6069, 2022, 1037, 2844, 3185, 1010, 6676, 4811, 1005, 1055, 2171, 2025, 2069, 3544, 2034, 2021, 2009, 2003, 2036, 7046, 2084, 1996, 2516, 1012, 1996, 2189, 2001, 4222, 2005, 2019, 7436, 1010, 2054, 1996, 17752, 2001, 2008, 1029, 2008, 2189, 2001, 2763, 1996, 2087, 15703, 2518, 1999, 1996, 3185, 1012, 1996, 3772, 2001, 4942, 11968, 2012, 2190, 1010, 3272, 1996, 26445, 4095, 2879, 2002, 2106, 1037, 11519, 3105, 2005, 2108, 2061, 2402, 1012, 2059, 2017, 2031, 1996, 2466, 2029, 2001, ...]  \n",
       "1  [101, 12849, 18317, 6010, 1996, 13897, 1012, 2425, 2100, 28350, 4244, 2003, 2028, 1997, 2216, 4364, 2013, 1996, 2627, 2008, 3849, 3492, 5293, 10880, 1012, 1045, 2196, 2245, 2008, 2010, 2265, 2001, 2035, 2008, 2307, 1012, 2023, 2003, 2010, 2028, 8789, 23191, 1997, 1037, 4126, 5795, 1010, 2007, 2200, 21425, 3463, 1012, 2065, 2017, 2202, 1996, 2482, 29515, 1998, 1996, 2236, 8223, 9709, 2041, 1010, 2045, 3475, 1005, 1056, 2172, 5436, 2458, 2030, 2895, 1012, 1045, 2424, 13897, 5691, 2000, 2022, 10634, 2138, 1045, 2031, 2053, 4847, 2030, 3037, 1999, 2691, 12290, 1998, 2037, 4506, 1012, 5365, 1010, 1998, 1999, ...]  "
      ]
     },
     "execution_count": 24,
     "metadata": {},
     "output_type": "execute_result"
    }
   ],
   "source": [
    "df_sample['input_ids'] = input_ids\n",
    "\n",
    "df_sample.head(2)"
   ]
  },
  {
   "cell_type": "code",
   "execution_count": 24,
   "id": "49e2d9c7-c4fb-48b5-91f3-d7db033b0bde",
   "metadata": {
    "executionInfo": {
     "elapsed": 22,
     "status": "ok",
     "timestamp": 1685954241846,
     "user": {
      "displayName": "Radium-224",
      "userId": "15343147490351956333"
     },
     "user_tz": -480
    },
    "id": "49e2d9c7-c4fb-48b5-91f3-d7db033b0bde"
   },
   "outputs": [],
   "source": []
  },
  {
   "cell_type": "markdown",
   "id": "6b8824bc-15cd-4b34-9d94-12e4b86c1e91",
   "metadata": {
    "id": "6b8824bc-15cd-4b34-9d94-12e4b86c1e91"
   },
   "source": [
    "### Accessing Last Hidden State from BERTModel\n",
    "\n",
    "Now the fun begins!\n",
    "\n",
    "In BERTModel, the embedding of a single sentence is called the _last hidden state_ . One can try - the not so astute method of sending the entire 10000 rows of input_ids into BERTModel and obtain the sentence vectors. Doing so will cause the model (and your GPU) to crash. So, we shall pass in each sentence's input_ids into the model, and access the last hidden state directly from the model output. \n",
    "\n",
    "We loop through the rows of the sample datafame, accessing the last hidden state and vertically stacking them until we reach the last input_ids of the last sentence. "
   ]
  },
  {
   "cell_type": "code",
   "execution_count": 27,
   "id": "898ae2d2-8adc-4d4e-a1b4-51a0b2f23195",
   "metadata": {
    "colab": {
     "base_uri": "https://localhost:8080/"
    },
    "executionInfo": {
     "elapsed": 184195,
     "status": "ok",
     "timestamp": 1685954501875,
     "user": {
      "displayName": "Radium-224",
      "userId": "15343147490351956333"
     },
     "user_tz": -480
    },
    "id": "898ae2d2-8adc-4d4e-a1b4-51a0b2f23195",
    "outputId": "f225aa14-2a46-4a23-a1ce-2fb03e09fb3e"
   },
   "outputs": [
    {
     "name": "stdout",
     "output_type": "stream",
     "text": [
      "[*]-----------------------------------------------  SUCCESS  -----------------------------------------------[*]\n",
      "CPU times: user 2min 28s, sys: 30.8 s, total: 2min 59s\n",
      "Wall time: 3min 3s\n"
     ]
    }
   ],
   "source": [
    "%%time\n",
    "features_vector = torch.zeros(1, 768)\n",
    "\n",
    "for i, row in enumerate(input_ids_tensor):\n",
    "    \n",
    "    input_id = torch.unsqueeze(row, 0)\n",
    "    \n",
    "    with torch.no_grad():\n",
    "        output = bert_model(input_id)\n",
    "        last_hidden_states = output[0][:,0,:]\n",
    "    \n",
    "    if i == 0:\n",
    "        features_vector = last_hidden_states\n",
    "    else:\n",
    "        features_vector = torch.vstack((features_vector, last_hidden_states))\n",
    "        \n",
    "features_vector = features_vector.cpu()\n",
    "\n",
    "print('[*]-----------------------------------------------  SUCCESS  -----------------------------------------------[*]')"
   ]
  },
  {
   "cell_type": "markdown",
   "id": "f2c8c1ea-d67d-4ce1-8f1d-30bbe5640624",
   "metadata": {
    "id": "f2c8c1ea-d67d-4ce1-8f1d-30bbe5640624"
   },
   "source": [
    "Now, we can also see what does the features dataframe look like. But this step is not necessary."
   ]
  },
  {
   "cell_type": "code",
   "execution_count": 28,
   "id": "7b457210-e2a4-4cd0-800f-da570745870c",
   "metadata": {
    "colab": {
     "base_uri": "https://localhost:8080/",
     "height": 237
    },
    "executionInfo": {
     "elapsed": 300,
     "status": "ok",
     "timestamp": 1685954527359,
     "user": {
      "displayName": "Radium-224",
      "userId": "15343147490351956333"
     },
     "user_tz": -480
    },
    "id": "7b457210-e2a4-4cd0-800f-da570745870c",
    "outputId": "215d0a94-18d0-41e4-c7ac-d1cb293fbd3d"
   },
   "outputs": [
    {
     "data": {
      "text/html": [
       "\n",
       "  <div id=\"df-0c53e7e2-bb67-4432-ad6a-b2b25d698d41\">\n",
       "    <div class=\"colab-df-container\">\n",
       "      <div>\n",
       "<style scoped>\n",
       "    .dataframe tbody tr th:only-of-type {\n",
       "        vertical-align: middle;\n",
       "    }\n",
       "\n",
       "    .dataframe tbody tr th {\n",
       "        vertical-align: top;\n",
       "    }\n",
       "\n",
       "    .dataframe thead th {\n",
       "        text-align: right;\n",
       "    }\n",
       "</style>\n",
       "<table border=\"1\" class=\"dataframe\">\n",
       "  <thead>\n",
       "    <tr style=\"text-align: right;\">\n",
       "      <th></th>\n",
       "      <th>sentiment</th>\n",
       "      <th>feature_1</th>\n",
       "      <th>feature_2</th>\n",
       "      <th>feature_3</th>\n",
       "      <th>feature_4</th>\n",
       "      <th>feature_5</th>\n",
       "      <th>feature_6</th>\n",
       "      <th>feature_7</th>\n",
       "      <th>feature_8</th>\n",
       "      <th>feature_9</th>\n",
       "      <th>...</th>\n",
       "      <th>feature_759</th>\n",
       "      <th>feature_760</th>\n",
       "      <th>feature_761</th>\n",
       "      <th>feature_762</th>\n",
       "      <th>feature_763</th>\n",
       "      <th>feature_764</th>\n",
       "      <th>feature_765</th>\n",
       "      <th>feature_766</th>\n",
       "      <th>feature_767</th>\n",
       "      <th>feature_768</th>\n",
       "    </tr>\n",
       "  </thead>\n",
       "  <tbody>\n",
       "    <tr>\n",
       "      <th>0</th>\n",
       "      <td>0</td>\n",
       "      <td>-0.329462</td>\n",
       "      <td>0.132363</td>\n",
       "      <td>-0.348127</td>\n",
       "      <td>0.458388</td>\n",
       "      <td>-0.369615</td>\n",
       "      <td>-0.154923</td>\n",
       "      <td>0.323158</td>\n",
       "      <td>-0.205093</td>\n",
       "      <td>0.234229</td>\n",
       "      <td>...</td>\n",
       "      <td>0.081855</td>\n",
       "      <td>-0.316305</td>\n",
       "      <td>0.155609</td>\n",
       "      <td>-0.492828</td>\n",
       "      <td>0.144588</td>\n",
       "      <td>-0.244067</td>\n",
       "      <td>-0.498780</td>\n",
       "      <td>-0.208091</td>\n",
       "      <td>0.865001</td>\n",
       "      <td>-0.431351</td>\n",
       "    </tr>\n",
       "    <tr>\n",
       "      <th>1</th>\n",
       "      <td>0</td>\n",
       "      <td>-0.363119</td>\n",
       "      <td>-0.168779</td>\n",
       "      <td>-0.192008</td>\n",
       "      <td>-0.073103</td>\n",
       "      <td>-0.603808</td>\n",
       "      <td>-0.004025</td>\n",
       "      <td>0.274702</td>\n",
       "      <td>-0.005901</td>\n",
       "      <td>-0.041459</td>\n",
       "      <td>...</td>\n",
       "      <td>0.314191</td>\n",
       "      <td>-0.139299</td>\n",
       "      <td>0.490739</td>\n",
       "      <td>-0.545838</td>\n",
       "      <td>0.117402</td>\n",
       "      <td>-0.003479</td>\n",
       "      <td>-0.007289</td>\n",
       "      <td>0.007684</td>\n",
       "      <td>0.918179</td>\n",
       "      <td>-0.227412</td>\n",
       "    </tr>\n",
       "    <tr>\n",
       "      <th>2</th>\n",
       "      <td>0</td>\n",
       "      <td>-0.579074</td>\n",
       "      <td>0.381138</td>\n",
       "      <td>-0.339500</td>\n",
       "      <td>0.126223</td>\n",
       "      <td>-0.571157</td>\n",
       "      <td>0.186502</td>\n",
       "      <td>1.052447</td>\n",
       "      <td>-0.329012</td>\n",
       "      <td>0.011446</td>\n",
       "      <td>...</td>\n",
       "      <td>-0.049435</td>\n",
       "      <td>-0.267388</td>\n",
       "      <td>0.111930</td>\n",
       "      <td>-0.355467</td>\n",
       "      <td>0.422285</td>\n",
       "      <td>-0.308170</td>\n",
       "      <td>-0.075023</td>\n",
       "      <td>-0.523573</td>\n",
       "      <td>0.750236</td>\n",
       "      <td>-0.700940</td>\n",
       "    </tr>\n",
       "  </tbody>\n",
       "</table>\n",
       "<p>3 rows × 769 columns</p>\n",
       "</div>\n",
       "      <button class=\"colab-df-convert\" onclick=\"convertToInteractive('df-0c53e7e2-bb67-4432-ad6a-b2b25d698d41')\"\n",
       "              title=\"Convert this dataframe to an interactive table.\"\n",
       "              style=\"display:none;\">\n",
       "        \n",
       "  <svg xmlns=\"http://www.w3.org/2000/svg\" height=\"24px\"viewBox=\"0 0 24 24\"\n",
       "       width=\"24px\">\n",
       "    <path d=\"M0 0h24v24H0V0z\" fill=\"none\"/>\n",
       "    <path d=\"M18.56 5.44l.94 2.06.94-2.06 2.06-.94-2.06-.94-.94-2.06-.94 2.06-2.06.94zm-11 1L8.5 8.5l.94-2.06 2.06-.94-2.06-.94L8.5 2.5l-.94 2.06-2.06.94zm10 10l.94 2.06.94-2.06 2.06-.94-2.06-.94-.94-2.06-.94 2.06-2.06.94z\"/><path d=\"M17.41 7.96l-1.37-1.37c-.4-.4-.92-.59-1.43-.59-.52 0-1.04.2-1.43.59L10.3 9.45l-7.72 7.72c-.78.78-.78 2.05 0 2.83L4 21.41c.39.39.9.59 1.41.59.51 0 1.02-.2 1.41-.59l7.78-7.78 2.81-2.81c.8-.78.8-2.07 0-2.86zM5.41 20L4 18.59l7.72-7.72 1.47 1.35L5.41 20z\"/>\n",
       "  </svg>\n",
       "      </button>\n",
       "      \n",
       "  <style>\n",
       "    .colab-df-container {\n",
       "      display:flex;\n",
       "      flex-wrap:wrap;\n",
       "      gap: 12px;\n",
       "    }\n",
       "\n",
       "    .colab-df-convert {\n",
       "      background-color: #E8F0FE;\n",
       "      border: none;\n",
       "      border-radius: 50%;\n",
       "      cursor: pointer;\n",
       "      display: none;\n",
       "      fill: #1967D2;\n",
       "      height: 32px;\n",
       "      padding: 0 0 0 0;\n",
       "      width: 32px;\n",
       "    }\n",
       "\n",
       "    .colab-df-convert:hover {\n",
       "      background-color: #E2EBFA;\n",
       "      box-shadow: 0px 1px 2px rgba(60, 64, 67, 0.3), 0px 1px 3px 1px rgba(60, 64, 67, 0.15);\n",
       "      fill: #174EA6;\n",
       "    }\n",
       "\n",
       "    [theme=dark] .colab-df-convert {\n",
       "      background-color: #3B4455;\n",
       "      fill: #D2E3FC;\n",
       "    }\n",
       "\n",
       "    [theme=dark] .colab-df-convert:hover {\n",
       "      background-color: #434B5C;\n",
       "      box-shadow: 0px 1px 3px 1px rgba(0, 0, 0, 0.15);\n",
       "      filter: drop-shadow(0px 1px 2px rgba(0, 0, 0, 0.3));\n",
       "      fill: #FFFFFF;\n",
       "    }\n",
       "  </style>\n",
       "\n",
       "      <script>\n",
       "        const buttonEl =\n",
       "          document.querySelector('#df-0c53e7e2-bb67-4432-ad6a-b2b25d698d41 button.colab-df-convert');\n",
       "        buttonEl.style.display =\n",
       "          google.colab.kernel.accessAllowed ? 'block' : 'none';\n",
       "\n",
       "        async function convertToInteractive(key) {\n",
       "          const element = document.querySelector('#df-0c53e7e2-bb67-4432-ad6a-b2b25d698d41');\n",
       "          const dataTable =\n",
       "            await google.colab.kernel.invokeFunction('convertToInteractive',\n",
       "                                                     [key], {});\n",
       "          if (!dataTable) return;\n",
       "\n",
       "          const docLinkHtml = 'Like what you see? Visit the ' +\n",
       "            '<a target=\"_blank\" href=https://colab.research.google.com/notebooks/data_table.ipynb>data table notebook</a>'\n",
       "            + ' to learn more about interactive tables.';\n",
       "          element.innerHTML = '';\n",
       "          dataTable['output_type'] = 'display_data';\n",
       "          await google.colab.output.renderOutput(dataTable, element);\n",
       "          const docLink = document.createElement('div');\n",
       "          docLink.innerHTML = docLinkHtml;\n",
       "          element.appendChild(docLink);\n",
       "        }\n",
       "      </script>\n",
       "    </div>\n",
       "  </div>\n",
       "  "
      ],
      "text/plain": [
       "   sentiment  feature_1  feature_2  feature_3  feature_4  feature_5  \\\n",
       "0          0  -0.329462   0.132363  -0.348127   0.458388  -0.369615   \n",
       "1          0  -0.363119  -0.168779  -0.192008  -0.073103  -0.603808   \n",
       "2          0  -0.579074   0.381138  -0.339500   0.126223  -0.571157   \n",
       "\n",
       "   feature_6  feature_7  feature_8  feature_9  ...  feature_759  feature_760  \\\n",
       "0  -0.154923   0.323158  -0.205093   0.234229  ...     0.081855    -0.316305   \n",
       "1  -0.004025   0.274702  -0.005901  -0.041459  ...     0.314191    -0.139299   \n",
       "2   0.186502   1.052447  -0.329012   0.011446  ...    -0.049435    -0.267388   \n",
       "\n",
       "   feature_761  feature_762  feature_763  feature_764  feature_765  \\\n",
       "0     0.155609    -0.492828     0.144588    -0.244067    -0.498780   \n",
       "1     0.490739    -0.545838     0.117402    -0.003479    -0.007289   \n",
       "2     0.111930    -0.355467     0.422285    -0.308170    -0.075023   \n",
       "\n",
       "   feature_766  feature_767  feature_768  \n",
       "0    -0.208091     0.865001    -0.431351  \n",
       "1     0.007684     0.918179    -0.227412  \n",
       "2    -0.523573     0.750236    -0.700940  \n",
       "\n",
       "[3 rows x 769 columns]"
      ]
     },
     "execution_count": 28,
     "metadata": {},
     "output_type": "execute_result"
    }
   ],
   "source": [
    "df_ML = pd.DataFrame(features_vector, \n",
    "                     columns = ['feature_' + str(i + 1) for i in range(768)])\n",
    "df_ML = pd.concat([df_sample['sentiment'], df_ML], axis = 1)\n",
    "\n",
    "df_ML.head(3)"
   ]
  },
  {
   "cell_type": "markdown",
   "id": "6417c164-965d-4b1a-8018-ad7459cb3fc9",
   "metadata": {
    "id": "6417c164-965d-4b1a-8018-ad7459cb3fc9"
   },
   "source": [
    "Now, we are ready to do machine learning classification!"
   ]
  },
  {
   "cell_type": "code",
   "execution_count": 28,
   "id": "7582d393-0c3d-4357-932f-33be9752ca25",
   "metadata": {
    "executionInfo": {
     "elapsed": 341,
     "status": "ok",
     "timestamp": 1685954528200,
     "user": {
      "displayName": "Radium-224",
      "userId": "15343147490351956333"
     },
     "user_tz": -480
    },
    "id": "7582d393-0c3d-4357-932f-33be9752ca25"
   },
   "outputs": [],
   "source": []
  },
  {
   "cell_type": "markdown",
   "id": "812696ed-d054-4e72-9afb-8e6f9dffdd16",
   "metadata": {
    "id": "812696ed-d054-4e72-9afb-8e6f9dffdd16"
   },
   "source": [
    "### Classification using Various Machine Learning Models\n",
    "\n",
    "As a rule of thumb, you should use many different kinds of machine learning classifiers and see which one performms the best. This is to ensure that the model you came up with is robust enough. \n",
    "\n",
    "As an example, we will use three different classifiers: K-Nearest Neighbour, Logsitic Regression and Random Forest. We will perform the classic train-test split here, and define a function to return the evalutation metric in a dataframe."
   ]
  },
  {
   "cell_type": "code",
   "execution_count": 29,
   "id": "13cff1f4-be41-4b78-918a-400e3368e34c",
   "metadata": {
    "executionInfo": {
     "elapsed": 3,
     "status": "ok",
     "timestamp": 1685954528519,
     "user": {
      "displayName": "Radium-224",
      "userId": "15343147490351956333"
     },
     "user_tz": -480
    },
    "id": "13cff1f4-be41-4b78-918a-400e3368e34c"
   },
   "outputs": [],
   "source": [
    "X_train, X_test, y_train, y_test = train_test_split(features_vector, \n",
    "                                                    df_sample['sentiment'], \n",
    "                                                    random_state = 14)\n",
    "\n",
    "def eval_metric_df(clf, X_test, y_test, clf_name):\n",
    "    \n",
    "    y_predict = clf.predict(X_test)\n",
    "\n",
    "    # calculate the evaluation metrices of the classifier\n",
    "    auc_score    = roc_auc_score(y_test, y_predict)\n",
    "    recall       = recall_score(y_test, y_predict)\n",
    "    precision    = precision_score(y_test, y_predict)\n",
    "    f1           = f1_score(y_test, y_predict)\n",
    "    classifier_score = clf.score(X_test, y_test)\n",
    "    confusion    = confusion_matrix(y_test, y_predict)\n",
    "\n",
    "    print('Confusion matrix:\\n', confusion, '\\n')\n",
    "\n",
    "    performance_dict = {clf_name : [auc_score, recall, precision, f1, classifier_score]}\n",
    "    performance_df_clf = pd.DataFrame(data  = performance_dict, \n",
    "                                         index = ['AUC', 'Recall', 'Precision', 'F1', 'Score'])\n",
    "    \n",
    "    return performance_df_clf"
   ]
  },
  {
   "cell_type": "markdown",
   "id": "dd26e17b-cbff-4db6-b391-bd08bae27552",
   "metadata": {
    "id": "dd26e17b-cbff-4db6-b391-bd08bae27552"
   },
   "source": [
    "#### K-Nearest Neighbour classifier"
   ]
  },
  {
   "cell_type": "code",
   "execution_count": 30,
   "id": "7f57c003-2624-4b8f-b292-b9edd04eec19",
   "metadata": {
    "colab": {
     "base_uri": "https://localhost:8080/",
     "height": 279
    },
    "executionInfo": {
     "elapsed": 3690,
     "status": "ok",
     "timestamp": 1685954532207,
     "user": {
      "displayName": "Radium-224",
      "userId": "15343147490351956333"
     },
     "user_tz": -480
    },
    "id": "7f57c003-2624-4b8f-b292-b9edd04eec19",
    "outputId": "a9f77051-53da-446a-bc91-a622ad13276d"
   },
   "outputs": [
    {
     "name": "stdout",
     "output_type": "stream",
     "text": [
      "Confusion matrix:\n",
      " [[1047  195]\n",
      " [ 641  617]] \n",
      "\n"
     ]
    },
    {
     "data": {
      "text/html": [
       "\n",
       "  <div id=\"df-30341256-6028-4f60-a01e-928be9210840\">\n",
       "    <div class=\"colab-df-container\">\n",
       "      <div>\n",
       "<style scoped>\n",
       "    .dataframe tbody tr th:only-of-type {\n",
       "        vertical-align: middle;\n",
       "    }\n",
       "\n",
       "    .dataframe tbody tr th {\n",
       "        vertical-align: top;\n",
       "    }\n",
       "\n",
       "    .dataframe thead th {\n",
       "        text-align: right;\n",
       "    }\n",
       "</style>\n",
       "<table border=\"1\" class=\"dataframe\">\n",
       "  <thead>\n",
       "    <tr style=\"text-align: right;\">\n",
       "      <th></th>\n",
       "      <th>K-Nearest Neighbour</th>\n",
       "    </tr>\n",
       "  </thead>\n",
       "  <tbody>\n",
       "    <tr>\n",
       "      <th>AUC</th>\n",
       "      <td>0.666728</td>\n",
       "    </tr>\n",
       "    <tr>\n",
       "      <th>Recall</th>\n",
       "      <td>0.490461</td>\n",
       "    </tr>\n",
       "    <tr>\n",
       "      <th>Precision</th>\n",
       "      <td>0.759852</td>\n",
       "    </tr>\n",
       "    <tr>\n",
       "      <th>F1</th>\n",
       "      <td>0.596135</td>\n",
       "    </tr>\n",
       "    <tr>\n",
       "      <th>Score</th>\n",
       "      <td>0.665600</td>\n",
       "    </tr>\n",
       "  </tbody>\n",
       "</table>\n",
       "</div>\n",
       "      <button class=\"colab-df-convert\" onclick=\"convertToInteractive('df-30341256-6028-4f60-a01e-928be9210840')\"\n",
       "              title=\"Convert this dataframe to an interactive table.\"\n",
       "              style=\"display:none;\">\n",
       "        \n",
       "  <svg xmlns=\"http://www.w3.org/2000/svg\" height=\"24px\"viewBox=\"0 0 24 24\"\n",
       "       width=\"24px\">\n",
       "    <path d=\"M0 0h24v24H0V0z\" fill=\"none\"/>\n",
       "    <path d=\"M18.56 5.44l.94 2.06.94-2.06 2.06-.94-2.06-.94-.94-2.06-.94 2.06-2.06.94zm-11 1L8.5 8.5l.94-2.06 2.06-.94-2.06-.94L8.5 2.5l-.94 2.06-2.06.94zm10 10l.94 2.06.94-2.06 2.06-.94-2.06-.94-.94-2.06-.94 2.06-2.06.94z\"/><path d=\"M17.41 7.96l-1.37-1.37c-.4-.4-.92-.59-1.43-.59-.52 0-1.04.2-1.43.59L10.3 9.45l-7.72 7.72c-.78.78-.78 2.05 0 2.83L4 21.41c.39.39.9.59 1.41.59.51 0 1.02-.2 1.41-.59l7.78-7.78 2.81-2.81c.8-.78.8-2.07 0-2.86zM5.41 20L4 18.59l7.72-7.72 1.47 1.35L5.41 20z\"/>\n",
       "  </svg>\n",
       "      </button>\n",
       "      \n",
       "  <style>\n",
       "    .colab-df-container {\n",
       "      display:flex;\n",
       "      flex-wrap:wrap;\n",
       "      gap: 12px;\n",
       "    }\n",
       "\n",
       "    .colab-df-convert {\n",
       "      background-color: #E8F0FE;\n",
       "      border: none;\n",
       "      border-radius: 50%;\n",
       "      cursor: pointer;\n",
       "      display: none;\n",
       "      fill: #1967D2;\n",
       "      height: 32px;\n",
       "      padding: 0 0 0 0;\n",
       "      width: 32px;\n",
       "    }\n",
       "\n",
       "    .colab-df-convert:hover {\n",
       "      background-color: #E2EBFA;\n",
       "      box-shadow: 0px 1px 2px rgba(60, 64, 67, 0.3), 0px 1px 3px 1px rgba(60, 64, 67, 0.15);\n",
       "      fill: #174EA6;\n",
       "    }\n",
       "\n",
       "    [theme=dark] .colab-df-convert {\n",
       "      background-color: #3B4455;\n",
       "      fill: #D2E3FC;\n",
       "    }\n",
       "\n",
       "    [theme=dark] .colab-df-convert:hover {\n",
       "      background-color: #434B5C;\n",
       "      box-shadow: 0px 1px 3px 1px rgba(0, 0, 0, 0.15);\n",
       "      filter: drop-shadow(0px 1px 2px rgba(0, 0, 0, 0.3));\n",
       "      fill: #FFFFFF;\n",
       "    }\n",
       "  </style>\n",
       "\n",
       "      <script>\n",
       "        const buttonEl =\n",
       "          document.querySelector('#df-30341256-6028-4f60-a01e-928be9210840 button.colab-df-convert');\n",
       "        buttonEl.style.display =\n",
       "          google.colab.kernel.accessAllowed ? 'block' : 'none';\n",
       "\n",
       "        async function convertToInteractive(key) {\n",
       "          const element = document.querySelector('#df-30341256-6028-4f60-a01e-928be9210840');\n",
       "          const dataTable =\n",
       "            await google.colab.kernel.invokeFunction('convertToInteractive',\n",
       "                                                     [key], {});\n",
       "          if (!dataTable) return;\n",
       "\n",
       "          const docLinkHtml = 'Like what you see? Visit the ' +\n",
       "            '<a target=\"_blank\" href=https://colab.research.google.com/notebooks/data_table.ipynb>data table notebook</a>'\n",
       "            + ' to learn more about interactive tables.';\n",
       "          element.innerHTML = '';\n",
       "          dataTable['output_type'] = 'display_data';\n",
       "          await google.colab.output.renderOutput(dataTable, element);\n",
       "          const docLink = document.createElement('div');\n",
       "          docLink.innerHTML = docLinkHtml;\n",
       "          element.appendChild(docLink);\n",
       "        }\n",
       "      </script>\n",
       "    </div>\n",
       "  </div>\n",
       "  "
      ],
      "text/plain": [
       "           K-Nearest Neighbour\n",
       "AUC                   0.666728\n",
       "Recall                0.490461\n",
       "Precision             0.759852\n",
       "F1                    0.596135\n",
       "Score                 0.665600"
      ]
     },
     "execution_count": 30,
     "metadata": {},
     "output_type": "execute_result"
    }
   ],
   "source": [
    "knn_clf = KNeighborsClassifier(n_neighbors = 10)\n",
    "knn_clf.fit(X_train, y_train)\n",
    "\n",
    "knn_clf_eval_metrics = eval_metric_df(knn_clf, X_test, y_test, 'K-Nearest Neighbour')\n",
    "knn_clf_eval_metrics"
   ]
  },
  {
   "cell_type": "markdown",
   "id": "59e3666f-93a9-4419-b2c7-ea508aef1090",
   "metadata": {
    "id": "59e3666f-93a9-4419-b2c7-ea508aef1090"
   },
   "source": [
    "#### Logsitic Regression"
   ]
  },
  {
   "cell_type": "code",
   "execution_count": 31,
   "id": "acdde770-d56c-4e10-a7be-98eb97aac22b",
   "metadata": {
    "colab": {
     "base_uri": "https://localhost:8080/",
     "height": 279
    },
    "executionInfo": {
     "elapsed": 12335,
     "status": "ok",
     "timestamp": 1685954544537,
     "user": {
      "displayName": "Radium-224",
      "userId": "15343147490351956333"
     },
     "user_tz": -480
    },
    "id": "acdde770-d56c-4e10-a7be-98eb97aac22b",
    "outputId": "d37a0060-bce2-41ce-9426-19f85e824c69"
   },
   "outputs": [
    {
     "name": "stdout",
     "output_type": "stream",
     "text": [
      "Confusion matrix:\n",
      " [[ 992  250]\n",
      " [ 243 1015]] \n",
      "\n"
     ]
    },
    {
     "data": {
      "text/html": [
       "\n",
       "  <div id=\"df-6fde9a8c-e4c5-4eba-8220-373a72ccb6b6\">\n",
       "    <div class=\"colab-df-container\">\n",
       "      <div>\n",
       "<style scoped>\n",
       "    .dataframe tbody tr th:only-of-type {\n",
       "        vertical-align: middle;\n",
       "    }\n",
       "\n",
       "    .dataframe tbody tr th {\n",
       "        vertical-align: top;\n",
       "    }\n",
       "\n",
       "    .dataframe thead th {\n",
       "        text-align: right;\n",
       "    }\n",
       "</style>\n",
       "<table border=\"1\" class=\"dataframe\">\n",
       "  <thead>\n",
       "    <tr style=\"text-align: right;\">\n",
       "      <th></th>\n",
       "      <th>Logistic Regression</th>\n",
       "    </tr>\n",
       "  </thead>\n",
       "  <tbody>\n",
       "    <tr>\n",
       "      <th>AUC</th>\n",
       "      <td>0.802774</td>\n",
       "    </tr>\n",
       "    <tr>\n",
       "      <th>Recall</th>\n",
       "      <td>0.806836</td>\n",
       "    </tr>\n",
       "    <tr>\n",
       "      <th>Precision</th>\n",
       "      <td>0.802372</td>\n",
       "    </tr>\n",
       "    <tr>\n",
       "      <th>F1</th>\n",
       "      <td>0.804598</td>\n",
       "    </tr>\n",
       "    <tr>\n",
       "      <th>Score</th>\n",
       "      <td>0.802800</td>\n",
       "    </tr>\n",
       "  </tbody>\n",
       "</table>\n",
       "</div>\n",
       "      <button class=\"colab-df-convert\" onclick=\"convertToInteractive('df-6fde9a8c-e4c5-4eba-8220-373a72ccb6b6')\"\n",
       "              title=\"Convert this dataframe to an interactive table.\"\n",
       "              style=\"display:none;\">\n",
       "        \n",
       "  <svg xmlns=\"http://www.w3.org/2000/svg\" height=\"24px\"viewBox=\"0 0 24 24\"\n",
       "       width=\"24px\">\n",
       "    <path d=\"M0 0h24v24H0V0z\" fill=\"none\"/>\n",
       "    <path d=\"M18.56 5.44l.94 2.06.94-2.06 2.06-.94-2.06-.94-.94-2.06-.94 2.06-2.06.94zm-11 1L8.5 8.5l.94-2.06 2.06-.94-2.06-.94L8.5 2.5l-.94 2.06-2.06.94zm10 10l.94 2.06.94-2.06 2.06-.94-2.06-.94-.94-2.06-.94 2.06-2.06.94z\"/><path d=\"M17.41 7.96l-1.37-1.37c-.4-.4-.92-.59-1.43-.59-.52 0-1.04.2-1.43.59L10.3 9.45l-7.72 7.72c-.78.78-.78 2.05 0 2.83L4 21.41c.39.39.9.59 1.41.59.51 0 1.02-.2 1.41-.59l7.78-7.78 2.81-2.81c.8-.78.8-2.07 0-2.86zM5.41 20L4 18.59l7.72-7.72 1.47 1.35L5.41 20z\"/>\n",
       "  </svg>\n",
       "      </button>\n",
       "      \n",
       "  <style>\n",
       "    .colab-df-container {\n",
       "      display:flex;\n",
       "      flex-wrap:wrap;\n",
       "      gap: 12px;\n",
       "    }\n",
       "\n",
       "    .colab-df-convert {\n",
       "      background-color: #E8F0FE;\n",
       "      border: none;\n",
       "      border-radius: 50%;\n",
       "      cursor: pointer;\n",
       "      display: none;\n",
       "      fill: #1967D2;\n",
       "      height: 32px;\n",
       "      padding: 0 0 0 0;\n",
       "      width: 32px;\n",
       "    }\n",
       "\n",
       "    .colab-df-convert:hover {\n",
       "      background-color: #E2EBFA;\n",
       "      box-shadow: 0px 1px 2px rgba(60, 64, 67, 0.3), 0px 1px 3px 1px rgba(60, 64, 67, 0.15);\n",
       "      fill: #174EA6;\n",
       "    }\n",
       "\n",
       "    [theme=dark] .colab-df-convert {\n",
       "      background-color: #3B4455;\n",
       "      fill: #D2E3FC;\n",
       "    }\n",
       "\n",
       "    [theme=dark] .colab-df-convert:hover {\n",
       "      background-color: #434B5C;\n",
       "      box-shadow: 0px 1px 3px 1px rgba(0, 0, 0, 0.15);\n",
       "      filter: drop-shadow(0px 1px 2px rgba(0, 0, 0, 0.3));\n",
       "      fill: #FFFFFF;\n",
       "    }\n",
       "  </style>\n",
       "\n",
       "      <script>\n",
       "        const buttonEl =\n",
       "          document.querySelector('#df-6fde9a8c-e4c5-4eba-8220-373a72ccb6b6 button.colab-df-convert');\n",
       "        buttonEl.style.display =\n",
       "          google.colab.kernel.accessAllowed ? 'block' : 'none';\n",
       "\n",
       "        async function convertToInteractive(key) {\n",
       "          const element = document.querySelector('#df-6fde9a8c-e4c5-4eba-8220-373a72ccb6b6');\n",
       "          const dataTable =\n",
       "            await google.colab.kernel.invokeFunction('convertToInteractive',\n",
       "                                                     [key], {});\n",
       "          if (!dataTable) return;\n",
       "\n",
       "          const docLinkHtml = 'Like what you see? Visit the ' +\n",
       "            '<a target=\"_blank\" href=https://colab.research.google.com/notebooks/data_table.ipynb>data table notebook</a>'\n",
       "            + ' to learn more about interactive tables.';\n",
       "          element.innerHTML = '';\n",
       "          dataTable['output_type'] = 'display_data';\n",
       "          await google.colab.output.renderOutput(dataTable, element);\n",
       "          const docLink = document.createElement('div');\n",
       "          docLink.innerHTML = docLinkHtml;\n",
       "          element.appendChild(docLink);\n",
       "        }\n",
       "      </script>\n",
       "    </div>\n",
       "  </div>\n",
       "  "
      ],
      "text/plain": [
       "           Logistic Regression\n",
       "AUC                   0.802774\n",
       "Recall                0.806836\n",
       "Precision             0.802372\n",
       "F1                    0.804598\n",
       "Score                 0.802800"
      ]
     },
     "execution_count": 31,
     "metadata": {},
     "output_type": "execute_result"
    }
   ],
   "source": [
    "lr_clf = LogisticRegression(max_iter = 10000)\n",
    "lr_clf.fit(X_train, y_train)\n",
    "\n",
    "lr_clf_eval_metrics = eval_metric_df(lr_clf, X_test, y_test, 'Logistic Regression')\n",
    "lr_clf_eval_metrics"
   ]
  },
  {
   "cell_type": "markdown",
   "id": "ef56101f-465c-4f82-b32f-debd8a418646",
   "metadata": {
    "id": "ef56101f-465c-4f82-b32f-debd8a418646",
    "tags": []
   },
   "source": [
    "#### Random Forest"
   ]
  },
  {
   "cell_type": "code",
   "execution_count": 32,
   "id": "fd6fffa1-20e3-40ff-8686-c3a16ad16e97",
   "metadata": {
    "colab": {
     "base_uri": "https://localhost:8080/",
     "height": 279
    },
    "executionInfo": {
     "elapsed": 21450,
     "status": "ok",
     "timestamp": 1685954565970,
     "user": {
      "displayName": "Radium-224",
      "userId": "15343147490351956333"
     },
     "user_tz": -480
    },
    "id": "fd6fffa1-20e3-40ff-8686-c3a16ad16e97",
    "outputId": "64a6a7e5-41b3-4e6f-f7cd-5a65b2f0e7e2"
   },
   "outputs": [
    {
     "name": "stdout",
     "output_type": "stream",
     "text": [
      "Confusion matrix:\n",
      " [[908 334]\n",
      " [292 966]] \n",
      "\n"
     ]
    },
    {
     "data": {
      "text/html": [
       "\n",
       "  <div id=\"df-e4473b3e-deb7-472b-98bd-f69d9ad799f0\">\n",
       "    <div class=\"colab-df-container\">\n",
       "      <div>\n",
       "<style scoped>\n",
       "    .dataframe tbody tr th:only-of-type {\n",
       "        vertical-align: middle;\n",
       "    }\n",
       "\n",
       "    .dataframe tbody tr th {\n",
       "        vertical-align: top;\n",
       "    }\n",
       "\n",
       "    .dataframe thead th {\n",
       "        text-align: right;\n",
       "    }\n",
       "</style>\n",
       "<table border=\"1\" class=\"dataframe\">\n",
       "  <thead>\n",
       "    <tr style=\"text-align: right;\">\n",
       "      <th></th>\n",
       "      <th>Random Forest</th>\n",
       "    </tr>\n",
       "  </thead>\n",
       "  <tbody>\n",
       "    <tr>\n",
       "      <th>AUC</th>\n",
       "      <td>0.749482</td>\n",
       "    </tr>\n",
       "    <tr>\n",
       "      <th>Recall</th>\n",
       "      <td>0.767886</td>\n",
       "    </tr>\n",
       "    <tr>\n",
       "      <th>Precision</th>\n",
       "      <td>0.743077</td>\n",
       "    </tr>\n",
       "    <tr>\n",
       "      <th>F1</th>\n",
       "      <td>0.755278</td>\n",
       "    </tr>\n",
       "    <tr>\n",
       "      <th>Score</th>\n",
       "      <td>0.749600</td>\n",
       "    </tr>\n",
       "  </tbody>\n",
       "</table>\n",
       "</div>\n",
       "      <button class=\"colab-df-convert\" onclick=\"convertToInteractive('df-e4473b3e-deb7-472b-98bd-f69d9ad799f0')\"\n",
       "              title=\"Convert this dataframe to an interactive table.\"\n",
       "              style=\"display:none;\">\n",
       "        \n",
       "  <svg xmlns=\"http://www.w3.org/2000/svg\" height=\"24px\"viewBox=\"0 0 24 24\"\n",
       "       width=\"24px\">\n",
       "    <path d=\"M0 0h24v24H0V0z\" fill=\"none\"/>\n",
       "    <path d=\"M18.56 5.44l.94 2.06.94-2.06 2.06-.94-2.06-.94-.94-2.06-.94 2.06-2.06.94zm-11 1L8.5 8.5l.94-2.06 2.06-.94-2.06-.94L8.5 2.5l-.94 2.06-2.06.94zm10 10l.94 2.06.94-2.06 2.06-.94-2.06-.94-.94-2.06-.94 2.06-2.06.94z\"/><path d=\"M17.41 7.96l-1.37-1.37c-.4-.4-.92-.59-1.43-.59-.52 0-1.04.2-1.43.59L10.3 9.45l-7.72 7.72c-.78.78-.78 2.05 0 2.83L4 21.41c.39.39.9.59 1.41.59.51 0 1.02-.2 1.41-.59l7.78-7.78 2.81-2.81c.8-.78.8-2.07 0-2.86zM5.41 20L4 18.59l7.72-7.72 1.47 1.35L5.41 20z\"/>\n",
       "  </svg>\n",
       "      </button>\n",
       "      \n",
       "  <style>\n",
       "    .colab-df-container {\n",
       "      display:flex;\n",
       "      flex-wrap:wrap;\n",
       "      gap: 12px;\n",
       "    }\n",
       "\n",
       "    .colab-df-convert {\n",
       "      background-color: #E8F0FE;\n",
       "      border: none;\n",
       "      border-radius: 50%;\n",
       "      cursor: pointer;\n",
       "      display: none;\n",
       "      fill: #1967D2;\n",
       "      height: 32px;\n",
       "      padding: 0 0 0 0;\n",
       "      width: 32px;\n",
       "    }\n",
       "\n",
       "    .colab-df-convert:hover {\n",
       "      background-color: #E2EBFA;\n",
       "      box-shadow: 0px 1px 2px rgba(60, 64, 67, 0.3), 0px 1px 3px 1px rgba(60, 64, 67, 0.15);\n",
       "      fill: #174EA6;\n",
       "    }\n",
       "\n",
       "    [theme=dark] .colab-df-convert {\n",
       "      background-color: #3B4455;\n",
       "      fill: #D2E3FC;\n",
       "    }\n",
       "\n",
       "    [theme=dark] .colab-df-convert:hover {\n",
       "      background-color: #434B5C;\n",
       "      box-shadow: 0px 1px 3px 1px rgba(0, 0, 0, 0.15);\n",
       "      filter: drop-shadow(0px 1px 2px rgba(0, 0, 0, 0.3));\n",
       "      fill: #FFFFFF;\n",
       "    }\n",
       "  </style>\n",
       "\n",
       "      <script>\n",
       "        const buttonEl =\n",
       "          document.querySelector('#df-e4473b3e-deb7-472b-98bd-f69d9ad799f0 button.colab-df-convert');\n",
       "        buttonEl.style.display =\n",
       "          google.colab.kernel.accessAllowed ? 'block' : 'none';\n",
       "\n",
       "        async function convertToInteractive(key) {\n",
       "          const element = document.querySelector('#df-e4473b3e-deb7-472b-98bd-f69d9ad799f0');\n",
       "          const dataTable =\n",
       "            await google.colab.kernel.invokeFunction('convertToInteractive',\n",
       "                                                     [key], {});\n",
       "          if (!dataTable) return;\n",
       "\n",
       "          const docLinkHtml = 'Like what you see? Visit the ' +\n",
       "            '<a target=\"_blank\" href=https://colab.research.google.com/notebooks/data_table.ipynb>data table notebook</a>'\n",
       "            + ' to learn more about interactive tables.';\n",
       "          element.innerHTML = '';\n",
       "          dataTable['output_type'] = 'display_data';\n",
       "          await google.colab.output.renderOutput(dataTable, element);\n",
       "          const docLink = document.createElement('div');\n",
       "          docLink.innerHTML = docLinkHtml;\n",
       "          element.appendChild(docLink);\n",
       "        }\n",
       "      </script>\n",
       "    </div>\n",
       "  </div>\n",
       "  "
      ],
      "text/plain": [
       "           Random Forest\n",
       "AUC             0.749482\n",
       "Recall          0.767886\n",
       "Precision       0.743077\n",
       "F1              0.755278\n",
       "Score           0.749600"
      ]
     },
     "execution_count": 32,
     "metadata": {},
     "output_type": "execute_result"
    }
   ],
   "source": [
    "rf_clf = RandomForestClassifier()\n",
    "rf_clf.fit(X_train, y_train)\n",
    "\n",
    "rf_clf_eval_metrics = eval_metric_df(rf_clf, X_test, y_test, 'Random Forest')\n",
    "rf_clf_eval_metrics"
   ]
  },
  {
   "cell_type": "markdown",
   "id": "ff2738fb-ab80-4f30-a10b-c82da9e3a8bc",
   "metadata": {
    "id": "ff2738fb-ab80-4f30-a10b-c82da9e3a8bc"
   },
   "source": [
    "### Concluding Remarks\n",
    "\n",
    "And there you have it! From our example here, it is evident that Logistic Regresion is the best clasifier. But since we are using only 10000 reviews, it is considered a small dataset. You can increase the sample size and see how does the performance of each of the classifiers do!"
   ]
  },
  {
   "cell_type": "code",
   "execution_count": 32,
   "id": "df3bc43a-cb2e-433a-9436-54b3c0263ab6",
   "metadata": {
    "executionInfo": {
     "elapsed": 8,
     "status": "ok",
     "timestamp": 1685954565971,
     "user": {
      "displayName": "Radium-224",
      "userId": "15343147490351956333"
     },
     "user_tz": -480
    },
    "id": "df3bc43a-cb2e-433a-9436-54b3c0263ab6"
   },
   "outputs": [],
   "source": []
  }
 ],
 "metadata": {
  "accelerator": "GPU",
  "colab": {
   "gpuType": "T4",
   "provenance": []
  },
  "kernelspec": {
   "display_name": "Python 3 (ipykernel)",
   "language": "python",
   "name": "python3"
  },
  "language_info": {
   "codemirror_mode": {
    "name": "ipython",
    "version": 3
   },
   "file_extension": ".py",
   "mimetype": "text/x-python",
   "name": "python",
   "nbconvert_exporter": "python",
   "pygments_lexer": "ipython3",
   "version": "3.10.9"
  }
 },
 "nbformat": 4,
 "nbformat_minor": 5
}
