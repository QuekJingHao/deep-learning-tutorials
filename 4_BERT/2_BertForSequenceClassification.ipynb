{
 "cells": [
  {
   "cell_type": "markdown",
   "id": "d80cf502-a80c-4814-951a-04d84812ab98",
   "metadata": {
    "id": "d80cf502-a80c-4814-951a-04d84812ab98"
   },
   "source": [
    "# BERT Tutorial: Using BertForSequenceClassification\n",
    "### _The \"B-2\" of Deep Learning Natural Language Processing Models_\n",
    "\n",
    "### **<ins>Version:</ins>**\n",
    "@March 2023 / Quek Jing Hao\n",
    "\n",
    "\n",
    "### _<ins>**Objective</ins>:**_\n",
    "\n",
    "Be familiar with using the model BertForSequenceClassification.\n",
    "\n",
    "### **<ins>Introduction:</ins>**\n",
    "\n",
    "As we have seen from the other tutorials involving BERTModel and machine learning classifiers, it usually involves two steps: using a pretrianed BERT model to access the sentence vectors (_\"last hidden state\"_), and then sending the feature vectors dataframe for classification.\n",
    "\n",
    "In this tutorial, we introduce a powerful model inside the transformers library called BertForSequenceClassification. This model consist of a BERT model and a classifier - integrated into one. Furthermore, the model uses the PyTorch API. This is an advantage depending on your exposure to Tensorflow or PyTorch.\n",
    "\n",
    "In this tutorial, we will train a deep learning BERT model on a Amazon phones review dataset.\n",
    "\n",
    "At the same time, because this is a proper deep learning model, one should be familiar - or at least be comfortable with the PyTorch package. I recommend taking a look at https://pytorch.org/tutorials/beginner/basics/intro.html to get a very good high level view of the library."
   ]
  },
  {
   "cell_type": "markdown",
   "id": "81e23459-cbd2-4d4c-aa44-666d422b258c",
   "metadata": {
    "id": "81e23459-cbd2-4d4c-aa44-666d422b258c"
   },
   "source": [
    "There are several libraries that Colab does not have that we have to download"
   ]
  },
  {
   "cell_type": "code",
   "execution_count": 1,
   "id": "f9b8ad87-6f54-452f-990c-79b529348e9c",
   "metadata": {
    "executionInfo": {
     "elapsed": 65371,
     "status": "ok",
     "timestamp": 1686725362646,
     "user": {
      "displayName": "Radium-224",
      "userId": "15343147490351956333"
     },
     "user_tz": -480
    },
    "id": "f9b8ad87-6f54-452f-990c-79b529348e9c"
   },
   "outputs": [],
   "source": [
    "%%capture\n",
    "!pip install sentence_transformers\n",
    "!pip install datasets\n",
    "!pip install evaluate\n",
    "!pip install fastBPE sacremoses subword_nmt sentencepiece\n",
    "!pip install --upgrade gensim\n",
    "!pip install accelerate -U"
   ]
  },
  {
   "cell_type": "code",
   "execution_count": 2,
   "id": "bdebdb53-a936-4171-b2d9-2007e7072208",
   "metadata": {
    "executionInfo": {
     "elapsed": 15367,
     "status": "ok",
     "timestamp": 1686725378008,
     "user": {
      "displayName": "Radium-224",
      "userId": "15343147490351956333"
     },
     "user_tz": -480
    },
    "id": "bdebdb53-a936-4171-b2d9-2007e7072208"
   },
   "outputs": [],
   "source": [
    "# import modules and dependencies\n",
    "import numpy as np\n",
    "import pandas as pd\n",
    "import torch\n",
    "import matplotlib.pyplot as mpp\n",
    "import re\n",
    "import nltk\n",
    "import time\n",
    "import sys\n",
    "\n",
    "from sklearn.metrics import accuracy_score\n",
    "from sklearn.metrics import roc_auc_score\n",
    "from sklearn.metrics import recall_score\n",
    "from sklearn.metrics import precision_score\n",
    "from sklearn.metrics import f1_score\n",
    "from sklearn.metrics import confusion_matrix\n",
    "\n",
    "from datasets import load_dataset\n",
    "from torch.utils.data import DataLoader\n",
    "from tqdm.auto import tqdm\n",
    "from torch.optim import AdamW\n",
    "\n",
    "from transformers.optimization import Adafactor, AdafactorSchedule\n",
    "from datasets.dataset_dict import DatasetDict, Dataset\n",
    "\n",
    "from wordcloud import WordCloud\n",
    "from matplotlib.pyplot import figure\n",
    "\n",
    "from sklearn.model_selection import train_test_split\n",
    "from transformers import EarlyStoppingCallback\n",
    "from transformers import AutoTokenizer, DataCollatorWithPadding, DataCollatorForLanguageModeling\n",
    "from transformers import BertModel, BertTokenizer, BertForSequenceClassification\n",
    "from transformers import TrainingArguments, Trainer\n",
    "from transformers import AutoModelForSequenceClassification\n",
    "\n",
    "pd.set_option('display.max_colwidth', None)\n",
    "pd.set_option('display.max_columns', None)\n",
    "pd.set_option('display.max_rows', 10)"
   ]
  },
  {
   "cell_type": "markdown",
   "id": "dcc6a95e-3c53-4b49-b288-4ebe47ea2c5a",
   "metadata": {
    "id": "dcc6a95e-3c53-4b49-b288-4ebe47ea2c5a"
   },
   "source": [
    "### Model Specification and Environment Configuration\n",
    "\n",
    "First, we want to ensure the at we have GPU computing"
   ]
  },
  {
   "cell_type": "code",
   "execution_count": 3,
   "id": "6eea928a-8b7b-4db3-a6d0-67a6a31b155c",
   "metadata": {
    "colab": {
     "base_uri": "https://localhost:8080/"
    },
    "executionInfo": {
     "elapsed": 39,
     "status": "ok",
     "timestamp": 1686725378009,
     "user": {
      "displayName": "Radium-224",
      "userId": "15343147490351956333"
     },
     "user_tz": -480
    },
    "id": "6eea928a-8b7b-4db3-a6d0-67a6a31b155c",
    "outputId": "e28f3fa8-fee7-41f7-d1e9-4d6032ebe999"
   },
   "outputs": [
    {
     "name": "stdout",
     "output_type": "stream",
     "text": [
      "cuda \n",
      "Name of device: Tesla T4\n"
     ]
    }
   ],
   "source": [
    "detected_device = torch.device('cuda' if torch.cuda.is_available() else 'cpu')\n",
    "try:\n",
    "    device_name = torch.cuda.get_device_name()\n",
    "except:\n",
    "    device_name = 'CPU'\n",
    "\n",
    "print(detected_device, f'\\nName of device: {device_name}')"
   ]
  },
  {
   "cell_type": "markdown",
   "id": "af2bc950-75d6-4e8c-ba83-fb53a2862ddd",
   "metadata": {
    "id": "af2bc950-75d6-4e8c-ba83-fb53a2862ddd"
   },
   "source": [
    "Next we specify the BERT Model that we are interested in using, as well as the tokenizer"
   ]
  },
  {
   "cell_type": "code",
   "execution_count": 4,
   "id": "gMFYZrUzLeTa",
   "metadata": {
    "executionInfo": {
     "elapsed": 350,
     "status": "ok",
     "timestamp": 1686725418028,
     "user": {
      "displayName": "Radium-224",
      "userId": "15343147490351956333"
     },
     "user_tz": -480
    },
    "id": "gMFYZrUzLeTa"
   },
   "outputs": [],
   "source": [
    "NO_CLASSES = 2"
   ]
  },
  {
   "cell_type": "code",
   "execution_count": 5,
   "id": "e6f31a28-4b95-4eec-b1aa-5ba152a01df6",
   "metadata": {
    "colab": {
     "base_uri": "https://localhost:8080/",
     "height": 1000,
     "referenced_widgets": [
      "ab39b0586f0c48c0bd26defe92cadda4",
      "7f27a916119e45859c3b09ab2fab528b",
      "fc205a76741b411f8e93e85cd88b5089",
      "a165f95910b9458ea5dccdfa3348c9e8",
      "89cefa4793ec4d6795eaf95e444ca913",
      "b3b258af997a4b2fae93cead6184cf52",
      "92d8003b118d40df9a4b99cfbedbfcb1",
      "8424840c98ba457d8ffa3ca4a6282bc6",
      "54dcd73618e8483ba73d0b4eb221879a",
      "905d1b704da948d1b33bb466cc56b9bc",
      "f677d7558bab4626a35c43f088a28847",
      "9951e65e569e411e947854432d50a836",
      "463422d5d81b47f89f80f9bc07fb5848",
      "987a15463a6a4a08976633f6ec55f7f6",
      "0b24353c8d824c54b665cd51e3a8dea2",
      "1c197e82815c44dfa13a570677b98ad3",
      "ce70ed63c9374a01a9cef5fe24d050a5",
      "4f1cd05894d3438aba263c6f7f96dfdb",
      "6a1d492f519d4dc88b39a270d3a4c26e",
      "ff56502ad08e45d7a56f6d15ee4a1c38",
      "06599ef9586b4058802c1fce3e2d17c7",
      "c670d5a72dc44c42bbbc55207322e4ed",
      "eba6892fa6b44ad484dd8f143f827a0c",
      "42575e56e0c54a54985dbc9e3cd3a6e7",
      "f4de1252eae5456fa0cf1304e2246cf2",
      "7c65ce964a424cb6aaf32ba040cd54f3",
      "781aae746d6f4f15a85ca4c39827447c",
      "44dfaf8c90ec4356a1dd484d304bdd56",
      "e2578d0f7a42400196c921f8c32e6397",
      "615cdc37f5d041aaa3e2ce281ddc41c9",
      "f17566da4b834b8a9edd6259a67fc0f3",
      "5439d7fa17eb4b6fad541910c5ce48dc",
      "b1f1fec237ca4fe795d781a18899f814",
      "f8274652207d456f9492fe0372a657e6",
      "42b7e93e4c28453c8d5072311e0aa173",
      "9d083e0821764724853c20b7a1659b3f",
      "ddb58fdb5cca402eb054b115da087321",
      "218089163647471ea183795d137745f1",
      "d1fd000e2ac8432b9b4dcb1f3568238b",
      "68a3f50a08414d50861237afb5ef2f0e",
      "4b0895ec606e433085a6f7a7302cb152",
      "9a19cce5cb6f4527886fbfd2dce22eb6",
      "d438a37a79814f02a1554299b281bb9a",
      "348d22f54fe44de4b7753c8433748ee9"
     ]
    },
    "executionInfo": {
     "elapsed": 11636,
     "status": "ok",
     "timestamp": 1686725430545,
     "user": {
      "displayName": "Radium-224",
      "userId": "15343147490351956333"
     },
     "user_tz": -480
    },
    "id": "e6f31a28-4b95-4eec-b1aa-5ba152a01df6",
    "outputId": "87e65c98-c20f-480d-9cac-6b3a1d116f2d"
   },
   "outputs": [
    {
     "data": {
      "application/vnd.jupyter.widget-view+json": {
       "model_id": "ab39b0586f0c48c0bd26defe92cadda4",
       "version_major": 2,
       "version_minor": 0
      },
      "text/plain": [
       "Downloading (…)solve/main/vocab.txt:   0%|          | 0.00/232k [00:00<?, ?B/s]"
      ]
     },
     "metadata": {},
     "output_type": "display_data"
    },
    {
     "data": {
      "application/vnd.jupyter.widget-view+json": {
       "model_id": "9951e65e569e411e947854432d50a836",
       "version_major": 2,
       "version_minor": 0
      },
      "text/plain": [
       "Downloading (…)okenizer_config.json:   0%|          | 0.00/28.0 [00:00<?, ?B/s]"
      ]
     },
     "metadata": {},
     "output_type": "display_data"
    },
    {
     "data": {
      "application/vnd.jupyter.widget-view+json": {
       "model_id": "eba6892fa6b44ad484dd8f143f827a0c",
       "version_major": 2,
       "version_minor": 0
      },
      "text/plain": [
       "Downloading (…)lve/main/config.json:   0%|          | 0.00/570 [00:00<?, ?B/s]"
      ]
     },
     "metadata": {},
     "output_type": "display_data"
    },
    {
     "data": {
      "application/vnd.jupyter.widget-view+json": {
       "model_id": "f8274652207d456f9492fe0372a657e6",
       "version_major": 2,
       "version_minor": 0
      },
      "text/plain": [
       "Downloading model.safetensors:   0%|          | 0.00/440M [00:00<?, ?B/s]"
      ]
     },
     "metadata": {},
     "output_type": "display_data"
    },
    {
     "name": "stderr",
     "output_type": "stream",
     "text": [
      "Some weights of the model checkpoint at bert-base-uncased were not used when initializing BertForSequenceClassification: ['cls.predictions.transform.LayerNorm.weight', 'cls.predictions.transform.dense.weight', 'cls.predictions.transform.dense.bias', 'cls.seq_relationship.bias', 'cls.predictions.bias', 'cls.predictions.transform.LayerNorm.bias', 'cls.seq_relationship.weight']\n",
      "- This IS expected if you are initializing BertForSequenceClassification from the checkpoint of a model trained on another task or with another architecture (e.g. initializing a BertForSequenceClassification model from a BertForPreTraining model).\n",
      "- This IS NOT expected if you are initializing BertForSequenceClassification from the checkpoint of a model that you expect to be exactly identical (initializing a BertForSequenceClassification model from a BertForSequenceClassification model).\n",
      "Some weights of BertForSequenceClassification were not initialized from the model checkpoint at bert-base-uncased and are newly initialized: ['classifier.bias', 'classifier.weight']\n",
      "You should probably TRAIN this model on a down-stream task to be able to use it for predictions and inference.\n"
     ]
    },
    {
     "data": {
      "text/plain": [
       "BertForSequenceClassification(\n",
       "  (bert): BertModel(\n",
       "    (embeddings): BertEmbeddings(\n",
       "      (word_embeddings): Embedding(30522, 768, padding_idx=0)\n",
       "      (position_embeddings): Embedding(512, 768)\n",
       "      (token_type_embeddings): Embedding(2, 768)\n",
       "      (LayerNorm): LayerNorm((768,), eps=1e-12, elementwise_affine=True)\n",
       "      (dropout): Dropout(p=0.1, inplace=False)\n",
       "    )\n",
       "    (encoder): BertEncoder(\n",
       "      (layer): ModuleList(\n",
       "        (0-11): 12 x BertLayer(\n",
       "          (attention): BertAttention(\n",
       "            (self): BertSelfAttention(\n",
       "              (query): Linear(in_features=768, out_features=768, bias=True)\n",
       "              (key): Linear(in_features=768, out_features=768, bias=True)\n",
       "              (value): Linear(in_features=768, out_features=768, bias=True)\n",
       "              (dropout): Dropout(p=0.1, inplace=False)\n",
       "            )\n",
       "            (output): BertSelfOutput(\n",
       "              (dense): Linear(in_features=768, out_features=768, bias=True)\n",
       "              (LayerNorm): LayerNorm((768,), eps=1e-12, elementwise_affine=True)\n",
       "              (dropout): Dropout(p=0.1, inplace=False)\n",
       "            )\n",
       "          )\n",
       "          (intermediate): BertIntermediate(\n",
       "            (dense): Linear(in_features=768, out_features=3072, bias=True)\n",
       "            (intermediate_act_fn): GELUActivation()\n",
       "          )\n",
       "          (output): BertOutput(\n",
       "            (dense): Linear(in_features=3072, out_features=768, bias=True)\n",
       "            (LayerNorm): LayerNorm((768,), eps=1e-12, elementwise_affine=True)\n",
       "            (dropout): Dropout(p=0.1, inplace=False)\n",
       "          )\n",
       "        )\n",
       "      )\n",
       "    )\n",
       "    (pooler): BertPooler(\n",
       "      (dense): Linear(in_features=768, out_features=768, bias=True)\n",
       "      (activation): Tanh()\n",
       "    )\n",
       "  )\n",
       "  (dropout): Dropout(p=0.1, inplace=False)\n",
       "  (classifier): Linear(in_features=768, out_features=2, bias=True)\n",
       ")"
      ]
     },
     "execution_count": 5,
     "metadata": {},
     "output_type": "execute_result"
    }
   ],
   "source": [
    "model_name = 'bert-base-uncased'\n",
    "\n",
    "bert_tokenizer = BertTokenizer.from_pretrained(model_name)\n",
    "model = BertForSequenceClassification.from_pretrained(model_name, num_labels = NO_CLASSES)\n",
    "\n",
    "# push the model to GPU\n",
    "model.to(detected_device)"
   ]
  },
  {
   "cell_type": "markdown",
   "id": "c3c7b099-35ef-4c54-943c-09ece5ce8106",
   "metadata": {
    "id": "c3c7b099-35ef-4c54-943c-09ece5ce8106"
   },
   "source": [
    "### Read Dataset\n",
    "\n",
    "Here, we will read the Amazon reviews dataset.\n",
    "\n",
    "This sample dataset is hosted on my Github account"
   ]
  },
  {
   "cell_type": "code",
   "execution_count": 6,
   "id": "91b8293c-03cb-41ea-a3a8-72ff50a4f7fd",
   "metadata": {
    "colab": {
     "base_uri": "https://localhost:8080/"
    },
    "executionInfo": {
     "elapsed": 1199,
     "status": "ok",
     "timestamp": 1686725431714,
     "user": {
      "displayName": "Radium-224",
      "userId": "15343147490351956333"
     },
     "user_tz": -480
    },
    "id": "91b8293c-03cb-41ea-a3a8-72ff50a4f7fd",
    "outputId": "d1559ac1-4889-48e8-ecfb-01138142e10b"
   },
   "outputs": [
    {
     "name": "stdout",
     "output_type": "stream",
     "text": [
      "Cloning into 'amazon-reviews-sample-dataset'...\n",
      "remote: Enumerating objects: 6, done.\u001b[K\n",
      "remote: Counting objects: 100% (6/6), done.\u001b[K\n",
      "remote: Compressing objects: 100% (5/5), done.\u001b[K\n",
      "remote: Total 6 (delta 0), reused 3 (delta 0), pack-reused 0\u001b[K\n",
      "Unpacking objects: 100% (6/6), 5.70 MiB | 8.94 MiB/s, done.\n"
     ]
    }
   ],
   "source": [
    "!git clone https://github.com/QuekJingHao/amazon-reviews-sample-dataset.git"
   ]
  },
  {
   "cell_type": "code",
   "execution_count": 7,
   "id": "7dbeca51-041d-47bc-b2e4-be88c9986f99",
   "metadata": {
    "colab": {
     "base_uri": "https://localhost:8080/",
     "height": 225
    },
    "executionInfo": {
     "elapsed": 560,
     "status": "ok",
     "timestamp": 1686725432270,
     "user": {
      "displayName": "Radium-224",
      "userId": "15343147490351956333"
     },
     "user_tz": -480
    },
    "id": "7dbeca51-041d-47bc-b2e4-be88c9986f99",
    "outputId": "3da30f8f-6c84-4bc2-adbc-7a807f601bd0"
   },
   "outputs": [
    {
     "name": "stdout",
     "output_type": "stream",
     "text": [
      "Length of dataframe: 49661\n"
     ]
    },
    {
     "data": {
      "text/html": [
       "\n",
       "  <div id=\"df-b8114d6e-bc50-4ae8-b5b2-04d66eaacec7\">\n",
       "    <div class=\"colab-df-container\">\n",
       "      <div>\n",
       "<style scoped>\n",
       "    .dataframe tbody tr th:only-of-type {\n",
       "        vertical-align: middle;\n",
       "    }\n",
       "\n",
       "    .dataframe tbody tr th {\n",
       "        vertical-align: top;\n",
       "    }\n",
       "\n",
       "    .dataframe thead th {\n",
       "        text-align: right;\n",
       "    }\n",
       "</style>\n",
       "<table border=\"1\" class=\"dataframe\">\n",
       "  <thead>\n",
       "    <tr style=\"text-align: right;\">\n",
       "      <th></th>\n",
       "      <th>Unnamed: 0</th>\n",
       "      <th>Product Name</th>\n",
       "      <th>Brand Name</th>\n",
       "      <th>Price</th>\n",
       "      <th>Rating</th>\n",
       "      <th>Reviews</th>\n",
       "      <th>Review Votes</th>\n",
       "    </tr>\n",
       "  </thead>\n",
       "  <tbody>\n",
       "    <tr>\n",
       "      <th>0</th>\n",
       "      <td>198019</td>\n",
       "      <td>HTC Radar C110E Unlocked GSM Phone - White/Silver</td>\n",
       "      <td>HTC</td>\n",
       "      <td>74.99</td>\n",
       "      <td>2</td>\n",
       "      <td>Had to return this phone as it was password locked by previous user and I couldnot do much about it.Also there were couple of scratches on the display. Returned it.</td>\n",
       "      <td>0.0</td>\n",
       "    </tr>\n",
       "    <tr>\n",
       "      <th>1</th>\n",
       "      <td>106928</td>\n",
       "      <td>BLU Advance 4.0L Unlocked Smartphone -US GSM - White</td>\n",
       "      <td>BLU</td>\n",
       "      <td>47.97</td>\n",
       "      <td>5</td>\n",
       "      <td>Good</td>\n",
       "      <td>0.0</td>\n",
       "    </tr>\n",
       "  </tbody>\n",
       "</table>\n",
       "</div>\n",
       "      <button class=\"colab-df-convert\" onclick=\"convertToInteractive('df-b8114d6e-bc50-4ae8-b5b2-04d66eaacec7')\"\n",
       "              title=\"Convert this dataframe to an interactive table.\"\n",
       "              style=\"display:none;\">\n",
       "        \n",
       "  <svg xmlns=\"http://www.w3.org/2000/svg\" height=\"24px\"viewBox=\"0 0 24 24\"\n",
       "       width=\"24px\">\n",
       "    <path d=\"M0 0h24v24H0V0z\" fill=\"none\"/>\n",
       "    <path d=\"M18.56 5.44l.94 2.06.94-2.06 2.06-.94-2.06-.94-.94-2.06-.94 2.06-2.06.94zm-11 1L8.5 8.5l.94-2.06 2.06-.94-2.06-.94L8.5 2.5l-.94 2.06-2.06.94zm10 10l.94 2.06.94-2.06 2.06-.94-2.06-.94-.94-2.06-.94 2.06-2.06.94z\"/><path d=\"M17.41 7.96l-1.37-1.37c-.4-.4-.92-.59-1.43-.59-.52 0-1.04.2-1.43.59L10.3 9.45l-7.72 7.72c-.78.78-.78 2.05 0 2.83L4 21.41c.39.39.9.59 1.41.59.51 0 1.02-.2 1.41-.59l7.78-7.78 2.81-2.81c.8-.78.8-2.07 0-2.86zM5.41 20L4 18.59l7.72-7.72 1.47 1.35L5.41 20z\"/>\n",
       "  </svg>\n",
       "      </button>\n",
       "      \n",
       "  <style>\n",
       "    .colab-df-container {\n",
       "      display:flex;\n",
       "      flex-wrap:wrap;\n",
       "      gap: 12px;\n",
       "    }\n",
       "\n",
       "    .colab-df-convert {\n",
       "      background-color: #E8F0FE;\n",
       "      border: none;\n",
       "      border-radius: 50%;\n",
       "      cursor: pointer;\n",
       "      display: none;\n",
       "      fill: #1967D2;\n",
       "      height: 32px;\n",
       "      padding: 0 0 0 0;\n",
       "      width: 32px;\n",
       "    }\n",
       "\n",
       "    .colab-df-convert:hover {\n",
       "      background-color: #E2EBFA;\n",
       "      box-shadow: 0px 1px 2px rgba(60, 64, 67, 0.3), 0px 1px 3px 1px rgba(60, 64, 67, 0.15);\n",
       "      fill: #174EA6;\n",
       "    }\n",
       "\n",
       "    [theme=dark] .colab-df-convert {\n",
       "      background-color: #3B4455;\n",
       "      fill: #D2E3FC;\n",
       "    }\n",
       "\n",
       "    [theme=dark] .colab-df-convert:hover {\n",
       "      background-color: #434B5C;\n",
       "      box-shadow: 0px 1px 3px 1px rgba(0, 0, 0, 0.15);\n",
       "      filter: drop-shadow(0px 1px 2px rgba(0, 0, 0, 0.3));\n",
       "      fill: #FFFFFF;\n",
       "    }\n",
       "  </style>\n",
       "\n",
       "      <script>\n",
       "        const buttonEl =\n",
       "          document.querySelector('#df-b8114d6e-bc50-4ae8-b5b2-04d66eaacec7 button.colab-df-convert');\n",
       "        buttonEl.style.display =\n",
       "          google.colab.kernel.accessAllowed ? 'block' : 'none';\n",
       "\n",
       "        async function convertToInteractive(key) {\n",
       "          const element = document.querySelector('#df-b8114d6e-bc50-4ae8-b5b2-04d66eaacec7');\n",
       "          const dataTable =\n",
       "            await google.colab.kernel.invokeFunction('convertToInteractive',\n",
       "                                                     [key], {});\n",
       "          if (!dataTable) return;\n",
       "\n",
       "          const docLinkHtml = 'Like what you see? Visit the ' +\n",
       "            '<a target=\"_blank\" href=https://colab.research.google.com/notebooks/data_table.ipynb>data table notebook</a>'\n",
       "            + ' to learn more about interactive tables.';\n",
       "          element.innerHTML = '';\n",
       "          dataTable['output_type'] = 'display_data';\n",
       "          await google.colab.output.renderOutput(dataTable, element);\n",
       "          const docLink = document.createElement('div');\n",
       "          docLink.innerHTML = docLinkHtml;\n",
       "          element.appendChild(docLink);\n",
       "        }\n",
       "      </script>\n",
       "    </div>\n",
       "  </div>\n",
       "  "
      ],
      "text/plain": [
       "   Unnamed: 0                                          Product Name  \\\n",
       "0      198019     HTC Radar C110E Unlocked GSM Phone - White/Silver   \n",
       "1      106928  BLU Advance 4.0L Unlocked Smartphone -US GSM - White   \n",
       "\n",
       "  Brand Name  Price  Rating  \\\n",
       "0        HTC  74.99       2   \n",
       "1        BLU  47.97       5   \n",
       "\n",
       "                                                                                                                                                                Reviews  \\\n",
       "0  Had to return this phone as it was password locked by previous user and I couldnot do much about it.Also there were couple of scratches on the display. Returned it.   \n",
       "1                                                                                                                                                                  Good   \n",
       "\n",
       "   Review Votes  \n",
       "0           0.0  \n",
       "1           0.0  "
      ]
     },
     "execution_count": 7,
     "metadata": {},
     "output_type": "execute_result"
    }
   ],
   "source": [
    "df = pd.read_csv('/content/amazon-reviews-sample-dataset/amazon_sample.csv')\n",
    "\n",
    "print(f'Length of dataframe: {len(df)}')\n",
    "df.head(2)"
   ]
  },
  {
   "cell_type": "markdown",
   "id": "5mBUl9Z9p5ka",
   "metadata": {
    "id": "5mBUl9Z9p5ka"
   },
   "source": [
    "What we can do, is to split this dataframe into two - one that we call the train_df will go into the train-test-split. While another will be used to evaulate how well the model do."
   ]
  },
  {
   "cell_type": "code",
   "execution_count": 21,
   "id": "Vk5So3p3p5Ri",
   "metadata": {
    "executionInfo": {
     "elapsed": 10,
     "status": "ok",
     "timestamp": 1686727606196,
     "user": {
      "displayName": "Radium-224",
      "userId": "15343147490351956333"
     },
     "user_tz": -480
    },
    "id": "Vk5So3p3p5Ri"
   },
   "outputs": [],
   "source": [
    "df = df.sample(frac = 1.0, random_state = 90)\n",
    "\n",
    "train_df = df.iloc[:48000]\n",
    "test_df = df.iloc[48000:]"
   ]
  },
  {
   "cell_type": "code",
   "execution_count": null,
   "id": "5a8141bc-eaa3-4925-a649-83c1b99a18a3",
   "metadata": {
    "id": "5a8141bc-eaa3-4925-a649-83c1b99a18a3"
   },
   "outputs": [],
   "source": []
  },
  {
   "cell_type": "markdown",
   "id": "e3b8f2c6-d782-4324-8407-7cd8e56030de",
   "metadata": {
    "id": "e3b8f2c6-d782-4324-8407-7cd8e56030de"
   },
   "source": [
    "### Data Aggregation\n",
    "\n",
    "As you can see, the dataframe has several columns that we do not need. So, let us set perform some data manipulation to transform it so we can work with it. We pick out only the relevant columns - in this case, are the Reviews and Rating columns. We will also need to decide the sentiments of the Reviews. In this case, let's set the rule that if the rating is less than 3, we consider it to be Negative. On the other hand, if it is more then 3, then we consider it Positive. We also represent 1 to be Positive, and 0 to be Negative. We will remove Ratings with 3 as these are neutral Ratings."
   ]
  },
  {
   "cell_type": "code",
   "execution_count": 9,
   "id": "f175d5ea-e065-4d5d-8103-eb59adaad918",
   "metadata": {
    "executionInfo": {
     "elapsed": 9,
     "status": "ok",
     "timestamp": 1686725472532,
     "user": {
      "displayName": "Radium-224",
      "userId": "15343147490351956333"
     },
     "user_tz": -480
    },
    "id": "f175d5ea-e065-4d5d-8103-eb59adaad918"
   },
   "outputs": [],
   "source": [
    "subdf = train_df.copy()[['Reviews', 'Rating']]\n",
    "\n",
    "subdf = subdf[subdf['Rating'] != 3].reset_index(drop = True)\n",
    "\n",
    "subdf.loc[subdf['Rating'] < 3, 'Rating'] = 0\n",
    "subdf.loc[subdf['Rating'] > 3, 'Rating'] = 1\n",
    "\n",
    "subdf = subdf[subdf['Reviews'].notna()].reset_index(drop = True)\n",
    "\n",
    "# Lastly, we take a sample of the subdf\n",
    "subdf = subdf.sample(n = 20000).reset_index(drop = True)"
   ]
  },
  {
   "cell_type": "code",
   "execution_count": 10,
   "id": "e1b2426b-81b3-413c-9cbe-ccc1e373875f",
   "metadata": {
    "colab": {
     "base_uri": "https://localhost:8080/"
    },
    "executionInfo": {
     "elapsed": 4,
     "status": "ok",
     "timestamp": 1686725474371,
     "user": {
      "displayName": "Radium-224",
      "userId": "15343147490351956333"
     },
     "user_tz": -480
    },
    "id": "e1b2426b-81b3-413c-9cbe-ccc1e373875f",
    "outputId": "2fdb495d-5084-4b1d-eb43-6819ed600fab"
   },
   "outputs": [
    {
     "data": {
      "text/plain": [
       "1    14898\n",
       "0     5102\n",
       "Name: Rating, dtype: int64"
      ]
     },
     "execution_count": 10,
     "metadata": {},
     "output_type": "execute_result"
    }
   ],
   "source": [
    "subdf['Rating'].value_counts()"
   ]
  },
  {
   "cell_type": "markdown",
   "id": "88f165a2-5b2c-4248-a86e-1145096c9225",
   "metadata": {
    "id": "88f165a2-5b2c-4248-a86e-1145096c9225"
   },
   "source": [
    "### Data Cleaning\n",
    "\n",
    "Typically, text data is not always clean. So, one has to decide on how to clean the text data such to remove any unwanted characters, in the text. However, the good news is that for deep learning language models, one do not need to perform very heavy cleaning on the text data. The addition of 'dirty' text will not impact the performance of the model significantly.\n",
    "\n",
    "Nonetheless, let us perform some basic cleaning. We will:\n",
    "\n",
    "1. Lowercase all words in the reviews and remove all starting and sending white spaces"
   ]
  },
  {
   "cell_type": "code",
   "execution_count": 11,
   "id": "ce8b8c62-77aa-4925-90ee-4867ffba8051",
   "metadata": {
    "colab": {
     "base_uri": "https://localhost:8080/",
     "height": 225
    },
    "executionInfo": {
     "elapsed": 21,
     "status": "ok",
     "timestamp": 1686725475886,
     "user": {
      "displayName": "Radium-224",
      "userId": "15343147490351956333"
     },
     "user_tz": -480
    },
    "id": "ce8b8c62-77aa-4925-90ee-4867ffba8051",
    "outputId": "efb0fb34-8a6d-46f2-8815-f493bb3ca1d3"
   },
   "outputs": [
    {
     "data": {
      "text/html": [
       "\n",
       "  <div id=\"df-4b74c51d-b1c3-4f9b-ad8a-e672c1cbdc12\">\n",
       "    <div class=\"colab-df-container\">\n",
       "      <div>\n",
       "<style scoped>\n",
       "    .dataframe tbody tr th:only-of-type {\n",
       "        vertical-align: middle;\n",
       "    }\n",
       "\n",
       "    .dataframe tbody tr th {\n",
       "        vertical-align: top;\n",
       "    }\n",
       "\n",
       "    .dataframe thead th {\n",
       "        text-align: right;\n",
       "    }\n",
       "</style>\n",
       "<table border=\"1\" class=\"dataframe\">\n",
       "  <thead>\n",
       "    <tr style=\"text-align: right;\">\n",
       "      <th></th>\n",
       "      <th>Reviews</th>\n",
       "      <th>Rating</th>\n",
       "      <th>Clean_Reviews</th>\n",
       "    </tr>\n",
       "  </thead>\n",
       "  <tbody>\n",
       "    <tr>\n",
       "      <th>0</th>\n",
       "      <td>The good news is that it was an unlocked phone. And I was able to go to any carrier to start it up.The bad news is that it does not have a good battery life. The phone loses its charge very quickly!</td>\n",
       "      <td>0</td>\n",
       "      <td>the good news is that it was an unlocked phone. and i was able to go to any carrier to start it up.the bad news is that it does not have a good battery life. the phone loses its charge very quickly!</td>\n",
       "    </tr>\n",
       "    <tr>\n",
       "      <th>1</th>\n",
       "      <td>This phone worked perfectly for 1 month and then had no service. After going to T-Mobile for help, they discovered this phone was never paid for by the original owner and shut off. This is fraud!!</td>\n",
       "      <td>0</td>\n",
       "      <td>this phone worked perfectly for 1 month and then had no service. after going to t-mobile for help, they discovered this phone was never paid for by the original owner and shut off. this is fraud!!</td>\n",
       "    </tr>\n",
       "  </tbody>\n",
       "</table>\n",
       "</div>\n",
       "      <button class=\"colab-df-convert\" onclick=\"convertToInteractive('df-4b74c51d-b1c3-4f9b-ad8a-e672c1cbdc12')\"\n",
       "              title=\"Convert this dataframe to an interactive table.\"\n",
       "              style=\"display:none;\">\n",
       "        \n",
       "  <svg xmlns=\"http://www.w3.org/2000/svg\" height=\"24px\"viewBox=\"0 0 24 24\"\n",
       "       width=\"24px\">\n",
       "    <path d=\"M0 0h24v24H0V0z\" fill=\"none\"/>\n",
       "    <path d=\"M18.56 5.44l.94 2.06.94-2.06 2.06-.94-2.06-.94-.94-2.06-.94 2.06-2.06.94zm-11 1L8.5 8.5l.94-2.06 2.06-.94-2.06-.94L8.5 2.5l-.94 2.06-2.06.94zm10 10l.94 2.06.94-2.06 2.06-.94-2.06-.94-.94-2.06-.94 2.06-2.06.94z\"/><path d=\"M17.41 7.96l-1.37-1.37c-.4-.4-.92-.59-1.43-.59-.52 0-1.04.2-1.43.59L10.3 9.45l-7.72 7.72c-.78.78-.78 2.05 0 2.83L4 21.41c.39.39.9.59 1.41.59.51 0 1.02-.2 1.41-.59l7.78-7.78 2.81-2.81c.8-.78.8-2.07 0-2.86zM5.41 20L4 18.59l7.72-7.72 1.47 1.35L5.41 20z\"/>\n",
       "  </svg>\n",
       "      </button>\n",
       "      \n",
       "  <style>\n",
       "    .colab-df-container {\n",
       "      display:flex;\n",
       "      flex-wrap:wrap;\n",
       "      gap: 12px;\n",
       "    }\n",
       "\n",
       "    .colab-df-convert {\n",
       "      background-color: #E8F0FE;\n",
       "      border: none;\n",
       "      border-radius: 50%;\n",
       "      cursor: pointer;\n",
       "      display: none;\n",
       "      fill: #1967D2;\n",
       "      height: 32px;\n",
       "      padding: 0 0 0 0;\n",
       "      width: 32px;\n",
       "    }\n",
       "\n",
       "    .colab-df-convert:hover {\n",
       "      background-color: #E2EBFA;\n",
       "      box-shadow: 0px 1px 2px rgba(60, 64, 67, 0.3), 0px 1px 3px 1px rgba(60, 64, 67, 0.15);\n",
       "      fill: #174EA6;\n",
       "    }\n",
       "\n",
       "    [theme=dark] .colab-df-convert {\n",
       "      background-color: #3B4455;\n",
       "      fill: #D2E3FC;\n",
       "    }\n",
       "\n",
       "    [theme=dark] .colab-df-convert:hover {\n",
       "      background-color: #434B5C;\n",
       "      box-shadow: 0px 1px 3px 1px rgba(0, 0, 0, 0.15);\n",
       "      filter: drop-shadow(0px 1px 2px rgba(0, 0, 0, 0.3));\n",
       "      fill: #FFFFFF;\n",
       "    }\n",
       "  </style>\n",
       "\n",
       "      <script>\n",
       "        const buttonEl =\n",
       "          document.querySelector('#df-4b74c51d-b1c3-4f9b-ad8a-e672c1cbdc12 button.colab-df-convert');\n",
       "        buttonEl.style.display =\n",
       "          google.colab.kernel.accessAllowed ? 'block' : 'none';\n",
       "\n",
       "        async function convertToInteractive(key) {\n",
       "          const element = document.querySelector('#df-4b74c51d-b1c3-4f9b-ad8a-e672c1cbdc12');\n",
       "          const dataTable =\n",
       "            await google.colab.kernel.invokeFunction('convertToInteractive',\n",
       "                                                     [key], {});\n",
       "          if (!dataTable) return;\n",
       "\n",
       "          const docLinkHtml = 'Like what you see? Visit the ' +\n",
       "            '<a target=\"_blank\" href=https://colab.research.google.com/notebooks/data_table.ipynb>data table notebook</a>'\n",
       "            + ' to learn more about interactive tables.';\n",
       "          element.innerHTML = '';\n",
       "          dataTable['output_type'] = 'display_data';\n",
       "          await google.colab.output.renderOutput(dataTable, element);\n",
       "          const docLink = document.createElement('div');\n",
       "          docLink.innerHTML = docLinkHtml;\n",
       "          element.appendChild(docLink);\n",
       "        }\n",
       "      </script>\n",
       "    </div>\n",
       "  </div>\n",
       "  "
      ],
      "text/plain": [
       "                                                                                                                                                                                                  Reviews  \\\n",
       "0  The good news is that it was an unlocked phone. And I was able to go to any carrier to start it up.The bad news is that it does not have a good battery life. The phone loses its charge very quickly!   \n",
       "1    This phone worked perfectly for 1 month and then had no service. After going to T-Mobile for help, they discovered this phone was never paid for by the original owner and shut off. This is fraud!!   \n",
       "\n",
       "   Rating  \\\n",
       "0       0   \n",
       "1       0   \n",
       "\n",
       "                                                                                                                                                                                            Clean_Reviews  \n",
       "0  the good news is that it was an unlocked phone. and i was able to go to any carrier to start it up.the bad news is that it does not have a good battery life. the phone loses its charge very quickly!  \n",
       "1    this phone worked perfectly for 1 month and then had no service. after going to t-mobile for help, they discovered this phone was never paid for by the original owner and shut off. this is fraud!!  "
      ]
     },
     "execution_count": 11,
     "metadata": {},
     "output_type": "execute_result"
    }
   ],
   "source": [
    "def text_processing(text):\n",
    "    return text.lower().strip()\n",
    "\n",
    "# Apply function\n",
    "subdf['Clean_Reviews'] = subdf['Reviews'].apply(text_processing)\n",
    "\n",
    "subdf.head(2)"
   ]
  },
  {
   "cell_type": "code",
   "execution_count": 11,
   "id": "e50ddc01-6c0b-437b-923d-7d451029ded5",
   "metadata": {
    "executionInfo": {
     "elapsed": 338,
     "status": "ok",
     "timestamp": 1686725479952,
     "user": {
      "displayName": "Radium-224",
      "userId": "15343147490351956333"
     },
     "user_tz": -480
    },
    "id": "e50ddc01-6c0b-437b-923d-7d451029ded5"
   },
   "outputs": [],
   "source": []
  },
  {
   "cell_type": "markdown",
   "id": "ed43fd4a-df6a-4907-9bdb-dadb87a2fb98",
   "metadata": {
    "id": "ed43fd4a-df6a-4907-9bdb-dadb87a2fb98"
   },
   "source": [
    "### Data Processing for BERT\n",
    "\n",
    "To use BERT properly, the model expects the input to have a certain format. Our goal is to turn the two columns ino the DatasetDict data structure in PyTorch. Once this is done, the BERT model wil be able to read the data and perform unsupervised learning and classification\n",
    "\n",
    "#### Step 1: Transform the two Pandas Series into Lists\n",
    "\n",
    "This step is easy. Once we have these two lists, we will send them into our classic train-test-split function to break them up"
   ]
  },
  {
   "cell_type": "code",
   "execution_count": 12,
   "id": "857c58ea-08f9-41e9-929f-9557a26b7c15",
   "metadata": {
    "executionInfo": {
     "elapsed": 4,
     "status": "ok",
     "timestamp": 1686725480292,
     "user": {
      "displayName": "Radium-224",
      "userId": "15343147490351956333"
     },
     "user_tz": -480
    },
    "id": "857c58ea-08f9-41e9-929f-9557a26b7c15"
   },
   "outputs": [],
   "source": [
    "clean_reviews = subdf['Clean_Reviews'].to_list()\n",
    "target = subdf['Rating'].to_list()\n",
    "\n",
    "X_train, X_test, y_train, y_test = train_test_split(clean_reviews,\n",
    "                                                    target,\n",
    "                                                    random_state = 98)"
   ]
  },
  {
   "cell_type": "markdown",
   "id": "c03afcef-4d95-4ef0-b444-6803627fe654",
   "metadata": {
    "id": "c03afcef-4d95-4ef0-b444-6803627fe654"
   },
   "source": [
    "#### Step 2: Use BERT Tokenizer to tokenize the Text Data\n",
    "\n",
    "As per other NLP models, we need to tokenize the text to numbers"
   ]
  },
  {
   "cell_type": "code",
   "execution_count": 13,
   "id": "319128ad-4bcd-4ff3-b27c-f20e34f46ab1",
   "metadata": {
    "colab": {
     "base_uri": "https://localhost:8080/"
    },
    "executionInfo": {
     "elapsed": 19284,
     "status": "ok",
     "timestamp": 1686725502118,
     "user": {
      "displayName": "Radium-224",
      "userId": "15343147490351956333"
     },
     "user_tz": -480
    },
    "id": "319128ad-4bcd-4ff3-b27c-f20e34f46ab1",
    "outputId": "28c5df39-d346-49ae-99f1-c2c3b6d98a8a"
   },
   "outputs": [
    {
     "name": "stdout",
     "output_type": "stream",
     "text": [
      "CPU times: user 17.7 s, sys: 52.3 ms, total: 17.8 s\n",
      "Wall time: 19.2 s\n"
     ]
    }
   ],
   "source": [
    "%%time\n",
    "X_train_tokenized = bert_tokenizer(X_train, padding = True, truncation = True, max_length = 512)\n",
    "X_test_tokenized = bert_tokenizer(X_test, padding = True, truncation = True, max_length = 512)"
   ]
  },
  {
   "cell_type": "markdown",
   "id": "56a4de31-67fc-4288-bffb-6208edf76292",
   "metadata": {
    "id": "56a4de31-67fc-4288-bffb-6208edf76292"
   },
   "source": [
    "But the interesting thing is that this tokenizer function will return us a dictionary with 3 key-value pair! Let's look at X_train_tokenized"
   ]
  },
  {
   "cell_type": "code",
   "execution_count": 14,
   "id": "b0696aec-f8ed-4b0d-baa7-0a2af4715123",
   "metadata": {
    "colab": {
     "base_uri": "https://localhost:8080/"
    },
    "executionInfo": {
     "elapsed": 39,
     "status": "ok",
     "timestamp": 1686725502119,
     "user": {
      "displayName": "Radium-224",
      "userId": "15343147490351956333"
     },
     "user_tz": -480
    },
    "id": "b0696aec-f8ed-4b0d-baa7-0a2af4715123",
    "outputId": "6508fec8-ccac-4b03-e777-bbfeba09a4ac"
   },
   "outputs": [
    {
     "data": {
      "text/plain": [
       "dict_keys(['input_ids', 'token_type_ids', 'attention_mask'])"
      ]
     },
     "execution_count": 14,
     "metadata": {},
     "output_type": "execute_result"
    }
   ],
   "source": [
    "X_train_tokenized.keys()"
   ]
  },
  {
   "cell_type": "markdown",
   "id": "cf807095-7e5c-492d-bba9-32c7ea0c1e0b",
   "metadata": {
    "id": "cf807095-7e5c-492d-bba9-32c7ea0c1e0b"
   },
   "source": [
    "The most important out of these 3 is the input_ids. This will be the data that will be feed into BERT model in the training loop.\n",
    "\n",
    "#### Step 3: Convert Series into Dataset Dict Structure\n",
    "\n",
    "This is the last step. We will now transfer the input_ids as well as the labels into a dataset dictionary. Please note that the keys in the dataset dictionary _**must**_ be labels and input_ids."
   ]
  },
  {
   "cell_type": "code",
   "execution_count": 15,
   "id": "ab626f4d-96cd-46ac-91f8-0a040a5b7377",
   "metadata": {
    "colab": {
     "base_uri": "https://localhost:8080/"
    },
    "executionInfo": {
     "elapsed": 1230,
     "status": "ok",
     "timestamp": 1686725511180,
     "user": {
      "displayName": "Radium-224",
      "userId": "15343147490351956333"
     },
     "user_tz": -480
    },
    "id": "ab626f4d-96cd-46ac-91f8-0a040a5b7377",
    "outputId": "299a4d8b-b999-49a1-cfc4-26588ece017d"
   },
   "outputs": [
    {
     "name": "stdout",
     "output_type": "stream",
     "text": [
      "Training dataset dict: Dataset({\n",
      "    features: ['label', 'input_ids'],\n",
      "    num_rows: 15000\n",
      "})\n",
      "Testing dataset dict: Dataset({\n",
      "    features: ['label', 'input_ids'],\n",
      "    num_rows: 5000\n",
      "})\n"
     ]
    }
   ],
   "source": [
    "train_dict = {'label' : y_train,\n",
    "              'input_ids' : X_train_tokenized['input_ids']}\n",
    "\n",
    "test_dict = {'label' : y_test,\n",
    "             'input_ids' : X_test_tokenized['input_ids']}\n",
    "\n",
    "# Transfer these dictionaries into Dataset Dict\n",
    "train_dataset = Dataset.from_dict(train_dict)\n",
    "test_dataset = Dataset.from_dict(test_dict)\n",
    "\n",
    "print(f'Training dataset dict: {train_dataset}\\nTesting dataset dict: {test_dataset}')"
   ]
  },
  {
   "cell_type": "code",
   "execution_count": null,
   "id": "65b71a6b-d2a7-4162-bddf-e5b2e67cf34a",
   "metadata": {
    "id": "65b71a6b-d2a7-4162-bddf-e5b2e67cf34a"
   },
   "outputs": [],
   "source": []
  },
  {
   "cell_type": "code",
   "execution_count": null,
   "id": "3de3899f-f44a-427a-97db-ef0b2fe62062",
   "metadata": {
    "id": "3de3899f-f44a-427a-97db-ef0b2fe62062"
   },
   "outputs": [],
   "source": []
  },
  {
   "cell_type": "markdown",
   "id": "725c35e9-2b63-46d9-89d5-ce0ee3bf8171",
   "metadata": {
    "id": "725c35e9-2b63-46d9-89d5-ce0ee3bf8171"
   },
   "source": [
    "### Model Parameters Configurations to Fine-Tune Pretrained Model\n",
    "\n",
    "Now is the fun part! We first need to specify the hyperparameters that we wish to fine tune. Indeed, this following block serve as a kind of 'remote control' to control the behavior of the whole notebook and training loop. Most of these parameters are quite self explanatory. Although they are not exhaustive."
   ]
  },
  {
   "cell_type": "code",
   "execution_count": 16,
   "id": "24ace2bb-d78c-4b05-aa4f-66dd845b7199",
   "metadata": {
    "executionInfo": {
     "elapsed": 460,
     "status": "ok",
     "timestamp": 1686725518907,
     "user": {
      "displayName": "Radium-224",
      "userId": "15343147490351956333"
     },
     "user_tz": -480
    },
    "id": "24ace2bb-d78c-4b05-aa4f-66dd845b7199"
   },
   "outputs": [],
   "source": [
    "Number_of_Epochs = 1\n",
    "Evaluation_Steps = 100\n",
    "Train_Batch_Size = 8\n",
    "Test_Batch_Size = 8\n",
    "weight_decay = 1e-4\n",
    "lr = 1e-5\n",
    "warmup_steps = 100\n",
    "Seed = 45"
   ]
  },
  {
   "cell_type": "markdown",
   "id": "ab8013fd-4f8a-4588-bdfc-18c56ef1046f",
   "metadata": {
    "id": "ab8013fd-4f8a-4588-bdfc-18c56ef1046f"
   },
   "source": [
    "#### Define Trainer Parameters and arguments\n",
    "\n",
    "We will need to declare a function that computes the evaluation metrics where the model will print out at each evaluation step"
   ]
  },
  {
   "cell_type": "code",
   "execution_count": 17,
   "id": "dfcd7fc3-e579-49ce-86dd-628733f22108",
   "metadata": {
    "executionInfo": {
     "elapsed": 3,
     "status": "ok",
     "timestamp": 1686725519344,
     "user": {
      "displayName": "Radium-224",
      "userId": "15343147490351956333"
     },
     "user_tz": -480
    },
    "id": "dfcd7fc3-e579-49ce-86dd-628733f22108"
   },
   "outputs": [],
   "source": [
    "def compute_metrics(p):\n",
    "\n",
    "    logits, labels = p\n",
    "    pred = np.argmax(logits, axis = 1)\n",
    "\n",
    "    auc_score = roc_auc_score(y_true = labels, y_score = pred)\n",
    "    recall    = recall_score(y_true = labels, y_pred = pred)\n",
    "    precision = precision_score(y_true = labels, y_pred = pred)\n",
    "    f1        = f1_score(y_true = labels, y_pred = pred)\n",
    "    accuracy  = accuracy_score(y_true = labels, y_pred = pred)\n",
    "    #confusion = confusion_matrix(y_true=labels, y_pred=pred) # cannot JSON confusion matrix\n",
    "\n",
    "    return {'Accuracy': accuracy, 'Precision': precision, 'Recall': recall, 'f1': f1}\n",
    "\n",
    "\n",
    "# Define Trainer\n",
    "args = TrainingArguments(\n",
    "    output_dir = '/content/',\n",
    "    overwrite_output_dir = True,\n",
    "    evaluation_strategy = 'steps',\n",
    "    save_strategy = 'steps',\n",
    "    eval_steps = Evaluation_Steps,\n",
    "    per_device_train_batch_size = Train_Batch_Size,\n",
    "    per_device_eval_batch_size = Test_Batch_Size,\n",
    "    num_train_epochs = Number_of_Epochs,\n",
    "    weight_decay = weight_decay,\n",
    "    seed = Seed,\n",
    "    save_steps = Evaluation_Steps,\n",
    "    learning_rate = lr,\n",
    "    load_best_model_at_end = True,\n",
    "    gradient_accumulation_steps = 8,\n",
    "    #warmup_steps = warmup_steps\n",
    ")"
   ]
  },
  {
   "cell_type": "markdown",
   "id": "7a95292e-f9e2-4340-ae5d-e6f82c2d1257",
   "metadata": {
    "id": "7a95292e-f9e2-4340-ae5d-e6f82c2d1257"
   },
   "source": [
    "#### Define Trainer Class\n",
    "\n",
    "Here, is where you put all of the ingredients into one class - here is where you input your dataset dicionaries, training arugments and parameters"
   ]
  },
  {
   "cell_type": "code",
   "execution_count": 18,
   "id": "d6af1a21-a85a-4fc8-b944-0b02bceead95",
   "metadata": {
    "executionInfo": {
     "elapsed": 4,
     "status": "ok",
     "timestamp": 1686725520148,
     "user": {
      "displayName": "Radium-224",
      "userId": "15343147490351956333"
     },
     "user_tz": -480
    },
    "id": "d6af1a21-a85a-4fc8-b944-0b02bceead95"
   },
   "outputs": [],
   "source": [
    "data_collator = DataCollatorWithPadding(tokenizer = bert_tokenizer)\n",
    "\n",
    "trainer = Trainer(\n",
    "    model = model,\n",
    "    args = args,\n",
    "    train_dataset = train_dataset,\n",
    "    eval_dataset = test_dataset,\n",
    "    compute_metrics = compute_metrics,\n",
    "    callbacks = [EarlyStoppingCallback(early_stopping_patience = 3)],\n",
    "    data_collator = data_collator,\n",
    ")"
   ]
  },
  {
   "cell_type": "markdown",
   "id": "c0194033-5a94-4dfb-9a72-57cc027ac83f",
   "metadata": {
    "id": "c0194033-5a94-4dfb-9a72-57cc027ac83f"
   },
   "source": [
    "#### Train the Model!"
   ]
  },
  {
   "cell_type": "code",
   "execution_count": 19,
   "id": "f6a156eb-b9d7-43ba-a654-8158acb98db2",
   "metadata": {
    "colab": {
     "base_uri": "https://localhost:8080/",
     "height": 227
    },
    "executionInfo": {
     "elapsed": 1698567,
     "status": "ok",
     "timestamp": 1686727220870,
     "user": {
      "displayName": "Radium-224",
      "userId": "15343147490351956333"
     },
     "user_tz": -480
    },
    "id": "f6a156eb-b9d7-43ba-a654-8158acb98db2",
    "outputId": "51337339-ffdb-4564-bf01-c8ac7d0c7d15"
   },
   "outputs": [
    {
     "name": "stderr",
     "output_type": "stream",
     "text": [
      "/usr/local/lib/python3.10/dist-packages/transformers/optimization.py:411: FutureWarning: This implementation of AdamW is deprecated and will be removed in a future version. Use the PyTorch implementation torch.optim.AdamW instead, or set `no_deprecation_warning=True` to disable this warning\n",
      "  warnings.warn(\n"
     ]
    },
    {
     "data": {
      "text/html": [
       "\n",
       "    <div>\n",
       "      \n",
       "      <progress value='234' max='234' style='width:300px; height:20px; vertical-align: middle;'></progress>\n",
       "      [234/234 28:09, Epoch 0/1]\n",
       "    </div>\n",
       "    <table border=\"1\" class=\"dataframe\">\n",
       "  <thead>\n",
       " <tr style=\"text-align: left;\">\n",
       "      <th>Step</th>\n",
       "      <th>Training Loss</th>\n",
       "      <th>Validation Loss</th>\n",
       "      <th>Accuracy</th>\n",
       "      <th>Precision</th>\n",
       "      <th>Recall</th>\n",
       "      <th>F1</th>\n",
       "    </tr>\n",
       "  </thead>\n",
       "  <tbody>\n",
       "    <tr>\n",
       "      <td>100</td>\n",
       "      <td>No log</td>\n",
       "      <td>0.231898</td>\n",
       "      <td>0.924000</td>\n",
       "      <td>0.948649</td>\n",
       "      <td>0.948649</td>\n",
       "      <td>0.948649</td>\n",
       "    </tr>\n",
       "    <tr>\n",
       "      <td>200</td>\n",
       "      <td>No log</td>\n",
       "      <td>0.184068</td>\n",
       "      <td>0.938800</td>\n",
       "      <td>0.956428</td>\n",
       "      <td>0.961081</td>\n",
       "      <td>0.958749</td>\n",
       "    </tr>\n",
       "  </tbody>\n",
       "</table><p>"
      ],
      "text/plain": [
       "<IPython.core.display.HTML object>"
      ]
     },
     "metadata": {},
     "output_type": "display_data"
    },
    {
     "data": {
      "text/plain": [
       "TrainOutput(global_step=234, training_loss=0.2930770287146935, metrics={'train_runtime': 1698.2733, 'train_samples_per_second': 8.833, 'train_steps_per_second': 0.138, 'total_flos': 3940351165071360.0, 'train_loss': 0.2930770287146935, 'epoch': 1.0})"
      ]
     },
     "execution_count": 19,
     "metadata": {},
     "output_type": "execute_result"
    }
   ],
   "source": [
    "trainer.train()"
   ]
  },
  {
   "cell_type": "code",
   "execution_count": null,
   "id": "875714b8-d382-4e8f-8de4-0997d96c8d3e",
   "metadata": {
    "id": "875714b8-d382-4e8f-8de4-0997d96c8d3e"
   },
   "outputs": [],
   "source": []
  },
  {
   "cell_type": "markdown",
   "id": "1FeDSpvWbEbU",
   "metadata": {
    "id": "1FeDSpvWbEbU"
   },
   "source": [
    "### Model Inference\n",
    "\n",
    "Now that we have trained the model, we can use the unseen dataframe that the model has not seen before - and see how did the model performs\n",
    "\n",
    "We have to perform the same cleaning steps on the test_df with the cleaning function defined earlier"
   ]
  },
  {
   "cell_type": "code",
   "execution_count": 32,
   "id": "lkuqZI4TaRpz",
   "metadata": {
    "colab": {
     "base_uri": "https://localhost:8080/",
     "height": 129
    },
    "executionInfo": {
     "elapsed": 16,
     "status": "ok",
     "timestamp": 1686728161508,
     "user": {
      "displayName": "Radium-224",
      "userId": "15343147490351956333"
     },
     "user_tz": -480
    },
    "id": "lkuqZI4TaRpz",
    "outputId": "efb0bd29-8977-4847-8626-5a9a5d6e477e"
   },
   "outputs": [
    {
     "name": "stdout",
     "output_type": "stream",
     "text": [
      "1542\n"
     ]
    },
    {
     "data": {
      "text/html": [
       "\n",
       "  <div id=\"df-943100f3-8da5-4923-96a4-dcfbb3c133ea\">\n",
       "    <div class=\"colab-df-container\">\n",
       "      <div>\n",
       "<style scoped>\n",
       "    .dataframe tbody tr th:only-of-type {\n",
       "        vertical-align: middle;\n",
       "    }\n",
       "\n",
       "    .dataframe tbody tr th {\n",
       "        vertical-align: top;\n",
       "    }\n",
       "\n",
       "    .dataframe thead th {\n",
       "        text-align: right;\n",
       "    }\n",
       "</style>\n",
       "<table border=\"1\" class=\"dataframe\">\n",
       "  <thead>\n",
       "    <tr style=\"text-align: right;\">\n",
       "      <th></th>\n",
       "      <th>Reviews</th>\n",
       "      <th>Rating</th>\n",
       "      <th>Clean_Reviews</th>\n",
       "    </tr>\n",
       "  </thead>\n",
       "  <tbody>\n",
       "    <tr>\n",
       "      <th>0</th>\n",
       "      <td>Does not work as an unlocked smartphone with any US Carriers. BEWARE!!!</td>\n",
       "      <td>0</td>\n",
       "      <td>does not work as an unlocked smartphone with any us carriers. beware!!!</td>\n",
       "    </tr>\n",
       "    <tr>\n",
       "      <th>1</th>\n",
       "      <td>Just read and work immediately with the new nano chip</td>\n",
       "      <td>1</td>\n",
       "      <td>just read and work immediately with the new nano chip</td>\n",
       "    </tr>\n",
       "  </tbody>\n",
       "</table>\n",
       "</div>\n",
       "      <button class=\"colab-df-convert\" onclick=\"convertToInteractive('df-943100f3-8da5-4923-96a4-dcfbb3c133ea')\"\n",
       "              title=\"Convert this dataframe to an interactive table.\"\n",
       "              style=\"display:none;\">\n",
       "        \n",
       "  <svg xmlns=\"http://www.w3.org/2000/svg\" height=\"24px\"viewBox=\"0 0 24 24\"\n",
       "       width=\"24px\">\n",
       "    <path d=\"M0 0h24v24H0V0z\" fill=\"none\"/>\n",
       "    <path d=\"M18.56 5.44l.94 2.06.94-2.06 2.06-.94-2.06-.94-.94-2.06-.94 2.06-2.06.94zm-11 1L8.5 8.5l.94-2.06 2.06-.94-2.06-.94L8.5 2.5l-.94 2.06-2.06.94zm10 10l.94 2.06.94-2.06 2.06-.94-2.06-.94-.94-2.06-.94 2.06-2.06.94z\"/><path d=\"M17.41 7.96l-1.37-1.37c-.4-.4-.92-.59-1.43-.59-.52 0-1.04.2-1.43.59L10.3 9.45l-7.72 7.72c-.78.78-.78 2.05 0 2.83L4 21.41c.39.39.9.59 1.41.59.51 0 1.02-.2 1.41-.59l7.78-7.78 2.81-2.81c.8-.78.8-2.07 0-2.86zM5.41 20L4 18.59l7.72-7.72 1.47 1.35L5.41 20z\"/>\n",
       "  </svg>\n",
       "      </button>\n",
       "      \n",
       "  <style>\n",
       "    .colab-df-container {\n",
       "      display:flex;\n",
       "      flex-wrap:wrap;\n",
       "      gap: 12px;\n",
       "    }\n",
       "\n",
       "    .colab-df-convert {\n",
       "      background-color: #E8F0FE;\n",
       "      border: none;\n",
       "      border-radius: 50%;\n",
       "      cursor: pointer;\n",
       "      display: none;\n",
       "      fill: #1967D2;\n",
       "      height: 32px;\n",
       "      padding: 0 0 0 0;\n",
       "      width: 32px;\n",
       "    }\n",
       "\n",
       "    .colab-df-convert:hover {\n",
       "      background-color: #E2EBFA;\n",
       "      box-shadow: 0px 1px 2px rgba(60, 64, 67, 0.3), 0px 1px 3px 1px rgba(60, 64, 67, 0.15);\n",
       "      fill: #174EA6;\n",
       "    }\n",
       "\n",
       "    [theme=dark] .colab-df-convert {\n",
       "      background-color: #3B4455;\n",
       "      fill: #D2E3FC;\n",
       "    }\n",
       "\n",
       "    [theme=dark] .colab-df-convert:hover {\n",
       "      background-color: #434B5C;\n",
       "      box-shadow: 0px 1px 3px 1px rgba(0, 0, 0, 0.15);\n",
       "      filter: drop-shadow(0px 1px 2px rgba(0, 0, 0, 0.3));\n",
       "      fill: #FFFFFF;\n",
       "    }\n",
       "  </style>\n",
       "\n",
       "      <script>\n",
       "        const buttonEl =\n",
       "          document.querySelector('#df-943100f3-8da5-4923-96a4-dcfbb3c133ea button.colab-df-convert');\n",
       "        buttonEl.style.display =\n",
       "          google.colab.kernel.accessAllowed ? 'block' : 'none';\n",
       "\n",
       "        async function convertToInteractive(key) {\n",
       "          const element = document.querySelector('#df-943100f3-8da5-4923-96a4-dcfbb3c133ea');\n",
       "          const dataTable =\n",
       "            await google.colab.kernel.invokeFunction('convertToInteractive',\n",
       "                                                     [key], {});\n",
       "          if (!dataTable) return;\n",
       "\n",
       "          const docLinkHtml = 'Like what you see? Visit the ' +\n",
       "            '<a target=\"_blank\" href=https://colab.research.google.com/notebooks/data_table.ipynb>data table notebook</a>'\n",
       "            + ' to learn more about interactive tables.';\n",
       "          element.innerHTML = '';\n",
       "          dataTable['output_type'] = 'display_data';\n",
       "          await google.colab.output.renderOutput(dataTable, element);\n",
       "          const docLink = document.createElement('div');\n",
       "          docLink.innerHTML = docLinkHtml;\n",
       "          element.appendChild(docLink);\n",
       "        }\n",
       "      </script>\n",
       "    </div>\n",
       "  </div>\n",
       "  "
      ],
      "text/plain": [
       "                                                                   Reviews  \\\n",
       "0  Does not work as an unlocked smartphone with any US Carriers. BEWARE!!!   \n",
       "1                    Just read and work immediately with the new nano chip   \n",
       "\n",
       "   Rating  \\\n",
       "0       0   \n",
       "1       1   \n",
       "\n",
       "                                                             Clean_Reviews  \n",
       "0  does not work as an unlocked smartphone with any us carriers. beware!!!  \n",
       "1                    just read and work immediately with the new nano chip  "
      ]
     },
     "execution_count": 32,
     "metadata": {},
     "output_type": "execute_result"
    }
   ],
   "source": [
    "eval_df = test_df[['Reviews', 'Rating']].copy()\n",
    "\n",
    "\n",
    "eval_df['Clean_Reviews'] = eval_df['Reviews'].apply(text_processing)\n",
    "\n",
    "eval_df = eval_df[eval_df['Rating'] != 3].reset_index(drop = True)\n",
    "\n",
    "eval_df.loc[eval_df['Rating'] < 3, 'Rating'] = 0\n",
    "eval_df.loc[eval_df['Rating'] > 3, 'Rating'] = 1\n",
    "\n",
    "eval_df = eval_df[eval_df['Reviews'].notna()].reset_index(drop = True)\n",
    "\n",
    "\n",
    "print(len(eval_df))\n",
    "eval_df.head(2)"
   ]
  },
  {
   "cell_type": "markdown",
   "id": "CHwR5aGM32au",
   "metadata": {
    "id": "CHwR5aGM32au"
   },
   "source": [
    "We will also need to input the text into the dataset dictionary data structure for BERT as well"
   ]
  },
  {
   "cell_type": "code",
   "execution_count": 33,
   "id": "HkbO8xSNvRoO",
   "metadata": {
    "colab": {
     "base_uri": "https://localhost:8080/"
    },
    "executionInfo": {
     "elapsed": 2482,
     "status": "ok",
     "timestamp": 1686728168139,
     "user": {
      "displayName": "Radium-224",
      "userId": "15343147490351956333"
     },
     "user_tz": -480
    },
    "id": "HkbO8xSNvRoO",
    "outputId": "e84a3742-a5d8-4363-c686-caf8f9adf2c8"
   },
   "outputs": [
    {
     "data": {
      "text/plain": [
       "Dataset({\n",
       "    features: ['input_ids'],\n",
       "    num_rows: 1542\n",
       "})"
      ]
     },
     "execution_count": 33,
     "metadata": {},
     "output_type": "execute_result"
    }
   ],
   "source": [
    "reviews_eval = eval_df['Clean_Reviews'].to_list()\n",
    "\n",
    "X_eval_tokenized = bert_tokenizer(reviews_eval, padding = True, truncation = True, max_length = 512)\n",
    "\n",
    "X_eval_dataset = Dataset.from_dict({'input_ids' : X_eval_tokenized['input_ids']})\n",
    "\n",
    "X_eval_dataset"
   ]
  },
  {
   "cell_type": "markdown",
   "id": "yNkD_2GaBoZS",
   "metadata": {
    "id": "yNkD_2GaBoZS"
   },
   "source": [
    "Next, we load in the trained BERT model. You should edit the model_path accordingly"
   ]
  },
  {
   "cell_type": "code",
   "execution_count": 35,
   "id": "2C5y2Jne-hcz",
   "metadata": {
    "executionInfo": {
     "elapsed": 1555,
     "status": "ok",
     "timestamp": 1686728204740,
     "user": {
      "displayName": "Radium-224",
      "userId": "15343147490351956333"
     },
     "user_tz": -480
    },
    "id": "2C5y2Jne-hcz"
   },
   "outputs": [],
   "source": [
    "model_path = '/content/checkpoint-200'\n",
    "model = BertForSequenceClassification.from_pretrained(model_path, num_labels = NO_CLASSES)\n",
    "\n",
    "test_trainer = Trainer(model)"
   ]
  },
  {
   "cell_type": "code",
   "execution_count": 35,
   "id": "A2NdxhPkFcEZ",
   "metadata": {
    "executionInfo": {
     "elapsed": 2,
     "status": "ok",
     "timestamp": 1686728206207,
     "user": {
      "displayName": "Radium-224",
      "userId": "15343147490351956333"
     },
     "user_tz": -480
    },
    "id": "A2NdxhPkFcEZ"
   },
   "outputs": [],
   "source": []
  },
  {
   "cell_type": "markdown",
   "id": "ghlyIcClB21o",
   "metadata": {
    "id": "ghlyIcClB21o"
   },
   "source": [
    "Make predictions!"
   ]
  },
  {
   "cell_type": "code",
   "execution_count": 36,
   "id": "SbTRojtj-hfq",
   "metadata": {
    "colab": {
     "base_uri": "https://localhost:8080/",
     "height": 52
    },
    "executionInfo": {
     "elapsed": 46054,
     "status": "ok",
     "timestamp": 1686728252746,
     "user": {
      "displayName": "Radium-224",
      "userId": "15343147490351956333"
     },
     "user_tz": -480
    },
    "id": "SbTRojtj-hfq",
    "outputId": "c5f65edc-b76d-4bfe-a1b4-bb0c28336830"
   },
   "outputs": [
    {
     "data": {
      "text/html": [],
      "text/plain": [
       "<IPython.core.display.HTML object>"
      ]
     },
     "metadata": {},
     "output_type": "display_data"
    },
    {
     "name": "stdout",
     "output_type": "stream",
     "text": [
      "CPU times: user 44.2 s, sys: 151 ms, total: 44.4 s\n",
      "Wall time: 46.1 s\n"
     ]
    }
   ],
   "source": [
    "%%time\n",
    "raw_pred, _, _ = test_trainer.predict(X_eval_dataset)"
   ]
  },
  {
   "cell_type": "code",
   "execution_count": 37,
   "id": "4IP0uzpbB8FV",
   "metadata": {
    "colab": {
     "base_uri": "https://localhost:8080/",
     "height": 204
    },
    "executionInfo": {
     "elapsed": 24,
     "status": "ok",
     "timestamp": 1686728252747,
     "user": {
      "displayName": "Radium-224",
      "userId": "15343147490351956333"
     },
     "user_tz": -480
    },
    "id": "4IP0uzpbB8FV",
    "outputId": "b3f9f956-38d5-4531-ed87-995838580655"
   },
   "outputs": [
    {
     "data": {
      "text/html": [
       "\n",
       "  <div id=\"df-efaefd15-8e08-4ea7-b8ce-eaaf899ba72b\">\n",
       "    <div class=\"colab-df-container\">\n",
       "      <div>\n",
       "<style scoped>\n",
       "    .dataframe tbody tr th:only-of-type {\n",
       "        vertical-align: middle;\n",
       "    }\n",
       "\n",
       "    .dataframe tbody tr th {\n",
       "        vertical-align: top;\n",
       "    }\n",
       "\n",
       "    .dataframe thead th {\n",
       "        text-align: right;\n",
       "    }\n",
       "</style>\n",
       "<table border=\"1\" class=\"dataframe\">\n",
       "  <thead>\n",
       "    <tr style=\"text-align: right;\">\n",
       "      <th></th>\n",
       "      <th>Reviews</th>\n",
       "      <th>Rating</th>\n",
       "      <th>Clean_Reviews</th>\n",
       "      <th>Predicted_Rating</th>\n",
       "    </tr>\n",
       "  </thead>\n",
       "  <tbody>\n",
       "    <tr>\n",
       "      <th>0</th>\n",
       "      <td>Does not work as an unlocked smartphone with any US Carriers. BEWARE!!!</td>\n",
       "      <td>0</td>\n",
       "      <td>does not work as an unlocked smartphone with any us carriers. beware!!!</td>\n",
       "      <td>0</td>\n",
       "    </tr>\n",
       "    <tr>\n",
       "      <th>1</th>\n",
       "      <td>Just read and work immediately with the new nano chip</td>\n",
       "      <td>1</td>\n",
       "      <td>just read and work immediately with the new nano chip</td>\n",
       "      <td>1</td>\n",
       "    </tr>\n",
       "    <tr>\n",
       "      <th>2</th>\n",
       "      <td>Great device</td>\n",
       "      <td>1</td>\n",
       "      <td>great device</td>\n",
       "      <td>1</td>\n",
       "    </tr>\n",
       "  </tbody>\n",
       "</table>\n",
       "</div>\n",
       "      <button class=\"colab-df-convert\" onclick=\"convertToInteractive('df-efaefd15-8e08-4ea7-b8ce-eaaf899ba72b')\"\n",
       "              title=\"Convert this dataframe to an interactive table.\"\n",
       "              style=\"display:none;\">\n",
       "        \n",
       "  <svg xmlns=\"http://www.w3.org/2000/svg\" height=\"24px\"viewBox=\"0 0 24 24\"\n",
       "       width=\"24px\">\n",
       "    <path d=\"M0 0h24v24H0V0z\" fill=\"none\"/>\n",
       "    <path d=\"M18.56 5.44l.94 2.06.94-2.06 2.06-.94-2.06-.94-.94-2.06-.94 2.06-2.06.94zm-11 1L8.5 8.5l.94-2.06 2.06-.94-2.06-.94L8.5 2.5l-.94 2.06-2.06.94zm10 10l.94 2.06.94-2.06 2.06-.94-2.06-.94-.94-2.06-.94 2.06-2.06.94z\"/><path d=\"M17.41 7.96l-1.37-1.37c-.4-.4-.92-.59-1.43-.59-.52 0-1.04.2-1.43.59L10.3 9.45l-7.72 7.72c-.78.78-.78 2.05 0 2.83L4 21.41c.39.39.9.59 1.41.59.51 0 1.02-.2 1.41-.59l7.78-7.78 2.81-2.81c.8-.78.8-2.07 0-2.86zM5.41 20L4 18.59l7.72-7.72 1.47 1.35L5.41 20z\"/>\n",
       "  </svg>\n",
       "      </button>\n",
       "      \n",
       "  <style>\n",
       "    .colab-df-container {\n",
       "      display:flex;\n",
       "      flex-wrap:wrap;\n",
       "      gap: 12px;\n",
       "    }\n",
       "\n",
       "    .colab-df-convert {\n",
       "      background-color: #E8F0FE;\n",
       "      border: none;\n",
       "      border-radius: 50%;\n",
       "      cursor: pointer;\n",
       "      display: none;\n",
       "      fill: #1967D2;\n",
       "      height: 32px;\n",
       "      padding: 0 0 0 0;\n",
       "      width: 32px;\n",
       "    }\n",
       "\n",
       "    .colab-df-convert:hover {\n",
       "      background-color: #E2EBFA;\n",
       "      box-shadow: 0px 1px 2px rgba(60, 64, 67, 0.3), 0px 1px 3px 1px rgba(60, 64, 67, 0.15);\n",
       "      fill: #174EA6;\n",
       "    }\n",
       "\n",
       "    [theme=dark] .colab-df-convert {\n",
       "      background-color: #3B4455;\n",
       "      fill: #D2E3FC;\n",
       "    }\n",
       "\n",
       "    [theme=dark] .colab-df-convert:hover {\n",
       "      background-color: #434B5C;\n",
       "      box-shadow: 0px 1px 3px 1px rgba(0, 0, 0, 0.15);\n",
       "      filter: drop-shadow(0px 1px 2px rgba(0, 0, 0, 0.3));\n",
       "      fill: #FFFFFF;\n",
       "    }\n",
       "  </style>\n",
       "\n",
       "      <script>\n",
       "        const buttonEl =\n",
       "          document.querySelector('#df-efaefd15-8e08-4ea7-b8ce-eaaf899ba72b button.colab-df-convert');\n",
       "        buttonEl.style.display =\n",
       "          google.colab.kernel.accessAllowed ? 'block' : 'none';\n",
       "\n",
       "        async function convertToInteractive(key) {\n",
       "          const element = document.querySelector('#df-efaefd15-8e08-4ea7-b8ce-eaaf899ba72b');\n",
       "          const dataTable =\n",
       "            await google.colab.kernel.invokeFunction('convertToInteractive',\n",
       "                                                     [key], {});\n",
       "          if (!dataTable) return;\n",
       "\n",
       "          const docLinkHtml = 'Like what you see? Visit the ' +\n",
       "            '<a target=\"_blank\" href=https://colab.research.google.com/notebooks/data_table.ipynb>data table notebook</a>'\n",
       "            + ' to learn more about interactive tables.';\n",
       "          element.innerHTML = '';\n",
       "          dataTable['output_type'] = 'display_data';\n",
       "          await google.colab.output.renderOutput(dataTable, element);\n",
       "          const docLink = document.createElement('div');\n",
       "          docLink.innerHTML = docLinkHtml;\n",
       "          element.appendChild(docLink);\n",
       "        }\n",
       "      </script>\n",
       "    </div>\n",
       "  </div>\n",
       "  "
      ],
      "text/plain": [
       "                                                                   Reviews  \\\n",
       "0  Does not work as an unlocked smartphone with any US Carriers. BEWARE!!!   \n",
       "1                    Just read and work immediately with the new nano chip   \n",
       "2                                                             Great device   \n",
       "\n",
       "   Rating  \\\n",
       "0       0   \n",
       "1       1   \n",
       "2       1   \n",
       "\n",
       "                                                             Clean_Reviews  \\\n",
       "0  does not work as an unlocked smartphone with any us carriers. beware!!!   \n",
       "1                    just read and work immediately with the new nano chip   \n",
       "2                                                             great device   \n",
       "\n",
       "   Predicted_Rating  \n",
       "0                 0  \n",
       "1                 1  \n",
       "2                 1  "
      ]
     },
     "execution_count": 37,
     "metadata": {},
     "output_type": "execute_result"
    }
   ],
   "source": [
    "eval_df['Predicted_Rating'] = np.argmax(raw_pred, axis = 1)\n",
    "eval_df.head(3)"
   ]
  },
  {
   "cell_type": "markdown",
   "id": "t2n1N4dMCPGw",
   "metadata": {
    "id": "t2n1N4dMCPGw"
   },
   "source": [
    "Similary, we can compute all of the evaluation metrics here"
   ]
  },
  {
   "cell_type": "code",
   "execution_count": 39,
   "id": "GUH-jv0EB8H0",
   "metadata": {
    "colab": {
     "base_uri": "https://localhost:8080/"
    },
    "executionInfo": {
     "elapsed": 537,
     "status": "ok",
     "timestamp": 1686728369522,
     "user": {
      "displayName": "Radium-224",
      "userId": "15343147490351956333"
     },
     "user_tz": -480
    },
    "id": "GUH-jv0EB8H0",
    "outputId": "2d68d62b-39ad-49ed-dcd8-c5f6b867e247"
   },
   "outputs": [
    {
     "name": "stdout",
     "output_type": "stream",
     "text": [
      "Final accuracy of model by predicting unseen reviews: 0.9455252918287937\n",
      "Confusion matrix:\n",
      " [[ 338   46]\n",
      " [  38 1120]] \n",
      "\n",
      "AUC Score : 0.923696567357513\n",
      " Recall : 0.9671848013816926\n",
      " Precision : 0.9605488850771869\n",
      " F1 Score : 0.963855421686747\n",
      " \n"
     ]
    }
   ],
   "source": [
    "wrong_ratings = eval_df[eval_df['Rating'] != eval_df['Predicted_Rating']]\n",
    "no_wrong_ratings = len(wrong_ratings)\n",
    "\n",
    "accuracy = 1 - no_wrong_ratings / len(eval_df)\n",
    "\n",
    "print(f'Final accuracy of model by predicting unseen reviews: {accuracy}')\n",
    "\n",
    "target_true = eval_df['Rating']\n",
    "target_predict = eval_df['Predicted_Rating']\n",
    "\n",
    "auc_score = roc_auc_score(y_true = target_true, y_score = target_predict)\n",
    "recall    = recall_score(y_true = target_true, y_pred = target_predict)\n",
    "precision = precision_score(y_true = target_true, y_pred = target_predict)\n",
    "f1        = f1_score(y_true = target_true, y_pred = target_predict)\n",
    "accuracy  = accuracy_score(y_true = target_true, y_pred = target_predict)\n",
    "confusion = confusion_matrix(y_true = target_true, y_pred = target_predict)\n",
    "\n",
    "print('Confusion matrix:\\n', confusion, '\\n')\n",
    "\n",
    "print(f'AUC Score : {auc_score}\\n Recall : {recall}\\n Precision : {precision}\\n F1 Score : {f1}\\n ')"
   ]
  },
  {
   "cell_type": "markdown",
   "id": "36482078-7d84-4fcb-ae0f-53c8f2cf7df4",
   "metadata": {
    "id": "36482078-7d84-4fcb-ae0f-53c8f2cf7df4"
   },
   "source": [
    "### Conclusion\n",
    "\n",
    "It is _this_ simple! We have used the"
   ]
  },
  {
   "cell_type": "code",
   "execution_count": null,
   "id": "4cd4406a-59c8-4b11-8624-7ea41f2c1cb8",
   "metadata": {
    "id": "4cd4406a-59c8-4b11-8624-7ea41f2c1cb8"
   },
   "outputs": [],
   "source": []
  },
  {
   "cell_type": "code",
   "execution_count": null,
   "id": "8a0ea4b9-fb16-473f-9bcf-20bdd1fd1119",
   "metadata": {
    "id": "8a0ea4b9-fb16-473f-9bcf-20bdd1fd1119"
   },
   "outputs": [],
   "source": []
  }
 ],
 "metadata": {
  "accelerator": "GPU",
  "colab": {
   "gpuType": "T4",
   "provenance": []
  },
  "kernelspec": {
   "display_name": "Python 3 (ipykernel)",
   "language": "python",
   "name": "python3"
  },
  "language_info": {
   "codemirror_mode": {
    "name": "ipython",
    "version": 3
   },
   "file_extension": ".py",
   "mimetype": "text/x-python",
   "name": "python",
   "nbconvert_exporter": "python",
   "pygments_lexer": "ipython3",
   "version": "3.10.9"
  },
  "widgets": {
   "application/vnd.jupyter.widget-state+json": {
    "06599ef9586b4058802c1fce3e2d17c7": {
     "model_module": "@jupyter-widgets/base",
     "model_module_version": "1.2.0",
     "model_name": "LayoutModel",
     "state": {
      "_model_module": "@jupyter-widgets/base",
      "_model_module_version": "1.2.0",
      "_model_name": "LayoutModel",
      "_view_count": null,
      "_view_module": "@jupyter-widgets/base",
      "_view_module_version": "1.2.0",
      "_view_name": "LayoutView",
      "align_content": null,
      "align_items": null,
      "align_self": null,
      "border": null,
      "bottom": null,
      "display": null,
      "flex": null,
      "flex_flow": null,
      "grid_area": null,
      "grid_auto_columns": null,
      "grid_auto_flow": null,
      "grid_auto_rows": null,
      "grid_column": null,
      "grid_gap": null,
      "grid_row": null,
      "grid_template_areas": null,
      "grid_template_columns": null,
      "grid_template_rows": null,
      "height": null,
      "justify_content": null,
      "justify_items": null,
      "left": null,
      "margin": null,
      "max_height": null,
      "max_width": null,
      "min_height": null,
      "min_width": null,
      "object_fit": null,
      "object_position": null,
      "order": null,
      "overflow": null,
      "overflow_x": null,
      "overflow_y": null,
      "padding": null,
      "right": null,
      "top": null,
      "visibility": null,
      "width": null
     }
    },
    "0b24353c8d824c54b665cd51e3a8dea2": {
     "model_module": "@jupyter-widgets/controls",
     "model_module_version": "1.5.0",
     "model_name": "HTMLModel",
     "state": {
      "_dom_classes": [],
      "_model_module": "@jupyter-widgets/controls",
      "_model_module_version": "1.5.0",
      "_model_name": "HTMLModel",
      "_view_count": null,
      "_view_module": "@jupyter-widgets/controls",
      "_view_module_version": "1.5.0",
      "_view_name": "HTMLView",
      "description": "",
      "description_tooltip": null,
      "layout": "IPY_MODEL_06599ef9586b4058802c1fce3e2d17c7",
      "placeholder": "​",
      "style": "IPY_MODEL_c670d5a72dc44c42bbbc55207322e4ed",
      "value": " 28.0/28.0 [00:00&lt;00:00, 1.49kB/s]"
     }
    },
    "1c197e82815c44dfa13a570677b98ad3": {
     "model_module": "@jupyter-widgets/base",
     "model_module_version": "1.2.0",
     "model_name": "LayoutModel",
     "state": {
      "_model_module": "@jupyter-widgets/base",
      "_model_module_version": "1.2.0",
      "_model_name": "LayoutModel",
      "_view_count": null,
      "_view_module": "@jupyter-widgets/base",
      "_view_module_version": "1.2.0",
      "_view_name": "LayoutView",
      "align_content": null,
      "align_items": null,
      "align_self": null,
      "border": null,
      "bottom": null,
      "display": null,
      "flex": null,
      "flex_flow": null,
      "grid_area": null,
      "grid_auto_columns": null,
      "grid_auto_flow": null,
      "grid_auto_rows": null,
      "grid_column": null,
      "grid_gap": null,
      "grid_row": null,
      "grid_template_areas": null,
      "grid_template_columns": null,
      "grid_template_rows": null,
      "height": null,
      "justify_content": null,
      "justify_items": null,
      "left": null,
      "margin": null,
      "max_height": null,
      "max_width": null,
      "min_height": null,
      "min_width": null,
      "object_fit": null,
      "object_position": null,
      "order": null,
      "overflow": null,
      "overflow_x": null,
      "overflow_y": null,
      "padding": null,
      "right": null,
      "top": null,
      "visibility": null,
      "width": null
     }
    },
    "218089163647471ea183795d137745f1": {
     "model_module": "@jupyter-widgets/base",
     "model_module_version": "1.2.0",
     "model_name": "LayoutModel",
     "state": {
      "_model_module": "@jupyter-widgets/base",
      "_model_module_version": "1.2.0",
      "_model_name": "LayoutModel",
      "_view_count": null,
      "_view_module": "@jupyter-widgets/base",
      "_view_module_version": "1.2.0",
      "_view_name": "LayoutView",
      "align_content": null,
      "align_items": null,
      "align_self": null,
      "border": null,
      "bottom": null,
      "display": null,
      "flex": null,
      "flex_flow": null,
      "grid_area": null,
      "grid_auto_columns": null,
      "grid_auto_flow": null,
      "grid_auto_rows": null,
      "grid_column": null,
      "grid_gap": null,
      "grid_row": null,
      "grid_template_areas": null,
      "grid_template_columns": null,
      "grid_template_rows": null,
      "height": null,
      "justify_content": null,
      "justify_items": null,
      "left": null,
      "margin": null,
      "max_height": null,
      "max_width": null,
      "min_height": null,
      "min_width": null,
      "object_fit": null,
      "object_position": null,
      "order": null,
      "overflow": null,
      "overflow_x": null,
      "overflow_y": null,
      "padding": null,
      "right": null,
      "top": null,
      "visibility": null,
      "width": null
     }
    },
    "348d22f54fe44de4b7753c8433748ee9": {
     "model_module": "@jupyter-widgets/controls",
     "model_module_version": "1.5.0",
     "model_name": "DescriptionStyleModel",
     "state": {
      "_model_module": "@jupyter-widgets/controls",
      "_model_module_version": "1.5.0",
      "_model_name": "DescriptionStyleModel",
      "_view_count": null,
      "_view_module": "@jupyter-widgets/base",
      "_view_module_version": "1.2.0",
      "_view_name": "StyleView",
      "description_width": ""
     }
    },
    "42575e56e0c54a54985dbc9e3cd3a6e7": {
     "model_module": "@jupyter-widgets/controls",
     "model_module_version": "1.5.0",
     "model_name": "HTMLModel",
     "state": {
      "_dom_classes": [],
      "_model_module": "@jupyter-widgets/controls",
      "_model_module_version": "1.5.0",
      "_model_name": "HTMLModel",
      "_view_count": null,
      "_view_module": "@jupyter-widgets/controls",
      "_view_module_version": "1.5.0",
      "_view_name": "HTMLView",
      "description": "",
      "description_tooltip": null,
      "layout": "IPY_MODEL_44dfaf8c90ec4356a1dd484d304bdd56",
      "placeholder": "​",
      "style": "IPY_MODEL_e2578d0f7a42400196c921f8c32e6397",
      "value": "Downloading (…)lve/main/config.json: 100%"
     }
    },
    "42b7e93e4c28453c8d5072311e0aa173": {
     "model_module": "@jupyter-widgets/controls",
     "model_module_version": "1.5.0",
     "model_name": "HTMLModel",
     "state": {
      "_dom_classes": [],
      "_model_module": "@jupyter-widgets/controls",
      "_model_module_version": "1.5.0",
      "_model_name": "HTMLModel",
      "_view_count": null,
      "_view_module": "@jupyter-widgets/controls",
      "_view_module_version": "1.5.0",
      "_view_name": "HTMLView",
      "description": "",
      "description_tooltip": null,
      "layout": "IPY_MODEL_d1fd000e2ac8432b9b4dcb1f3568238b",
      "placeholder": "​",
      "style": "IPY_MODEL_68a3f50a08414d50861237afb5ef2f0e",
      "value": "Downloading model.safetensors: 100%"
     }
    },
    "44dfaf8c90ec4356a1dd484d304bdd56": {
     "model_module": "@jupyter-widgets/base",
     "model_module_version": "1.2.0",
     "model_name": "LayoutModel",
     "state": {
      "_model_module": "@jupyter-widgets/base",
      "_model_module_version": "1.2.0",
      "_model_name": "LayoutModel",
      "_view_count": null,
      "_view_module": "@jupyter-widgets/base",
      "_view_module_version": "1.2.0",
      "_view_name": "LayoutView",
      "align_content": null,
      "align_items": null,
      "align_self": null,
      "border": null,
      "bottom": null,
      "display": null,
      "flex": null,
      "flex_flow": null,
      "grid_area": null,
      "grid_auto_columns": null,
      "grid_auto_flow": null,
      "grid_auto_rows": null,
      "grid_column": null,
      "grid_gap": null,
      "grid_row": null,
      "grid_template_areas": null,
      "grid_template_columns": null,
      "grid_template_rows": null,
      "height": null,
      "justify_content": null,
      "justify_items": null,
      "left": null,
      "margin": null,
      "max_height": null,
      "max_width": null,
      "min_height": null,
      "min_width": null,
      "object_fit": null,
      "object_position": null,
      "order": null,
      "overflow": null,
      "overflow_x": null,
      "overflow_y": null,
      "padding": null,
      "right": null,
      "top": null,
      "visibility": null,
      "width": null
     }
    },
    "463422d5d81b47f89f80f9bc07fb5848": {
     "model_module": "@jupyter-widgets/controls",
     "model_module_version": "1.5.0",
     "model_name": "HTMLModel",
     "state": {
      "_dom_classes": [],
      "_model_module": "@jupyter-widgets/controls",
      "_model_module_version": "1.5.0",
      "_model_name": "HTMLModel",
      "_view_count": null,
      "_view_module": "@jupyter-widgets/controls",
      "_view_module_version": "1.5.0",
      "_view_name": "HTMLView",
      "description": "",
      "description_tooltip": null,
      "layout": "IPY_MODEL_ce70ed63c9374a01a9cef5fe24d050a5",
      "placeholder": "​",
      "style": "IPY_MODEL_4f1cd05894d3438aba263c6f7f96dfdb",
      "value": "Downloading (…)okenizer_config.json: 100%"
     }
    },
    "4b0895ec606e433085a6f7a7302cb152": {
     "model_module": "@jupyter-widgets/base",
     "model_module_version": "1.2.0",
     "model_name": "LayoutModel",
     "state": {
      "_model_module": "@jupyter-widgets/base",
      "_model_module_version": "1.2.0",
      "_model_name": "LayoutModel",
      "_view_count": null,
      "_view_module": "@jupyter-widgets/base",
      "_view_module_version": "1.2.0",
      "_view_name": "LayoutView",
      "align_content": null,
      "align_items": null,
      "align_self": null,
      "border": null,
      "bottom": null,
      "display": null,
      "flex": null,
      "flex_flow": null,
      "grid_area": null,
      "grid_auto_columns": null,
      "grid_auto_flow": null,
      "grid_auto_rows": null,
      "grid_column": null,
      "grid_gap": null,
      "grid_row": null,
      "grid_template_areas": null,
      "grid_template_columns": null,
      "grid_template_rows": null,
      "height": null,
      "justify_content": null,
      "justify_items": null,
      "left": null,
      "margin": null,
      "max_height": null,
      "max_width": null,
      "min_height": null,
      "min_width": null,
      "object_fit": null,
      "object_position": null,
      "order": null,
      "overflow": null,
      "overflow_x": null,
      "overflow_y": null,
      "padding": null,
      "right": null,
      "top": null,
      "visibility": null,
      "width": null
     }
    },
    "4f1cd05894d3438aba263c6f7f96dfdb": {
     "model_module": "@jupyter-widgets/controls",
     "model_module_version": "1.5.0",
     "model_name": "DescriptionStyleModel",
     "state": {
      "_model_module": "@jupyter-widgets/controls",
      "_model_module_version": "1.5.0",
      "_model_name": "DescriptionStyleModel",
      "_view_count": null,
      "_view_module": "@jupyter-widgets/base",
      "_view_module_version": "1.2.0",
      "_view_name": "StyleView",
      "description_width": ""
     }
    },
    "5439d7fa17eb4b6fad541910c5ce48dc": {
     "model_module": "@jupyter-widgets/base",
     "model_module_version": "1.2.0",
     "model_name": "LayoutModel",
     "state": {
      "_model_module": "@jupyter-widgets/base",
      "_model_module_version": "1.2.0",
      "_model_name": "LayoutModel",
      "_view_count": null,
      "_view_module": "@jupyter-widgets/base",
      "_view_module_version": "1.2.0",
      "_view_name": "LayoutView",
      "align_content": null,
      "align_items": null,
      "align_self": null,
      "border": null,
      "bottom": null,
      "display": null,
      "flex": null,
      "flex_flow": null,
      "grid_area": null,
      "grid_auto_columns": null,
      "grid_auto_flow": null,
      "grid_auto_rows": null,
      "grid_column": null,
      "grid_gap": null,
      "grid_row": null,
      "grid_template_areas": null,
      "grid_template_columns": null,
      "grid_template_rows": null,
      "height": null,
      "justify_content": null,
      "justify_items": null,
      "left": null,
      "margin": null,
      "max_height": null,
      "max_width": null,
      "min_height": null,
      "min_width": null,
      "object_fit": null,
      "object_position": null,
      "order": null,
      "overflow": null,
      "overflow_x": null,
      "overflow_y": null,
      "padding": null,
      "right": null,
      "top": null,
      "visibility": null,
      "width": null
     }
    },
    "54dcd73618e8483ba73d0b4eb221879a": {
     "model_module": "@jupyter-widgets/controls",
     "model_module_version": "1.5.0",
     "model_name": "ProgressStyleModel",
     "state": {
      "_model_module": "@jupyter-widgets/controls",
      "_model_module_version": "1.5.0",
      "_model_name": "ProgressStyleModel",
      "_view_count": null,
      "_view_module": "@jupyter-widgets/base",
      "_view_module_version": "1.2.0",
      "_view_name": "StyleView",
      "bar_color": null,
      "description_width": ""
     }
    },
    "615cdc37f5d041aaa3e2ce281ddc41c9": {
     "model_module": "@jupyter-widgets/base",
     "model_module_version": "1.2.0",
     "model_name": "LayoutModel",
     "state": {
      "_model_module": "@jupyter-widgets/base",
      "_model_module_version": "1.2.0",
      "_model_name": "LayoutModel",
      "_view_count": null,
      "_view_module": "@jupyter-widgets/base",
      "_view_module_version": "1.2.0",
      "_view_name": "LayoutView",
      "align_content": null,
      "align_items": null,
      "align_self": null,
      "border": null,
      "bottom": null,
      "display": null,
      "flex": null,
      "flex_flow": null,
      "grid_area": null,
      "grid_auto_columns": null,
      "grid_auto_flow": null,
      "grid_auto_rows": null,
      "grid_column": null,
      "grid_gap": null,
      "grid_row": null,
      "grid_template_areas": null,
      "grid_template_columns": null,
      "grid_template_rows": null,
      "height": null,
      "justify_content": null,
      "justify_items": null,
      "left": null,
      "margin": null,
      "max_height": null,
      "max_width": null,
      "min_height": null,
      "min_width": null,
      "object_fit": null,
      "object_position": null,
      "order": null,
      "overflow": null,
      "overflow_x": null,
      "overflow_y": null,
      "padding": null,
      "right": null,
      "top": null,
      "visibility": null,
      "width": null
     }
    },
    "68a3f50a08414d50861237afb5ef2f0e": {
     "model_module": "@jupyter-widgets/controls",
     "model_module_version": "1.5.0",
     "model_name": "DescriptionStyleModel",
     "state": {
      "_model_module": "@jupyter-widgets/controls",
      "_model_module_version": "1.5.0",
      "_model_name": "DescriptionStyleModel",
      "_view_count": null,
      "_view_module": "@jupyter-widgets/base",
      "_view_module_version": "1.2.0",
      "_view_name": "StyleView",
      "description_width": ""
     }
    },
    "6a1d492f519d4dc88b39a270d3a4c26e": {
     "model_module": "@jupyter-widgets/base",
     "model_module_version": "1.2.0",
     "model_name": "LayoutModel",
     "state": {
      "_model_module": "@jupyter-widgets/base",
      "_model_module_version": "1.2.0",
      "_model_name": "LayoutModel",
      "_view_count": null,
      "_view_module": "@jupyter-widgets/base",
      "_view_module_version": "1.2.0",
      "_view_name": "LayoutView",
      "align_content": null,
      "align_items": null,
      "align_self": null,
      "border": null,
      "bottom": null,
      "display": null,
      "flex": null,
      "flex_flow": null,
      "grid_area": null,
      "grid_auto_columns": null,
      "grid_auto_flow": null,
      "grid_auto_rows": null,
      "grid_column": null,
      "grid_gap": null,
      "grid_row": null,
      "grid_template_areas": null,
      "grid_template_columns": null,
      "grid_template_rows": null,
      "height": null,
      "justify_content": null,
      "justify_items": null,
      "left": null,
      "margin": null,
      "max_height": null,
      "max_width": null,
      "min_height": null,
      "min_width": null,
      "object_fit": null,
      "object_position": null,
      "order": null,
      "overflow": null,
      "overflow_x": null,
      "overflow_y": null,
      "padding": null,
      "right": null,
      "top": null,
      "visibility": null,
      "width": null
     }
    },
    "781aae746d6f4f15a85ca4c39827447c": {
     "model_module": "@jupyter-widgets/base",
     "model_module_version": "1.2.0",
     "model_name": "LayoutModel",
     "state": {
      "_model_module": "@jupyter-widgets/base",
      "_model_module_version": "1.2.0",
      "_model_name": "LayoutModel",
      "_view_count": null,
      "_view_module": "@jupyter-widgets/base",
      "_view_module_version": "1.2.0",
      "_view_name": "LayoutView",
      "align_content": null,
      "align_items": null,
      "align_self": null,
      "border": null,
      "bottom": null,
      "display": null,
      "flex": null,
      "flex_flow": null,
      "grid_area": null,
      "grid_auto_columns": null,
      "grid_auto_flow": null,
      "grid_auto_rows": null,
      "grid_column": null,
      "grid_gap": null,
      "grid_row": null,
      "grid_template_areas": null,
      "grid_template_columns": null,
      "grid_template_rows": null,
      "height": null,
      "justify_content": null,
      "justify_items": null,
      "left": null,
      "margin": null,
      "max_height": null,
      "max_width": null,
      "min_height": null,
      "min_width": null,
      "object_fit": null,
      "object_position": null,
      "order": null,
      "overflow": null,
      "overflow_x": null,
      "overflow_y": null,
      "padding": null,
      "right": null,
      "top": null,
      "visibility": null,
      "width": null
     }
    },
    "7c65ce964a424cb6aaf32ba040cd54f3": {
     "model_module": "@jupyter-widgets/controls",
     "model_module_version": "1.5.0",
     "model_name": "HTMLModel",
     "state": {
      "_dom_classes": [],
      "_model_module": "@jupyter-widgets/controls",
      "_model_module_version": "1.5.0",
      "_model_name": "HTMLModel",
      "_view_count": null,
      "_view_module": "@jupyter-widgets/controls",
      "_view_module_version": "1.5.0",
      "_view_name": "HTMLView",
      "description": "",
      "description_tooltip": null,
      "layout": "IPY_MODEL_5439d7fa17eb4b6fad541910c5ce48dc",
      "placeholder": "​",
      "style": "IPY_MODEL_b1f1fec237ca4fe795d781a18899f814",
      "value": " 570/570 [00:00&lt;00:00, 42.9kB/s]"
     }
    },
    "7f27a916119e45859c3b09ab2fab528b": {
     "model_module": "@jupyter-widgets/controls",
     "model_module_version": "1.5.0",
     "model_name": "HTMLModel",
     "state": {
      "_dom_classes": [],
      "_model_module": "@jupyter-widgets/controls",
      "_model_module_version": "1.5.0",
      "_model_name": "HTMLModel",
      "_view_count": null,
      "_view_module": "@jupyter-widgets/controls",
      "_view_module_version": "1.5.0",
      "_view_name": "HTMLView",
      "description": "",
      "description_tooltip": null,
      "layout": "IPY_MODEL_b3b258af997a4b2fae93cead6184cf52",
      "placeholder": "​",
      "style": "IPY_MODEL_92d8003b118d40df9a4b99cfbedbfcb1",
      "value": "Downloading (…)solve/main/vocab.txt: 100%"
     }
    },
    "8424840c98ba457d8ffa3ca4a6282bc6": {
     "model_module": "@jupyter-widgets/base",
     "model_module_version": "1.2.0",
     "model_name": "LayoutModel",
     "state": {
      "_model_module": "@jupyter-widgets/base",
      "_model_module_version": "1.2.0",
      "_model_name": "LayoutModel",
      "_view_count": null,
      "_view_module": "@jupyter-widgets/base",
      "_view_module_version": "1.2.0",
      "_view_name": "LayoutView",
      "align_content": null,
      "align_items": null,
      "align_self": null,
      "border": null,
      "bottom": null,
      "display": null,
      "flex": null,
      "flex_flow": null,
      "grid_area": null,
      "grid_auto_columns": null,
      "grid_auto_flow": null,
      "grid_auto_rows": null,
      "grid_column": null,
      "grid_gap": null,
      "grid_row": null,
      "grid_template_areas": null,
      "grid_template_columns": null,
      "grid_template_rows": null,
      "height": null,
      "justify_content": null,
      "justify_items": null,
      "left": null,
      "margin": null,
      "max_height": null,
      "max_width": null,
      "min_height": null,
      "min_width": null,
      "object_fit": null,
      "object_position": null,
      "order": null,
      "overflow": null,
      "overflow_x": null,
      "overflow_y": null,
      "padding": null,
      "right": null,
      "top": null,
      "visibility": null,
      "width": null
     }
    },
    "89cefa4793ec4d6795eaf95e444ca913": {
     "model_module": "@jupyter-widgets/base",
     "model_module_version": "1.2.0",
     "model_name": "LayoutModel",
     "state": {
      "_model_module": "@jupyter-widgets/base",
      "_model_module_version": "1.2.0",
      "_model_name": "LayoutModel",
      "_view_count": null,
      "_view_module": "@jupyter-widgets/base",
      "_view_module_version": "1.2.0",
      "_view_name": "LayoutView",
      "align_content": null,
      "align_items": null,
      "align_self": null,
      "border": null,
      "bottom": null,
      "display": null,
      "flex": null,
      "flex_flow": null,
      "grid_area": null,
      "grid_auto_columns": null,
      "grid_auto_flow": null,
      "grid_auto_rows": null,
      "grid_column": null,
      "grid_gap": null,
      "grid_row": null,
      "grid_template_areas": null,
      "grid_template_columns": null,
      "grid_template_rows": null,
      "height": null,
      "justify_content": null,
      "justify_items": null,
      "left": null,
      "margin": null,
      "max_height": null,
      "max_width": null,
      "min_height": null,
      "min_width": null,
      "object_fit": null,
      "object_position": null,
      "order": null,
      "overflow": null,
      "overflow_x": null,
      "overflow_y": null,
      "padding": null,
      "right": null,
      "top": null,
      "visibility": null,
      "width": null
     }
    },
    "905d1b704da948d1b33bb466cc56b9bc": {
     "model_module": "@jupyter-widgets/base",
     "model_module_version": "1.2.0",
     "model_name": "LayoutModel",
     "state": {
      "_model_module": "@jupyter-widgets/base",
      "_model_module_version": "1.2.0",
      "_model_name": "LayoutModel",
      "_view_count": null,
      "_view_module": "@jupyter-widgets/base",
      "_view_module_version": "1.2.0",
      "_view_name": "LayoutView",
      "align_content": null,
      "align_items": null,
      "align_self": null,
      "border": null,
      "bottom": null,
      "display": null,
      "flex": null,
      "flex_flow": null,
      "grid_area": null,
      "grid_auto_columns": null,
      "grid_auto_flow": null,
      "grid_auto_rows": null,
      "grid_column": null,
      "grid_gap": null,
      "grid_row": null,
      "grid_template_areas": null,
      "grid_template_columns": null,
      "grid_template_rows": null,
      "height": null,
      "justify_content": null,
      "justify_items": null,
      "left": null,
      "margin": null,
      "max_height": null,
      "max_width": null,
      "min_height": null,
      "min_width": null,
      "object_fit": null,
      "object_position": null,
      "order": null,
      "overflow": null,
      "overflow_x": null,
      "overflow_y": null,
      "padding": null,
      "right": null,
      "top": null,
      "visibility": null,
      "width": null
     }
    },
    "92d8003b118d40df9a4b99cfbedbfcb1": {
     "model_module": "@jupyter-widgets/controls",
     "model_module_version": "1.5.0",
     "model_name": "DescriptionStyleModel",
     "state": {
      "_model_module": "@jupyter-widgets/controls",
      "_model_module_version": "1.5.0",
      "_model_name": "DescriptionStyleModel",
      "_view_count": null,
      "_view_module": "@jupyter-widgets/base",
      "_view_module_version": "1.2.0",
      "_view_name": "StyleView",
      "description_width": ""
     }
    },
    "987a15463a6a4a08976633f6ec55f7f6": {
     "model_module": "@jupyter-widgets/controls",
     "model_module_version": "1.5.0",
     "model_name": "FloatProgressModel",
     "state": {
      "_dom_classes": [],
      "_model_module": "@jupyter-widgets/controls",
      "_model_module_version": "1.5.0",
      "_model_name": "FloatProgressModel",
      "_view_count": null,
      "_view_module": "@jupyter-widgets/controls",
      "_view_module_version": "1.5.0",
      "_view_name": "ProgressView",
      "bar_style": "success",
      "description": "",
      "description_tooltip": null,
      "layout": "IPY_MODEL_6a1d492f519d4dc88b39a270d3a4c26e",
      "max": 28,
      "min": 0,
      "orientation": "horizontal",
      "style": "IPY_MODEL_ff56502ad08e45d7a56f6d15ee4a1c38",
      "value": 28
     }
    },
    "9951e65e569e411e947854432d50a836": {
     "model_module": "@jupyter-widgets/controls",
     "model_module_version": "1.5.0",
     "model_name": "HBoxModel",
     "state": {
      "_dom_classes": [],
      "_model_module": "@jupyter-widgets/controls",
      "_model_module_version": "1.5.0",
      "_model_name": "HBoxModel",
      "_view_count": null,
      "_view_module": "@jupyter-widgets/controls",
      "_view_module_version": "1.5.0",
      "_view_name": "HBoxView",
      "box_style": "",
      "children": [
       "IPY_MODEL_463422d5d81b47f89f80f9bc07fb5848",
       "IPY_MODEL_987a15463a6a4a08976633f6ec55f7f6",
       "IPY_MODEL_0b24353c8d824c54b665cd51e3a8dea2"
      ],
      "layout": "IPY_MODEL_1c197e82815c44dfa13a570677b98ad3"
     }
    },
    "9a19cce5cb6f4527886fbfd2dce22eb6": {
     "model_module": "@jupyter-widgets/controls",
     "model_module_version": "1.5.0",
     "model_name": "ProgressStyleModel",
     "state": {
      "_model_module": "@jupyter-widgets/controls",
      "_model_module_version": "1.5.0",
      "_model_name": "ProgressStyleModel",
      "_view_count": null,
      "_view_module": "@jupyter-widgets/base",
      "_view_module_version": "1.2.0",
      "_view_name": "StyleView",
      "bar_color": null,
      "description_width": ""
     }
    },
    "9d083e0821764724853c20b7a1659b3f": {
     "model_module": "@jupyter-widgets/controls",
     "model_module_version": "1.5.0",
     "model_name": "FloatProgressModel",
     "state": {
      "_dom_classes": [],
      "_model_module": "@jupyter-widgets/controls",
      "_model_module_version": "1.5.0",
      "_model_name": "FloatProgressModel",
      "_view_count": null,
      "_view_module": "@jupyter-widgets/controls",
      "_view_module_version": "1.5.0",
      "_view_name": "ProgressView",
      "bar_style": "success",
      "description": "",
      "description_tooltip": null,
      "layout": "IPY_MODEL_4b0895ec606e433085a6f7a7302cb152",
      "max": 440449768,
      "min": 0,
      "orientation": "horizontal",
      "style": "IPY_MODEL_9a19cce5cb6f4527886fbfd2dce22eb6",
      "value": 440449768
     }
    },
    "a165f95910b9458ea5dccdfa3348c9e8": {
     "model_module": "@jupyter-widgets/controls",
     "model_module_version": "1.5.0",
     "model_name": "HTMLModel",
     "state": {
      "_dom_classes": [],
      "_model_module": "@jupyter-widgets/controls",
      "_model_module_version": "1.5.0",
      "_model_name": "HTMLModel",
      "_view_count": null,
      "_view_module": "@jupyter-widgets/controls",
      "_view_module_version": "1.5.0",
      "_view_name": "HTMLView",
      "description": "",
      "description_tooltip": null,
      "layout": "IPY_MODEL_905d1b704da948d1b33bb466cc56b9bc",
      "placeholder": "​",
      "style": "IPY_MODEL_f677d7558bab4626a35c43f088a28847",
      "value": " 232k/232k [00:00&lt;00:00, 1.42MB/s]"
     }
    },
    "ab39b0586f0c48c0bd26defe92cadda4": {
     "model_module": "@jupyter-widgets/controls",
     "model_module_version": "1.5.0",
     "model_name": "HBoxModel",
     "state": {
      "_dom_classes": [],
      "_model_module": "@jupyter-widgets/controls",
      "_model_module_version": "1.5.0",
      "_model_name": "HBoxModel",
      "_view_count": null,
      "_view_module": "@jupyter-widgets/controls",
      "_view_module_version": "1.5.0",
      "_view_name": "HBoxView",
      "box_style": "",
      "children": [
       "IPY_MODEL_7f27a916119e45859c3b09ab2fab528b",
       "IPY_MODEL_fc205a76741b411f8e93e85cd88b5089",
       "IPY_MODEL_a165f95910b9458ea5dccdfa3348c9e8"
      ],
      "layout": "IPY_MODEL_89cefa4793ec4d6795eaf95e444ca913"
     }
    },
    "b1f1fec237ca4fe795d781a18899f814": {
     "model_module": "@jupyter-widgets/controls",
     "model_module_version": "1.5.0",
     "model_name": "DescriptionStyleModel",
     "state": {
      "_model_module": "@jupyter-widgets/controls",
      "_model_module_version": "1.5.0",
      "_model_name": "DescriptionStyleModel",
      "_view_count": null,
      "_view_module": "@jupyter-widgets/base",
      "_view_module_version": "1.2.0",
      "_view_name": "StyleView",
      "description_width": ""
     }
    },
    "b3b258af997a4b2fae93cead6184cf52": {
     "model_module": "@jupyter-widgets/base",
     "model_module_version": "1.2.0",
     "model_name": "LayoutModel",
     "state": {
      "_model_module": "@jupyter-widgets/base",
      "_model_module_version": "1.2.0",
      "_model_name": "LayoutModel",
      "_view_count": null,
      "_view_module": "@jupyter-widgets/base",
      "_view_module_version": "1.2.0",
      "_view_name": "LayoutView",
      "align_content": null,
      "align_items": null,
      "align_self": null,
      "border": null,
      "bottom": null,
      "display": null,
      "flex": null,
      "flex_flow": null,
      "grid_area": null,
      "grid_auto_columns": null,
      "grid_auto_flow": null,
      "grid_auto_rows": null,
      "grid_column": null,
      "grid_gap": null,
      "grid_row": null,
      "grid_template_areas": null,
      "grid_template_columns": null,
      "grid_template_rows": null,
      "height": null,
      "justify_content": null,
      "justify_items": null,
      "left": null,
      "margin": null,
      "max_height": null,
      "max_width": null,
      "min_height": null,
      "min_width": null,
      "object_fit": null,
      "object_position": null,
      "order": null,
      "overflow": null,
      "overflow_x": null,
      "overflow_y": null,
      "padding": null,
      "right": null,
      "top": null,
      "visibility": null,
      "width": null
     }
    },
    "c670d5a72dc44c42bbbc55207322e4ed": {
     "model_module": "@jupyter-widgets/controls",
     "model_module_version": "1.5.0",
     "model_name": "DescriptionStyleModel",
     "state": {
      "_model_module": "@jupyter-widgets/controls",
      "_model_module_version": "1.5.0",
      "_model_name": "DescriptionStyleModel",
      "_view_count": null,
      "_view_module": "@jupyter-widgets/base",
      "_view_module_version": "1.2.0",
      "_view_name": "StyleView",
      "description_width": ""
     }
    },
    "ce70ed63c9374a01a9cef5fe24d050a5": {
     "model_module": "@jupyter-widgets/base",
     "model_module_version": "1.2.0",
     "model_name": "LayoutModel",
     "state": {
      "_model_module": "@jupyter-widgets/base",
      "_model_module_version": "1.2.0",
      "_model_name": "LayoutModel",
      "_view_count": null,
      "_view_module": "@jupyter-widgets/base",
      "_view_module_version": "1.2.0",
      "_view_name": "LayoutView",
      "align_content": null,
      "align_items": null,
      "align_self": null,
      "border": null,
      "bottom": null,
      "display": null,
      "flex": null,
      "flex_flow": null,
      "grid_area": null,
      "grid_auto_columns": null,
      "grid_auto_flow": null,
      "grid_auto_rows": null,
      "grid_column": null,
      "grid_gap": null,
      "grid_row": null,
      "grid_template_areas": null,
      "grid_template_columns": null,
      "grid_template_rows": null,
      "height": null,
      "justify_content": null,
      "justify_items": null,
      "left": null,
      "margin": null,
      "max_height": null,
      "max_width": null,
      "min_height": null,
      "min_width": null,
      "object_fit": null,
      "object_position": null,
      "order": null,
      "overflow": null,
      "overflow_x": null,
      "overflow_y": null,
      "padding": null,
      "right": null,
      "top": null,
      "visibility": null,
      "width": null
     }
    },
    "d1fd000e2ac8432b9b4dcb1f3568238b": {
     "model_module": "@jupyter-widgets/base",
     "model_module_version": "1.2.0",
     "model_name": "LayoutModel",
     "state": {
      "_model_module": "@jupyter-widgets/base",
      "_model_module_version": "1.2.0",
      "_model_name": "LayoutModel",
      "_view_count": null,
      "_view_module": "@jupyter-widgets/base",
      "_view_module_version": "1.2.0",
      "_view_name": "LayoutView",
      "align_content": null,
      "align_items": null,
      "align_self": null,
      "border": null,
      "bottom": null,
      "display": null,
      "flex": null,
      "flex_flow": null,
      "grid_area": null,
      "grid_auto_columns": null,
      "grid_auto_flow": null,
      "grid_auto_rows": null,
      "grid_column": null,
      "grid_gap": null,
      "grid_row": null,
      "grid_template_areas": null,
      "grid_template_columns": null,
      "grid_template_rows": null,
      "height": null,
      "justify_content": null,
      "justify_items": null,
      "left": null,
      "margin": null,
      "max_height": null,
      "max_width": null,
      "min_height": null,
      "min_width": null,
      "object_fit": null,
      "object_position": null,
      "order": null,
      "overflow": null,
      "overflow_x": null,
      "overflow_y": null,
      "padding": null,
      "right": null,
      "top": null,
      "visibility": null,
      "width": null
     }
    },
    "d438a37a79814f02a1554299b281bb9a": {
     "model_module": "@jupyter-widgets/base",
     "model_module_version": "1.2.0",
     "model_name": "LayoutModel",
     "state": {
      "_model_module": "@jupyter-widgets/base",
      "_model_module_version": "1.2.0",
      "_model_name": "LayoutModel",
      "_view_count": null,
      "_view_module": "@jupyter-widgets/base",
      "_view_module_version": "1.2.0",
      "_view_name": "LayoutView",
      "align_content": null,
      "align_items": null,
      "align_self": null,
      "border": null,
      "bottom": null,
      "display": null,
      "flex": null,
      "flex_flow": null,
      "grid_area": null,
      "grid_auto_columns": null,
      "grid_auto_flow": null,
      "grid_auto_rows": null,
      "grid_column": null,
      "grid_gap": null,
      "grid_row": null,
      "grid_template_areas": null,
      "grid_template_columns": null,
      "grid_template_rows": null,
      "height": null,
      "justify_content": null,
      "justify_items": null,
      "left": null,
      "margin": null,
      "max_height": null,
      "max_width": null,
      "min_height": null,
      "min_width": null,
      "object_fit": null,
      "object_position": null,
      "order": null,
      "overflow": null,
      "overflow_x": null,
      "overflow_y": null,
      "padding": null,
      "right": null,
      "top": null,
      "visibility": null,
      "width": null
     }
    },
    "ddb58fdb5cca402eb054b115da087321": {
     "model_module": "@jupyter-widgets/controls",
     "model_module_version": "1.5.0",
     "model_name": "HTMLModel",
     "state": {
      "_dom_classes": [],
      "_model_module": "@jupyter-widgets/controls",
      "_model_module_version": "1.5.0",
      "_model_name": "HTMLModel",
      "_view_count": null,
      "_view_module": "@jupyter-widgets/controls",
      "_view_module_version": "1.5.0",
      "_view_name": "HTMLView",
      "description": "",
      "description_tooltip": null,
      "layout": "IPY_MODEL_d438a37a79814f02a1554299b281bb9a",
      "placeholder": "​",
      "style": "IPY_MODEL_348d22f54fe44de4b7753c8433748ee9",
      "value": " 440M/440M [00:01&lt;00:00, 288MB/s]"
     }
    },
    "e2578d0f7a42400196c921f8c32e6397": {
     "model_module": "@jupyter-widgets/controls",
     "model_module_version": "1.5.0",
     "model_name": "DescriptionStyleModel",
     "state": {
      "_model_module": "@jupyter-widgets/controls",
      "_model_module_version": "1.5.0",
      "_model_name": "DescriptionStyleModel",
      "_view_count": null,
      "_view_module": "@jupyter-widgets/base",
      "_view_module_version": "1.2.0",
      "_view_name": "StyleView",
      "description_width": ""
     }
    },
    "eba6892fa6b44ad484dd8f143f827a0c": {
     "model_module": "@jupyter-widgets/controls",
     "model_module_version": "1.5.0",
     "model_name": "HBoxModel",
     "state": {
      "_dom_classes": [],
      "_model_module": "@jupyter-widgets/controls",
      "_model_module_version": "1.5.0",
      "_model_name": "HBoxModel",
      "_view_count": null,
      "_view_module": "@jupyter-widgets/controls",
      "_view_module_version": "1.5.0",
      "_view_name": "HBoxView",
      "box_style": "",
      "children": [
       "IPY_MODEL_42575e56e0c54a54985dbc9e3cd3a6e7",
       "IPY_MODEL_f4de1252eae5456fa0cf1304e2246cf2",
       "IPY_MODEL_7c65ce964a424cb6aaf32ba040cd54f3"
      ],
      "layout": "IPY_MODEL_781aae746d6f4f15a85ca4c39827447c"
     }
    },
    "f17566da4b834b8a9edd6259a67fc0f3": {
     "model_module": "@jupyter-widgets/controls",
     "model_module_version": "1.5.0",
     "model_name": "ProgressStyleModel",
     "state": {
      "_model_module": "@jupyter-widgets/controls",
      "_model_module_version": "1.5.0",
      "_model_name": "ProgressStyleModel",
      "_view_count": null,
      "_view_module": "@jupyter-widgets/base",
      "_view_module_version": "1.2.0",
      "_view_name": "StyleView",
      "bar_color": null,
      "description_width": ""
     }
    },
    "f4de1252eae5456fa0cf1304e2246cf2": {
     "model_module": "@jupyter-widgets/controls",
     "model_module_version": "1.5.0",
     "model_name": "FloatProgressModel",
     "state": {
      "_dom_classes": [],
      "_model_module": "@jupyter-widgets/controls",
      "_model_module_version": "1.5.0",
      "_model_name": "FloatProgressModel",
      "_view_count": null,
      "_view_module": "@jupyter-widgets/controls",
      "_view_module_version": "1.5.0",
      "_view_name": "ProgressView",
      "bar_style": "success",
      "description": "",
      "description_tooltip": null,
      "layout": "IPY_MODEL_615cdc37f5d041aaa3e2ce281ddc41c9",
      "max": 570,
      "min": 0,
      "orientation": "horizontal",
      "style": "IPY_MODEL_f17566da4b834b8a9edd6259a67fc0f3",
      "value": 570
     }
    },
    "f677d7558bab4626a35c43f088a28847": {
     "model_module": "@jupyter-widgets/controls",
     "model_module_version": "1.5.0",
     "model_name": "DescriptionStyleModel",
     "state": {
      "_model_module": "@jupyter-widgets/controls",
      "_model_module_version": "1.5.0",
      "_model_name": "DescriptionStyleModel",
      "_view_count": null,
      "_view_module": "@jupyter-widgets/base",
      "_view_module_version": "1.2.0",
      "_view_name": "StyleView",
      "description_width": ""
     }
    },
    "f8274652207d456f9492fe0372a657e6": {
     "model_module": "@jupyter-widgets/controls",
     "model_module_version": "1.5.0",
     "model_name": "HBoxModel",
     "state": {
      "_dom_classes": [],
      "_model_module": "@jupyter-widgets/controls",
      "_model_module_version": "1.5.0",
      "_model_name": "HBoxModel",
      "_view_count": null,
      "_view_module": "@jupyter-widgets/controls",
      "_view_module_version": "1.5.0",
      "_view_name": "HBoxView",
      "box_style": "",
      "children": [
       "IPY_MODEL_42b7e93e4c28453c8d5072311e0aa173",
       "IPY_MODEL_9d083e0821764724853c20b7a1659b3f",
       "IPY_MODEL_ddb58fdb5cca402eb054b115da087321"
      ],
      "layout": "IPY_MODEL_218089163647471ea183795d137745f1"
     }
    },
    "fc205a76741b411f8e93e85cd88b5089": {
     "model_module": "@jupyter-widgets/controls",
     "model_module_version": "1.5.0",
     "model_name": "FloatProgressModel",
     "state": {
      "_dom_classes": [],
      "_model_module": "@jupyter-widgets/controls",
      "_model_module_version": "1.5.0",
      "_model_name": "FloatProgressModel",
      "_view_count": null,
      "_view_module": "@jupyter-widgets/controls",
      "_view_module_version": "1.5.0",
      "_view_name": "ProgressView",
      "bar_style": "success",
      "description": "",
      "description_tooltip": null,
      "layout": "IPY_MODEL_8424840c98ba457d8ffa3ca4a6282bc6",
      "max": 231508,
      "min": 0,
      "orientation": "horizontal",
      "style": "IPY_MODEL_54dcd73618e8483ba73d0b4eb221879a",
      "value": 231508
     }
    },
    "ff56502ad08e45d7a56f6d15ee4a1c38": {
     "model_module": "@jupyter-widgets/controls",
     "model_module_version": "1.5.0",
     "model_name": "ProgressStyleModel",
     "state": {
      "_model_module": "@jupyter-widgets/controls",
      "_model_module_version": "1.5.0",
      "_model_name": "ProgressStyleModel",
      "_view_count": null,
      "_view_module": "@jupyter-widgets/base",
      "_view_module_version": "1.2.0",
      "_view_name": "StyleView",
      "bar_color": null,
      "description_width": ""
     }
    }
   }
  }
 },
 "nbformat": 4,
 "nbformat_minor": 5
}
